{
 "cells": [
  {
   "cell_type": "code",
   "execution_count": 1,
   "metadata": {},
   "outputs": [],
   "source": [
    "import numpy as np\n",
    "import pandas as pd\n",
    "import os\n",
    "import os.path as osp\n",
    "import glob\n",
    "import matplotlib.pyplot as plt\n",
    "import seaborn as sns\n",
    "import random\n",
    "import copy\n",
    "import time\n",
    "from tqdm import tqdm\n",
    "from sklearn.model_selection import StratifiedKFold\n",
    "\n",
    "from PIL import Image\n",
    "import torch\n",
    "import torch.nn as nn\n",
    "import torch.optim as optim\n",
    "import torch.utils.data as data\n",
    "import torchvision\n",
    "from torchvision import models, transforms\n",
    "\n",
    "from bi_tempered_loss_pytorch import bi_tempered_logistic_loss"
   ]
  },
  {
   "cell_type": "code",
   "execution_count": 2,
   "metadata": {},
   "outputs": [],
   "source": [
    "seed = 334\n",
    "\n",
    "num_folds = 5\n",
    "\n",
    "rootpath = osp.join('..','input','cassava-leaf-disease-classification')\n",
    "\n",
    "# size, mean, std\n",
    "size = 512\n",
    "mean = (0.485, 0.456, 0.406)\n",
    "std = (0.229, 0.224, 0.225)\n",
    "\n",
    "model_name = 'resnet50'\n",
    "\n",
    "# loss_name = 'CrossEntropyLoss'\n",
    "loss_name = 'BiTemperedLogisticLoss'\n",
    "loss_params = {\n",
    "    't1': 0.2,\n",
    "    't2': 1.2,\n",
    "    'label_smoothing': 0.01,\n",
    "    'num_iters': 5,\n",
    "    'reduction': 'mean'\n",
    "}\n",
    "\n",
    "# mini-batch size\n",
    "batch_size = 3\n",
    "\n",
    "# number of epochs\n",
    "num_epochs = 5\n",
    "\n",
    "set_all = True"
   ]
  },
  {
   "cell_type": "code",
   "execution_count": 3,
   "metadata": {},
   "outputs": [
    {
     "data": {
      "text/html": [
       "<div>\n",
       "<style scoped>\n",
       "    .dataframe tbody tr th:only-of-type {\n",
       "        vertical-align: middle;\n",
       "    }\n",
       "\n",
       "    .dataframe tbody tr th {\n",
       "        vertical-align: top;\n",
       "    }\n",
       "\n",
       "    .dataframe thead th {\n",
       "        text-align: right;\n",
       "    }\n",
       "</style>\n",
       "<table border=\"1\" class=\"dataframe\">\n",
       "  <thead>\n",
       "    <tr style=\"text-align: right;\">\n",
       "      <th></th>\n",
       "      <th>image_id</th>\n",
       "      <th>label</th>\n",
       "      <th>image_path</th>\n",
       "    </tr>\n",
       "  </thead>\n",
       "  <tbody>\n",
       "    <tr>\n",
       "      <th>0</th>\n",
       "      <td>1000015157.jpg</td>\n",
       "      <td>0</td>\n",
       "      <td>..\\input\\cassava-leaf-disease-classification\\t...</td>\n",
       "    </tr>\n",
       "    <tr>\n",
       "      <th>1</th>\n",
       "      <td>1000201771.jpg</td>\n",
       "      <td>3</td>\n",
       "      <td>..\\input\\cassava-leaf-disease-classification\\t...</td>\n",
       "    </tr>\n",
       "    <tr>\n",
       "      <th>2</th>\n",
       "      <td>100042118.jpg</td>\n",
       "      <td>1</td>\n",
       "      <td>..\\input\\cassava-leaf-disease-classification\\t...</td>\n",
       "    </tr>\n",
       "    <tr>\n",
       "      <th>3</th>\n",
       "      <td>1000723321.jpg</td>\n",
       "      <td>1</td>\n",
       "      <td>..\\input\\cassava-leaf-disease-classification\\t...</td>\n",
       "    </tr>\n",
       "    <tr>\n",
       "      <th>4</th>\n",
       "      <td>1000812911.jpg</td>\n",
       "      <td>3</td>\n",
       "      <td>..\\input\\cassava-leaf-disease-classification\\t...</td>\n",
       "    </tr>\n",
       "  </tbody>\n",
       "</table>\n",
       "</div>"
      ],
      "text/plain": [
       "         image_id  label                                         image_path\n",
       "0  1000015157.jpg      0  ..\\input\\cassava-leaf-disease-classification\\t...\n",
       "1  1000201771.jpg      3  ..\\input\\cassava-leaf-disease-classification\\t...\n",
       "2   100042118.jpg      1  ..\\input\\cassava-leaf-disease-classification\\t...\n",
       "3  1000723321.jpg      1  ..\\input\\cassava-leaf-disease-classification\\t...\n",
       "4  1000812911.jpg      3  ..\\input\\cassava-leaf-disease-classification\\t..."
      ]
     },
     "execution_count": 3,
     "metadata": {},
     "output_type": "execute_result"
    }
   ],
   "source": [
    "train = pd.read_csv(osp.join(rootpath, 'train.csv'))\n",
    "train['image_path'] = osp.join(rootpath, 'train_images')\n",
    "train['image_path'] = train['image_path'].str.cat(train['image_id'], sep=osp.sep)\n",
    "train.head()"
   ]
  },
  {
   "cell_type": "code",
   "execution_count": 4,
   "metadata": {},
   "outputs": [],
   "source": [
    "# submission = pd.read_csv(osp.join(rootpath, 'sample_submission.csv'))\n",
    "# submission.head()"
   ]
  },
  {
   "cell_type": "markdown",
   "metadata": {},
   "source": [
    "# Preprocessing Class"
   ]
  },
  {
   "cell_type": "code",
   "execution_count": 5,
   "metadata": {},
   "outputs": [],
   "source": [
    "class ImageTransform():\n",
    "    def __init__(self, resize, mean, std):\n",
    "        self.data_transform = {\n",
    "            'train': transforms.Compose([\n",
    "                transforms.RandomResizedCrop(resize, scale=(0.5, 1.0)),\n",
    "                transforms.RandomHorizontalFlip(),\n",
    "                transforms.ToTensor(),\n",
    "                transforms.Normalize(mean, std)\n",
    "            ]),\n",
    "            'val': transforms.Compose([\n",
    "                transforms.Resize(resize),\n",
    "                transforms.CenterCrop(resize),\n",
    "                transforms.ToTensor(),\n",
    "                transforms.Normalize(mean, std)\n",
    "            ]),\n",
    "            'test': transforms.Compose([\n",
    "                transforms.Resize(resize),\n",
    "                transforms.CenterCrop(resize),\n",
    "                transforms.ToTensor(),\n",
    "                transforms.Normalize(mean, std)\n",
    "            ])\n",
    "        }\n",
    "\n",
    "    def __call__(self, img, phase='train'):\n",
    "        return self.data_transform[phase](img)\n"
   ]
  },
  {
   "cell_type": "markdown",
   "metadata": {},
   "source": [
    "# Dataset Class"
   ]
  },
  {
   "cell_type": "code",
   "execution_count": 6,
   "metadata": {},
   "outputs": [],
   "source": [
    "class CassavaDataset(data.Dataset):\n",
    "    def __init__(self, filepath2label, transform=None, phase='train', output_label=True):\n",
    "        self.file_list = list(filepath2label.keys())\n",
    "        self.transform = transform\n",
    "        self.filepath2label = filepath2label\n",
    "        self.phase = phase\n",
    "        self.output_label = output_label\n",
    "        \n",
    "    def __len__(self):\n",
    "        return len(self.file_list)\n",
    "    \n",
    "    def __getitem__(self, index):\n",
    "        img_path = self.file_list[index]\n",
    "        img = Image.open(img_path)\n",
    "        if self.transform:\n",
    "            img = self.transform(img, self.phase)\n",
    "        if self.output_label:\n",
    "            label = self.filepath2label[img_path]\n",
    "            return img, label\n",
    "        else:\n",
    "            return img        "
   ]
  },
  {
   "cell_type": "code",
   "execution_count": 7,
   "metadata": {},
   "outputs": [],
   "source": [
    "# # 動作確認\n",
    "\n",
    "# index = 0\n",
    "# print(train_dataset.__getitem__(index)[0].size())"
   ]
  },
  {
   "cell_type": "markdown",
   "metadata": {},
   "source": [
    "# DataLoader"
   ]
  },
  {
   "cell_type": "code",
   "execution_count": 8,
   "metadata": {},
   "outputs": [],
   "source": [
    "def get_DataLoader(dataset, batch_size, shuffle=True):\n",
    "    return torch.utils.data.DataLoader(dataset, batch_size, shuffle)"
   ]
  },
  {
   "cell_type": "code",
   "execution_count": 9,
   "metadata": {},
   "outputs": [],
   "source": [
    "# # 動作確認\n",
    "\n",
    "# batch_iterator = iter(dataloaders_dict['train'])\n",
    "# inputs, labels = next(batch_iterator)\n",
    "# print(inputs.size())\n",
    "# print(labels)"
   ]
  },
  {
   "cell_type": "markdown",
   "metadata": {},
   "source": [
    "# Make Network model"
   ]
  },
  {
   "cell_type": "code",
   "execution_count": 10,
   "metadata": {},
   "outputs": [],
   "source": [
    "def get_network(model_name, use_pretrained=True):\n",
    "    if model_name == 'vgg19':\n",
    "        # load pretrained model\n",
    "        net = models.vgg19(pretrained=use_pretrained)\n",
    "\n",
    "        # change output layer\n",
    "        net.classifier[6] = nn.Linear(in_features=4096, out_features=5, bias=True)\n",
    "        \n",
    "        # params to update\n",
    "        update_param_names = ['classifier.6.weight', 'classifier.6.bias']\n",
    "    elif model_name == 'resnet50':\n",
    "        # load pretrained model\n",
    "        net = models.resnet50(pretrained=use_pretrained)\n",
    "\n",
    "        # change output layer\n",
    "        net.fc = nn.Linear(in_features=2048, out_features=5, bias=True)\n",
    "        \n",
    "        # params to update\n",
    "        update_param_names = ['fc.weight', 'fc.bias']\n",
    "    return net, update_param_names\n"
   ]
  },
  {
   "cell_type": "markdown",
   "metadata": {},
   "source": [
    "# Define Loss function"
   ]
  },
  {
   "cell_type": "code",
   "execution_count": 11,
   "metadata": {},
   "outputs": [],
   "source": [
    "class BiTemperedLogisticLoss(nn.Module):\n",
    "    def __init__(self, t1=0.8, t2=1.4, label_smoothing=0.0, num_iters=5, reduction='mean'):\n",
    "        super(BiTemperedLogisticLoss, self).__init__()\n",
    "        self.t1 = t1\n",
    "        self.t2 = t2\n",
    "        self.label_smoothing = label_smoothing\n",
    "        self.num_iters = num_iters\n",
    "        self.reduction = reduction\n",
    "\n",
    "    def forward(self, outputs, labels):\n",
    "        loss = bi_tempered_logistic_loss(outputs, labels, t1=self.t1, t2=self.t2, label_smoothing=self.label_smoothing, num_iters=self.num_iters, reduction=self.reduction)\n",
    "        return loss"
   ]
  },
  {
   "cell_type": "code",
   "execution_count": 12,
   "metadata": {},
   "outputs": [],
   "source": [
    "def get_criterion(loss, params):\n",
    "    if loss == 'CrossEntropyLoss':\n",
    "        criterion = nn.CrossEntropyLoss()\n",
    "    elif loss == 'BiTemperedLogisticLoss':\n",
    "        criterion = BiTemperedLogisticLoss(params['t1'], params['t2'], params['label_smoothing'], params['num_iters'], params['reduction'])\n",
    "    return criterion"
   ]
  },
  {
   "cell_type": "markdown",
   "metadata": {},
   "source": [
    "# Set Optimization"
   ]
  },
  {
   "cell_type": "code",
   "execution_count": 13,
   "metadata": {},
   "outputs": [],
   "source": [
    "def set_params(net, update_param_names, set_all=False):\n",
    "    # add parameters to learn by fine-tuning to params_to_update\n",
    "    params_to_update = []\n",
    "\n",
    "    for name, param in net.named_parameters():\n",
    "        if set_all:\n",
    "            param.requires_grad = True\n",
    "            params_to_update.append(param)\n",
    "        else:\n",
    "            if name in update_param_names:\n",
    "                param.requires_grad = True\n",
    "                params_to_update.append(param)\n",
    "                print(name)\n",
    "            else:\n",
    "                param.requires_grad = False\n",
    "\n",
    "#     print(\"-----------------\")\n",
    "#     print(params_to_update)\n",
    "    \n",
    "    return params_to_update"
   ]
  },
  {
   "cell_type": "code",
   "execution_count": 14,
   "metadata": {},
   "outputs": [],
   "source": [
    "def get_optimizer(params_to_update):\n",
    "    # set optimizer\n",
    "    optimizer = optim.SGD(params=params_to_update, lr=0.001, momentum=0.9)\n",
    "    \n",
    "    return optimizer"
   ]
  },
  {
   "cell_type": "markdown",
   "metadata": {},
   "source": [
    "# Train & Validation"
   ]
  },
  {
   "cell_type": "code",
   "execution_count": 15,
   "metadata": {},
   "outputs": [],
   "source": [
    "def train_model(net, dataloaders_dict, criterion, optimizer, num_epochs, device):\n",
    "    # move network to device\n",
    "    net.to(device)\n",
    "    \n",
    "    # try speeding up\n",
    "    torch.backends.cudnn.benchmark = True\n",
    "    \n",
    "    best_model_wts = copy.deepcopy(net.state_dict())\n",
    "    best_acc = 0.0\n",
    "    \n",
    "    # LOOP: epoch\n",
    "    epoch_result_dict = {'train': {'loss': np.array([]), 'acc': np.array([])}, 'val': {'loss': np.array([]), 'acc': np.array([])}}\n",
    "    for epoch in tqdm(range(num_epochs)):\n",
    "        print('Epoch {}/{}'.format(epoch+1, num_epochs))\n",
    "        print('--------------------')\n",
    "        \n",
    "        # LOOP: train & valid at each epoch\n",
    "        for phase in ['train', 'val']:\n",
    "            if phase == 'train':\n",
    "                net.train()   # set train mode\n",
    "            else:\n",
    "                net.eval()   # set validation mode\n",
    "            \n",
    "            epoch_loss = 0.0   # sum of epoch loss\n",
    "            epoch_corrects = 0   # number of epoch correctness\n",
    "            \n",
    "            # training at epoch = 0 is omitted to confirm the verification performance when unlearned.\n",
    "#             if (epoch == 0) and (phase == 'train'):\n",
    "#                 continue\n",
    "            \n",
    "            # LOOP: mini-batch\n",
    "            for inputs, labels in dataloaders_dict[phase]:\n",
    "                # move inputs, labels to device\n",
    "                inputs = inputs.to(device)\n",
    "                labels = labels.to(device)\n",
    "                \n",
    "                # initialize optimizer\n",
    "                optimizer.zero_grad()\n",
    "                \n",
    "                # forward\n",
    "                with torch.set_grad_enabled(phase == 'train'):\n",
    "                    outputs = net(inputs)\n",
    "                    loss = criterion(outputs, labels)   # calc loss\n",
    "                    _, preds = torch.max(outputs, 1)   # get predicted label\n",
    "                    \n",
    "                    # when train, run back propagation\n",
    "                    if phase == 'train':\n",
    "                        loss.backward()\n",
    "                        optimizer.step()\n",
    "                    \n",
    "                    # calc iteration result\n",
    "                    epoch_loss += loss.item() * inputs.size(0)\n",
    "                    epoch_corrects += torch.sum(preds == labels.data).item()\n",
    "            \n",
    "            # print loss & accuracy in each epoch\n",
    "            epoch_loss = epoch_loss / len(dataloaders_dict[phase].dataset)\n",
    "            epoch_acc = float(epoch_corrects) / len(dataloaders_dict[phase].dataset)\n",
    "            print('{} Loss: {:.4f} Acc: {:.4f}'.format(phase, epoch_loss, epoch_acc))\n",
    "\n",
    "            epoch_result_dict[phase]['loss'] = np.append(epoch_result_dict[phase]['loss'], epoch_loss)\n",
    "            epoch_result_dict[phase]['acc'] = np.append(epoch_result_dict[phase]['acc'], epoch_acc)\n",
    "            \n",
    "            # deep copy the model\n",
    "            if phase == 'val' and epoch_acc >= best_acc:\n",
    "                best_acc = epoch_acc\n",
    "                best_model_wts = copy.deepcopy(net.state_dict())\n",
    "\n",
    "    net.load_state_dict(best_model_wts)\n",
    "    return net, epoch_result_dict"
   ]
  },
  {
   "cell_type": "markdown",
   "metadata": {},
   "source": [
    "# Inference"
   ]
  },
  {
   "cell_type": "code",
   "execution_count": 16,
   "metadata": {},
   "outputs": [],
   "source": [
    "def inference_test_data(net, dataloader, device):\n",
    "    all_preds = np.array([], dtype=int)\n",
    "    net.eval()\n",
    "    for inputs in tqdm(dataloader):\n",
    "        inputs = inputs.to(device).float()\n",
    "        outputs = net(inputs)\n",
    "        _, preds = torch.max(outputs, 1)   # get predicted label\n",
    "        preds = preds.detach().cpu().numpy()\n",
    "        all_preds = np.append(all_preds, preds)\n",
    "    return all_preds"
   ]
  },
  {
   "cell_type": "markdown",
   "metadata": {},
   "source": [
    "# Utils"
   ]
  },
  {
   "cell_type": "code",
   "execution_count": 17,
   "metadata": {},
   "outputs": [],
   "source": [
    "def set_random_seed(seed):\n",
    "    # set random seed\n",
    "    random.seed(seed)\n",
    "    os.environ['PYTHONHASHSEED'] = str(seed)\n",
    "    np.random.seed(seed)\n",
    "    torch.manual_seed(seed)\n",
    "    torch.cuda.manual_seed(seed)\n",
    "    torch.backends.cudnn.deterministic = True"
   ]
  },
  {
   "cell_type": "code",
   "execution_count": 18,
   "metadata": {},
   "outputs": [],
   "source": [
    "def make_datapath_list(rootpath, phase='train'):\n",
    "    target_path = osp.join(rootpath, phase+'_images', '*.jpg')\n",
    "\n",
    "    path_list = []\n",
    "    for path in glob.glob(target_path):\n",
    "        path_list.append(path)\n",
    "    return path_list"
   ]
  },
  {
   "cell_type": "code",
   "execution_count": 19,
   "metadata": {},
   "outputs": [],
   "source": [
    "def make_filename_info(title, ext, model_name, fold, loss_name, num_epochs, batch_size, size, set_all):\n",
    "    filename = title+'_'+model_name+'_fold'+str(fold)+'_loss'+loss_name+'_epoch'+str(num_epochs)+'_batchsize'+str(batch_size)+'_imgsize'+str(size)+'_allparams'+str(set_all)+ext\n",
    "    return filename"
   ]
  },
  {
   "cell_type": "markdown",
   "metadata": {},
   "source": [
    "# main"
   ]
  },
  {
   "cell_type": "code",
   "execution_count": 20,
   "metadata": {},
   "outputs": [
    {
     "name": "stderr",
     "output_type": "stream",
     "text": [
      "0it [00:00, ?it/s]"
     ]
    },
    {
     "name": "stdout",
     "output_type": "stream",
     "text": [
      "use device:  cuda:0\n"
     ]
    },
    {
     "name": "stderr",
     "output_type": "stream",
     "text": [
      "\n",
      "  0%|                                                                                            | 0/5 [00:00<?, ?it/s]\u001b[A"
     ]
    },
    {
     "name": "stdout",
     "output_type": "stream",
     "text": [
      "Epoch 1/5\n",
      "--------------------\n",
      "train Loss: 0.2224 Acc: 0.7421\n"
     ]
    },
    {
     "name": "stderr",
     "output_type": "stream",
     "text": [
      "\n",
      " 20%|████████████████▌                                                                  | 1/5 [12:50<51:21, 770.28s/it]\u001b[A"
     ]
    },
    {
     "name": "stdout",
     "output_type": "stream",
     "text": [
      "val Loss: 0.1767 Acc: 0.8049\n",
      "Epoch 2/5\n",
      "--------------------\n",
      "train Loss: 0.1624 Acc: 0.8180\n"
     ]
    },
    {
     "name": "stderr",
     "output_type": "stream",
     "text": [
      "\n",
      " 40%|█████████████████████████████████▏                                                 | 2/5 [25:36<38:27, 769.16s/it]\u001b[A"
     ]
    },
    {
     "name": "stdout",
     "output_type": "stream",
     "text": [
      "val Loss: 0.1384 Acc: 0.8491\n",
      "Epoch 3/5\n",
      "--------------------\n",
      "train Loss: 0.1436 Acc: 0.8376\n"
     ]
    },
    {
     "name": "stderr",
     "output_type": "stream",
     "text": [
      "\n",
      " 60%|█████████████████████████████████████████████████▊                                 | 3/5 [38:22<25:36, 768.03s/it]\u001b[A"
     ]
    },
    {
     "name": "stdout",
     "output_type": "stream",
     "text": [
      "val Loss: 0.1280 Acc: 0.8584\n",
      "Epoch 4/5\n",
      "--------------------\n",
      "train Loss: 0.1318 Acc: 0.8536\n"
     ]
    },
    {
     "name": "stderr",
     "output_type": "stream",
     "text": [
      "\n",
      " 80%|██████████████████████████████████████████████████████████████████▍                | 4/5 [51:08<12:47, 767.53s/it]\u001b[A"
     ]
    },
    {
     "name": "stdout",
     "output_type": "stream",
     "text": [
      "val Loss: 0.1269 Acc: 0.8603\n",
      "Epoch 5/5\n",
      "--------------------\n",
      "train Loss: 0.1248 Acc: 0.8604\n"
     ]
    },
    {
     "name": "stderr",
     "output_type": "stream",
     "text": [
      "\n",
      "100%|█████████████████████████████████████████████████████████████████████████████████| 5/5 [1:03:57<00:00, 767.59s/it]\u001b[A"
     ]
    },
    {
     "name": "stdout",
     "output_type": "stream",
     "text": [
      "val Loss: 0.1122 Acc: 0.8806\n"
     ]
    },
    {
     "name": "stderr",
     "output_type": "stream",
     "text": [
      "\n"
     ]
    },
    {
     "data": {
      "image/png": "[encoded data removed]",
      "text/plain": [
       "<Figure size 432x288 with 1 Axes>"
      ]
     },
     "metadata": {
      "needs_background": "light"
     },
     "output_type": "display_data"
    },
    {
     "data": {
      "image/png": "[encoded data removed]",
      "text/plain": [
       "<Figure size 432x288 with 1 Axes>"
      ]
     },
     "metadata": {
      "needs_background": "light"
     },
     "output_type": "display_data"
    },
    {
     "name": "stderr",
     "output_type": "stream",
     "text": [
      "1it [1:04:00, 3840.11s/it]\n",
      "100%|████████████████████████████████████████████████████████████████████████████████████| 1/1 [00:00<00:00,  1.29it/s]\n"
     ]
    }
   ],
   "source": [
    "if __name__ == \"__main__\":\n",
    "    set_random_seed(seed)\n",
    "    \n",
    "    # device setting\n",
    "    device = torch.device(\"cuda:0\" if torch.cuda.is_available() else \"cpu\")\n",
    "    print(\"use device: \", device)\n",
    "\n",
    "    # CV loop\n",
    "    folds = StratifiedKFold(n_splits=num_folds, shuffle=True, random_state=seed).split(np.arange(train.shape[0]), train.label.values)\n",
    "    \n",
    "    for fold, (train_idx, val_idx) in tqdm(enumerate(folds)):\n",
    "        time_start = time.time()\n",
    "        if fold > 0:\n",
    "            break\n",
    "        \n",
    "        # Dataset\n",
    "        train_filepath2label = dict(zip(train.loc[train_idx, :].image_path, train.loc[train_idx, :].label))\n",
    "        val_filepath2label = dict(zip(train.loc[val_idx, :].image_path, train.loc[val_idx, :].label))\n",
    "\n",
    "        train_dataset = CassavaDataset(train_filepath2label, ImageTransform(size, mean, std), 'train', True)\n",
    "        val_dataset = CassavaDataset(val_filepath2label, ImageTransform(size, mean, std), 'val', True)\n",
    "        \n",
    "        # DataLoader\n",
    "        train_dataloader = get_DataLoader(train_dataset, batch_size, True)\n",
    "        val_dataloader = get_DataLoader(val_dataset, batch_size, True)\n",
    "        dataloaders_dict = {'train': train_dataloader, 'val': val_dataloader}\n",
    "        \n",
    "        # get NetWork model\n",
    "        use_pretrained = True\n",
    "        net, update_param_names = get_network(model_name, use_pretrained)\n",
    "        \n",
    "        # set train mode\n",
    "        net.train()\n",
    "\n",
    "        # criterion\n",
    "        criterion = get_criterion(loss_name, loss_params)\n",
    "\n",
    "        # get optimizer\n",
    "        params_to_update = set_params(net, update_param_names, set_all)\n",
    "        optimizer = get_optimizer(params_to_update)\n",
    "        \n",
    "        # train & valid\n",
    "        net, epoch_result_dict = train_model(net, dataloaders_dict, criterion, optimizer, num_epochs, device)\n",
    "        \n",
    "        elapsed_time = time.time() - time_start\n",
    "        print(\"Fold{} Running time:{}\".format(fold, elapsed_time) + \"[sec]\")\n",
    "        \n",
    "        # plot train & val loss (each epoch)\n",
    "        figname = make_filename_info('loss', '.png', model_name, fold, loss_name, num_epochs, batch_size, size, set_all)\n",
    "        plt.plot(range(len(epoch_result_dict['train']['loss'])), epoch_result_dict['train']['loss'], label='train loss', linewidth=2, marker='D')\n",
    "        plt.plot(range(len(epoch_result_dict['val']['loss'])), epoch_result_dict['val']['loss'], label='valid loss', linewidth=2, marker='D')\n",
    "        plt.xlabel('epoch')\n",
    "        plt.ylabel('loss')\n",
    "        plt.legend()\n",
    "        plt.savefig(osp.join('fig', figname))\n",
    "        plt.show()\n",
    "\n",
    "        # plot train & val ACC (each epoch)\n",
    "        figname = make_filename_info('acc', '.png', model_name, fold, loss_name, num_epochs, batch_size, size, set_all)\n",
    "        plt.plot(range(len(epoch_result_dict['train']['acc'])), epoch_result_dict['train']['acc'], label='train acc', linewidth=2, marker='D')\n",
    "        plt.plot(range(len(epoch_result_dict['val']['acc'])), epoch_result_dict['val']['acc'], label='valid acc', linewidth=2, marker='D')\n",
    "        plt.xlabel('epoch')\n",
    "        plt.ylabel('acc')\n",
    "        plt.legend()\n",
    "        plt.savefig(osp.join('fig', figname))\n",
    "        plt.show()\n",
    "\n",
    "        # save model\n",
    "        filename = make_filename_info('model', '.pth', model_name, fold, loss_name, num_epochs, batch_size, size, set_all)\n",
    "        save_path = osp.join('trained_model', filename)\n",
    "        torch.save(net.state_dict(), save_path)\n",
    "\n",
    "    # prediction for test dataset\n",
    "    test_datalist = make_datapath_list(rootpath, 'test')\n",
    "    test_filepath2label = dict(zip(test_datalist, [0] * len(test_datalist)))\n",
    "    test_dataset = CassavaDataset(test_filepath2label, ImageTransform(size, mean, std), 'test', False)\n",
    "    test_dataloader = get_DataLoader(test_dataset, batch_size, False)\n",
    "    \n",
    "    test_preds = inference_test_data(net, test_dataloader, device)\n",
    "    \n",
    "    # make submission.csv\n",
    "    submission = pd.DataFrame({'image_id': [osp.basename(k) for k in test_datalist], 'label': test_preds})\n",
    "    submission.to_csv('submission.csv', index=False)"
   ]
  }
 ],
 "metadata": {
  "kernelspec": {
   "display_name": "Python 3",
   "language": "python",
   "name": "python3"
  },
  "language_info": {
   "codemirror_mode": {
    "name": "ipython",
    "version": 3
   },
   "file_extension": ".py",
   "mimetype": "text/x-python",
   "name": "python",
   "nbconvert_exporter": "python",
   "pygments_lexer": "ipython3",
   "version": "3.8.3"
  }
 },
 "nbformat": 4,
 "nbformat_minor": 4
}
