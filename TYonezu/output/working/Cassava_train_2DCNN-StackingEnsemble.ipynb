{
 "cells": [
  {
   "cell_type": "markdown",
   "metadata": {},
   "source": [
    "# **Cassava Stacking Ensemble CNN**\n",
    "2021/02/14 written by T.Yonezu"
   ]
  },
  {
   "cell_type": "code",
   "execution_count": 1,
   "metadata": {},
   "outputs": [],
   "source": [
    "%load_ext autoreload\n",
    "%autoreload 2\n",
    "\n",
    "import torch\n",
    "from torch.utils.data import DataLoader, Dataset\n",
    "\n",
    "import numpy as np \n",
    "import matplotlib.pyplot as plt\n",
    "import pandas as pd\n",
    "import glob \n",
    "import os\n",
    "from tqdm import tqdm\n",
    "\n",
    "from cassava_dataset import *\n",
    "from augmentation import *\n",
    "from my_nn_trainer import *\n",
    "from my_loss import BiTemperedLogisticLoss\n",
    "\n",
    "import warnings\n",
    "warnings.simplefilter('ignore')"
   ]
  },
  {
   "cell_type": "code",
   "execution_count": 2,
   "metadata": {},
   "outputs": [],
   "source": [
    "INPUT_DIR = os.path.join(\"..\",\"..\",\"input\")"
   ]
  },
  {
   "cell_type": "markdown",
   "metadata": {},
   "source": [
    "### **Configuration**"
   ]
  },
  {
   "cell_type": "code",
   "execution_count": 3,
   "metadata": {},
   "outputs": [],
   "source": [
    "OPT_NAME = \"Adam\"\n",
    "\n",
    "LOSS_NAME = \"BiTLLoss\"\n",
    "#LOSS_NAME = \"CELoss\"\n",
    "\n",
    "BATCH_SIZE = 1000"
   ]
  },
  {
   "cell_type": "markdown",
   "metadata": {},
   "source": [
    "### **make Dataset**"
   ]
  },
  {
   "cell_type": "code",
   "execution_count": 4,
   "metadata": {},
   "outputs": [
    {
     "data": {
      "text/plain": [
       "['..\\\\..\\\\input\\\\stacking_ensemble_data\\\\resnet50',\n",
       " '..\\\\..\\\\input\\\\stacking_ensemble_data\\\\tf_efficientnet_b1_ns',\n",
       " '..\\\\..\\\\input\\\\stacking_ensemble_data\\\\tf_efficientnet_b4_ns',\n",
       " '..\\\\..\\\\input\\\\stacking_ensemble_data\\\\tf_efficientnet_b5_ns']"
      ]
     },
     "execution_count": 4,
     "metadata": {},
     "output_type": "execute_result"
    }
   ],
   "source": [
    "#glob.glob(os.path.join(INPUT_DIR,\"stacking_ensemble_data\",\"*\"))\n",
    "model_list = [\n",
    " '..\\\\..\\\\input\\\\stacking_ensemble_data\\\\resnet50',\n",
    "# '..\\\\..\\\\input\\\\stacking_ensemble_data\\\\resnext50_32x4d',\n",
    "# '..\\\\..\\\\input\\\\stacking_ensemble_data\\\\seresnext50_32x4d',\n",
    " '..\\\\..\\\\input\\\\stacking_ensemble_data\\\\tf_efficientnet_b1_ns',\n",
    "# '..\\\\..\\\\input\\\\stacking_ensemble_data\\\\tf_efficientnet_b3_ns',\n",
    " '..\\\\..\\\\input\\\\stacking_ensemble_data\\\\tf_efficientnet_b4_ns',\n",
    " '..\\\\..\\\\input\\\\stacking_ensemble_data\\\\tf_efficientnet_b5_ns'\n",
    "]\n",
    "\n",
    "model_list"
   ]
  },
  {
   "cell_type": "code",
   "execution_count": 5,
   "metadata": {},
   "outputs": [
    {
     "data": {
      "text/html": [
       "<div>\n",
       "<style scoped>\n",
       "    .dataframe tbody tr th:only-of-type {\n",
       "        vertical-align: middle;\n",
       "    }\n",
       "\n",
       "    .dataframe tbody tr th {\n",
       "        vertical-align: top;\n",
       "    }\n",
       "\n",
       "    .dataframe thead th {\n",
       "        text-align: right;\n",
       "    }\n",
       "</style>\n",
       "<table border=\"1\" class=\"dataframe\">\n",
       "  <thead>\n",
       "    <tr style=\"text-align: right;\">\n",
       "      <th></th>\n",
       "      <th>resnet50-c0_proba</th>\n",
       "      <th>resnet50-c1_proba</th>\n",
       "      <th>resnet50-c2_proba</th>\n",
       "      <th>resnet50-c3_proba</th>\n",
       "      <th>resnet50-c4_proba</th>\n",
       "      <th>tf_efficientnet_b1_ns-c0_proba</th>\n",
       "      <th>tf_efficientnet_b1_ns-c1_proba</th>\n",
       "      <th>tf_efficientnet_b1_ns-c2_proba</th>\n",
       "      <th>tf_efficientnet_b1_ns-c3_proba</th>\n",
       "      <th>tf_efficientnet_b1_ns-c4_proba</th>\n",
       "      <th>...</th>\n",
       "      <th>tf_efficientnet_b4_ns-c1_proba</th>\n",
       "      <th>tf_efficientnet_b4_ns-c2_proba</th>\n",
       "      <th>tf_efficientnet_b4_ns-c3_proba</th>\n",
       "      <th>tf_efficientnet_b4_ns-c4_proba</th>\n",
       "      <th>tf_efficientnet_b5_ns-c0_proba</th>\n",
       "      <th>tf_efficientnet_b5_ns-c1_proba</th>\n",
       "      <th>tf_efficientnet_b5_ns-c2_proba</th>\n",
       "      <th>tf_efficientnet_b5_ns-c3_proba</th>\n",
       "      <th>tf_efficientnet_b5_ns-c4_proba</th>\n",
       "      <th>label</th>\n",
       "    </tr>\n",
       "  </thead>\n",
       "  <tbody>\n",
       "    <tr>\n",
       "      <th>0</th>\n",
       "      <td>9.660430e-10</td>\n",
       "      <td>1.476140e-08</td>\n",
       "      <td>2.769000e-07</td>\n",
       "      <td>1.000000</td>\n",
       "      <td>2.211294e-09</td>\n",
       "      <td>7.780925e-07</td>\n",
       "      <td>3.205784e-07</td>\n",
       "      <td>2.359537e-06</td>\n",
       "      <td>0.999986</td>\n",
       "      <td>1.061610e-05</td>\n",
       "      <td>...</td>\n",
       "      <td>8.827715e-12</td>\n",
       "      <td>4.113909e-11</td>\n",
       "      <td>1.000000</td>\n",
       "      <td>9.307120e-11</td>\n",
       "      <td>1.975049e-07</td>\n",
       "      <td>5.442644e-07</td>\n",
       "      <td>1.253155e-06</td>\n",
       "      <td>0.999997</td>\n",
       "      <td>6.288963e-07</td>\n",
       "      <td>3.0</td>\n",
       "    </tr>\n",
       "    <tr>\n",
       "      <th>1</th>\n",
       "      <td>1.357933e-05</td>\n",
       "      <td>2.775435e-05</td>\n",
       "      <td>9.884184e-01</td>\n",
       "      <td>0.000613</td>\n",
       "      <td>1.092685e-02</td>\n",
       "      <td>6.645226e-04</td>\n",
       "      <td>4.767717e-04</td>\n",
       "      <td>9.597803e-01</td>\n",
       "      <td>0.003533</td>\n",
       "      <td>3.554523e-02</td>\n",
       "      <td>...</td>\n",
       "      <td>2.008299e-03</td>\n",
       "      <td>9.527927e-01</td>\n",
       "      <td>0.004517</td>\n",
       "      <td>3.638878e-02</td>\n",
       "      <td>8.024587e-04</td>\n",
       "      <td>4.801068e-04</td>\n",
       "      <td>8.903761e-01</td>\n",
       "      <td>0.008444</td>\n",
       "      <td>9.989742e-02</td>\n",
       "      <td>2.0</td>\n",
       "    </tr>\n",
       "    <tr>\n",
       "      <th>2</th>\n",
       "      <td>2.317385e-09</td>\n",
       "      <td>1.064725e-05</td>\n",
       "      <td>3.250399e-06</td>\n",
       "      <td>0.999986</td>\n",
       "      <td>5.376766e-10</td>\n",
       "      <td>6.412039e-08</td>\n",
       "      <td>1.219352e-06</td>\n",
       "      <td>1.929583e-06</td>\n",
       "      <td>0.999997</td>\n",
       "      <td>1.245647e-07</td>\n",
       "      <td>...</td>\n",
       "      <td>2.274946e-04</td>\n",
       "      <td>4.506631e-04</td>\n",
       "      <td>0.999311</td>\n",
       "      <td>6.188137e-06</td>\n",
       "      <td>3.603334e-07</td>\n",
       "      <td>2.593379e-04</td>\n",
       "      <td>3.810736e-05</td>\n",
       "      <td>0.999701</td>\n",
       "      <td>7.166085e-07</td>\n",
       "      <td>3.0</td>\n",
       "    </tr>\n",
       "    <tr>\n",
       "      <th>3</th>\n",
       "      <td>1.630498e-09</td>\n",
       "      <td>2.336278e-07</td>\n",
       "      <td>5.083764e-06</td>\n",
       "      <td>0.999995</td>\n",
       "      <td>1.484585e-09</td>\n",
       "      <td>3.279894e-11</td>\n",
       "      <td>5.130617e-10</td>\n",
       "      <td>7.625981e-11</td>\n",
       "      <td>1.000000</td>\n",
       "      <td>5.450043e-11</td>\n",
       "      <td>...</td>\n",
       "      <td>7.792757e-10</td>\n",
       "      <td>5.419011e-10</td>\n",
       "      <td>1.000000</td>\n",
       "      <td>6.472086e-11</td>\n",
       "      <td>9.910337e-09</td>\n",
       "      <td>5.003481e-08</td>\n",
       "      <td>2.118291e-09</td>\n",
       "      <td>1.000000</td>\n",
       "      <td>5.871680e-09</td>\n",
       "      <td>3.0</td>\n",
       "    </tr>\n",
       "    <tr>\n",
       "      <th>4</th>\n",
       "      <td>1.024597e-07</td>\n",
       "      <td>9.999533e-01</td>\n",
       "      <td>7.167890e-07</td>\n",
       "      <td>0.000046</td>\n",
       "      <td>2.768457e-08</td>\n",
       "      <td>1.325643e-04</td>\n",
       "      <td>9.992921e-01</td>\n",
       "      <td>9.812938e-05</td>\n",
       "      <td>0.000322</td>\n",
       "      <td>1.549834e-04</td>\n",
       "      <td>...</td>\n",
       "      <td>9.979163e-01</td>\n",
       "      <td>8.632378e-04</td>\n",
       "      <td>0.000380</td>\n",
       "      <td>4.697928e-04</td>\n",
       "      <td>2.218937e-05</td>\n",
       "      <td>9.999232e-01</td>\n",
       "      <td>1.520590e-05</td>\n",
       "      <td>0.000007</td>\n",
       "      <td>3.269783e-05</td>\n",
       "      <td>1.0</td>\n",
       "    </tr>\n",
       "    <tr>\n",
       "      <th>...</th>\n",
       "      <td>...</td>\n",
       "      <td>...</td>\n",
       "      <td>...</td>\n",
       "      <td>...</td>\n",
       "      <td>...</td>\n",
       "      <td>...</td>\n",
       "      <td>...</td>\n",
       "      <td>...</td>\n",
       "      <td>...</td>\n",
       "      <td>...</td>\n",
       "      <td>...</td>\n",
       "      <td>...</td>\n",
       "      <td>...</td>\n",
       "      <td>...</td>\n",
       "      <td>...</td>\n",
       "      <td>...</td>\n",
       "      <td>...</td>\n",
       "      <td>...</td>\n",
       "      <td>...</td>\n",
       "      <td>...</td>\n",
       "      <td>...</td>\n",
       "    </tr>\n",
       "    <tr>\n",
       "      <th>21392</th>\n",
       "      <td>2.405553e-04</td>\n",
       "      <td>5.428724e-01</td>\n",
       "      <td>1.357525e-03</td>\n",
       "      <td>0.455362</td>\n",
       "      <td>1.672799e-04</td>\n",
       "      <td>6.438458e-04</td>\n",
       "      <td>8.206483e-01</td>\n",
       "      <td>1.982889e-04</td>\n",
       "      <td>0.167705</td>\n",
       "      <td>1.080508e-02</td>\n",
       "      <td>...</td>\n",
       "      <td>9.593705e-01</td>\n",
       "      <td>1.881186e-03</td>\n",
       "      <td>0.015611</td>\n",
       "      <td>1.849925e-02</td>\n",
       "      <td>2.890997e-04</td>\n",
       "      <td>9.958012e-01</td>\n",
       "      <td>4.173641e-04</td>\n",
       "      <td>0.002747</td>\n",
       "      <td>7.454866e-04</td>\n",
       "      <td>1.0</td>\n",
       "    </tr>\n",
       "    <tr>\n",
       "      <th>21393</th>\n",
       "      <td>1.448970e-02</td>\n",
       "      <td>7.055876e-02</td>\n",
       "      <td>1.256430e-02</td>\n",
       "      <td>0.708801</td>\n",
       "      <td>1.935862e-01</td>\n",
       "      <td>2.199224e-06</td>\n",
       "      <td>8.800630e-06</td>\n",
       "      <td>2.612033e-05</td>\n",
       "      <td>0.999938</td>\n",
       "      <td>2.507066e-05</td>\n",
       "      <td>...</td>\n",
       "      <td>6.434574e-05</td>\n",
       "      <td>6.807243e-04</td>\n",
       "      <td>0.999151</td>\n",
       "      <td>9.003587e-05</td>\n",
       "      <td>3.123372e-04</td>\n",
       "      <td>1.989218e-04</td>\n",
       "      <td>6.228488e-03</td>\n",
       "      <td>0.987249</td>\n",
       "      <td>6.011625e-03</td>\n",
       "      <td>3.0</td>\n",
       "    </tr>\n",
       "    <tr>\n",
       "      <th>21394</th>\n",
       "      <td>1.087766e-07</td>\n",
       "      <td>3.949097e-05</td>\n",
       "      <td>1.429512e-02</td>\n",
       "      <td>0.985665</td>\n",
       "      <td>9.159906e-08</td>\n",
       "      <td>6.572399e-05</td>\n",
       "      <td>1.623268e-05</td>\n",
       "      <td>5.387643e-02</td>\n",
       "      <td>0.945702</td>\n",
       "      <td>3.396930e-04</td>\n",
       "      <td>...</td>\n",
       "      <td>1.373490e-05</td>\n",
       "      <td>4.113743e-03</td>\n",
       "      <td>0.995844</td>\n",
       "      <td>1.490909e-05</td>\n",
       "      <td>4.602800e-04</td>\n",
       "      <td>4.804888e-04</td>\n",
       "      <td>3.121431e-02</td>\n",
       "      <td>0.967263</td>\n",
       "      <td>5.818484e-04</td>\n",
       "      <td>3.0</td>\n",
       "    </tr>\n",
       "    <tr>\n",
       "      <th>21395</th>\n",
       "      <td>3.769438e-08</td>\n",
       "      <td>9.999952e-01</td>\n",
       "      <td>2.560512e-08</td>\n",
       "      <td>0.000005</td>\n",
       "      <td>3.533622e-09</td>\n",
       "      <td>4.419872e-05</td>\n",
       "      <td>9.985771e-01</td>\n",
       "      <td>1.334885e-05</td>\n",
       "      <td>0.001296</td>\n",
       "      <td>6.967030e-05</td>\n",
       "      <td>...</td>\n",
       "      <td>9.977456e-01</td>\n",
       "      <td>3.269041e-05</td>\n",
       "      <td>0.002021</td>\n",
       "      <td>1.602805e-04</td>\n",
       "      <td>1.071888e-05</td>\n",
       "      <td>9.998552e-01</td>\n",
       "      <td>1.016827e-05</td>\n",
       "      <td>0.000068</td>\n",
       "      <td>5.545440e-05</td>\n",
       "      <td>1.0</td>\n",
       "    </tr>\n",
       "    <tr>\n",
       "      <th>21396</th>\n",
       "      <td>2.229204e-07</td>\n",
       "      <td>3.676434e-05</td>\n",
       "      <td>7.676181e-06</td>\n",
       "      <td>0.999955</td>\n",
       "      <td>1.183921e-07</td>\n",
       "      <td>1.661678e-04</td>\n",
       "      <td>1.027890e-03</td>\n",
       "      <td>1.315410e-02</td>\n",
       "      <td>0.985099</td>\n",
       "      <td>5.523434e-04</td>\n",
       "      <td>...</td>\n",
       "      <td>2.199313e-04</td>\n",
       "      <td>1.123467e-03</td>\n",
       "      <td>0.997729</td>\n",
       "      <td>8.957058e-04</td>\n",
       "      <td>3.259767e-06</td>\n",
       "      <td>3.389621e-06</td>\n",
       "      <td>1.014731e-03</td>\n",
       "      <td>0.998958</td>\n",
       "      <td>2.044203e-05</td>\n",
       "      <td>3.0</td>\n",
       "    </tr>\n",
       "  </tbody>\n",
       "</table>\n",
       "<p>21397 rows × 21 columns</p>\n",
       "</div>"
      ],
      "text/plain": [
       "       resnet50-c0_proba  resnet50-c1_proba  resnet50-c2_proba  \\\n",
       "0           9.660430e-10       1.476140e-08       2.769000e-07   \n",
       "1           1.357933e-05       2.775435e-05       9.884184e-01   \n",
       "2           2.317385e-09       1.064725e-05       3.250399e-06   \n",
       "3           1.630498e-09       2.336278e-07       5.083764e-06   \n",
       "4           1.024597e-07       9.999533e-01       7.167890e-07   \n",
       "...                  ...                ...                ...   \n",
       "21392       2.405553e-04       5.428724e-01       1.357525e-03   \n",
       "21393       1.448970e-02       7.055876e-02       1.256430e-02   \n",
       "21394       1.087766e-07       3.949097e-05       1.429512e-02   \n",
       "21395       3.769438e-08       9.999952e-01       2.560512e-08   \n",
       "21396       2.229204e-07       3.676434e-05       7.676181e-06   \n",
       "\n",
       "       resnet50-c3_proba  resnet50-c4_proba  tf_efficientnet_b1_ns-c0_proba  \\\n",
       "0               1.000000       2.211294e-09                    7.780925e-07   \n",
       "1               0.000613       1.092685e-02                    6.645226e-04   \n",
       "2               0.999986       5.376766e-10                    6.412039e-08   \n",
       "3               0.999995       1.484585e-09                    3.279894e-11   \n",
       "4               0.000046       2.768457e-08                    1.325643e-04   \n",
       "...                  ...                ...                             ...   \n",
       "21392           0.455362       1.672799e-04                    6.438458e-04   \n",
       "21393           0.708801       1.935862e-01                    2.199224e-06   \n",
       "21394           0.985665       9.159906e-08                    6.572399e-05   \n",
       "21395           0.000005       3.533622e-09                    4.419872e-05   \n",
       "21396           0.999955       1.183921e-07                    1.661678e-04   \n",
       "\n",
       "       tf_efficientnet_b1_ns-c1_proba  tf_efficientnet_b1_ns-c2_proba  \\\n",
       "0                        3.205784e-07                    2.359537e-06   \n",
       "1                        4.767717e-04                    9.597803e-01   \n",
       "2                        1.219352e-06                    1.929583e-06   \n",
       "3                        5.130617e-10                    7.625981e-11   \n",
       "4                        9.992921e-01                    9.812938e-05   \n",
       "...                               ...                             ...   \n",
       "21392                    8.206483e-01                    1.982889e-04   \n",
       "21393                    8.800630e-06                    2.612033e-05   \n",
       "21394                    1.623268e-05                    5.387643e-02   \n",
       "21395                    9.985771e-01                    1.334885e-05   \n",
       "21396                    1.027890e-03                    1.315410e-02   \n",
       "\n",
       "       tf_efficientnet_b1_ns-c3_proba  tf_efficientnet_b1_ns-c4_proba  ...  \\\n",
       "0                            0.999986                    1.061610e-05  ...   \n",
       "1                            0.003533                    3.554523e-02  ...   \n",
       "2                            0.999997                    1.245647e-07  ...   \n",
       "3                            1.000000                    5.450043e-11  ...   \n",
       "4                            0.000322                    1.549834e-04  ...   \n",
       "...                               ...                             ...  ...   \n",
       "21392                        0.167705                    1.080508e-02  ...   \n",
       "21393                        0.999938                    2.507066e-05  ...   \n",
       "21394                        0.945702                    3.396930e-04  ...   \n",
       "21395                        0.001296                    6.967030e-05  ...   \n",
       "21396                        0.985099                    5.523434e-04  ...   \n",
       "\n",
       "       tf_efficientnet_b4_ns-c1_proba  tf_efficientnet_b4_ns-c2_proba  \\\n",
       "0                        8.827715e-12                    4.113909e-11   \n",
       "1                        2.008299e-03                    9.527927e-01   \n",
       "2                        2.274946e-04                    4.506631e-04   \n",
       "3                        7.792757e-10                    5.419011e-10   \n",
       "4                        9.979163e-01                    8.632378e-04   \n",
       "...                               ...                             ...   \n",
       "21392                    9.593705e-01                    1.881186e-03   \n",
       "21393                    6.434574e-05                    6.807243e-04   \n",
       "21394                    1.373490e-05                    4.113743e-03   \n",
       "21395                    9.977456e-01                    3.269041e-05   \n",
       "21396                    2.199313e-04                    1.123467e-03   \n",
       "\n",
       "       tf_efficientnet_b4_ns-c3_proba  tf_efficientnet_b4_ns-c4_proba  \\\n",
       "0                            1.000000                    9.307120e-11   \n",
       "1                            0.004517                    3.638878e-02   \n",
       "2                            0.999311                    6.188137e-06   \n",
       "3                            1.000000                    6.472086e-11   \n",
       "4                            0.000380                    4.697928e-04   \n",
       "...                               ...                             ...   \n",
       "21392                        0.015611                    1.849925e-02   \n",
       "21393                        0.999151                    9.003587e-05   \n",
       "21394                        0.995844                    1.490909e-05   \n",
       "21395                        0.002021                    1.602805e-04   \n",
       "21396                        0.997729                    8.957058e-04   \n",
       "\n",
       "       tf_efficientnet_b5_ns-c0_proba  tf_efficientnet_b5_ns-c1_proba  \\\n",
       "0                        1.975049e-07                    5.442644e-07   \n",
       "1                        8.024587e-04                    4.801068e-04   \n",
       "2                        3.603334e-07                    2.593379e-04   \n",
       "3                        9.910337e-09                    5.003481e-08   \n",
       "4                        2.218937e-05                    9.999232e-01   \n",
       "...                               ...                             ...   \n",
       "21392                    2.890997e-04                    9.958012e-01   \n",
       "21393                    3.123372e-04                    1.989218e-04   \n",
       "21394                    4.602800e-04                    4.804888e-04   \n",
       "21395                    1.071888e-05                    9.998552e-01   \n",
       "21396                    3.259767e-06                    3.389621e-06   \n",
       "\n",
       "       tf_efficientnet_b5_ns-c2_proba  tf_efficientnet_b5_ns-c3_proba  \\\n",
       "0                        1.253155e-06                        0.999997   \n",
       "1                        8.903761e-01                        0.008444   \n",
       "2                        3.810736e-05                        0.999701   \n",
       "3                        2.118291e-09                        1.000000   \n",
       "4                        1.520590e-05                        0.000007   \n",
       "...                               ...                             ...   \n",
       "21392                    4.173641e-04                        0.002747   \n",
       "21393                    6.228488e-03                        0.987249   \n",
       "21394                    3.121431e-02                        0.967263   \n",
       "21395                    1.016827e-05                        0.000068   \n",
       "21396                    1.014731e-03                        0.998958   \n",
       "\n",
       "       tf_efficientnet_b5_ns-c4_proba  label  \n",
       "0                        6.288963e-07    3.0  \n",
       "1                        9.989742e-02    2.0  \n",
       "2                        7.166085e-07    3.0  \n",
       "3                        5.871680e-09    3.0  \n",
       "4                        3.269783e-05    1.0  \n",
       "...                               ...    ...  \n",
       "21392                    7.454866e-04    1.0  \n",
       "21393                    6.011625e-03    3.0  \n",
       "21394                    5.818484e-04    3.0  \n",
       "21395                    5.545440e-05    1.0  \n",
       "21396                    2.044203e-05    3.0  \n",
       "\n",
       "[21397 rows x 21 columns]"
      ]
     },
     "metadata": {},
     "output_type": "display_data"
    }
   ],
   "source": [
    "def read_csv(path):\n",
    "    df = pd.read_csv(path,header=None,names=[\"label\",\"c0_proba\",\"c1_proba\",\"c2_proba\",\"c3_proba\",\"c4_proba\"])\n",
    "    return df\n",
    "\n",
    "df = []\n",
    "use_col = [\"c0_proba\",\"c1_proba\",\"c2_proba\",\"c3_proba\",\"c4_proba\"]\n",
    "for p in model_list:\n",
    "    \n",
    "    model_name = p.split(os.path.sep)[-1]\n",
    "    \n",
    "    csv_df = pd.concat(map(read_csv,np.sort(glob.glob(os.path.join(p,\"*.csv\")))))\n",
    "    csv_df = csv_df.reset_index(drop=True)\n",
    "    \n",
    "    label = csv_df[\"label\"]\n",
    "    csv_df = csv_df[use_col]\n",
    "    csv_df.columns = [model_name+\"-\"+c for c in csv_df.columns]\n",
    "    \n",
    "    df.append(csv_df)\n",
    "    \n",
    "df = pd.concat(df,axis=1)\n",
    "df[\"label\"] = label\n",
    "\n",
    "display(df)"
   ]
  },
  {
   "cell_type": "code",
   "execution_count": 6,
   "metadata": {},
   "outputs": [],
   "source": [
    "class StackingDataset(data.Dataset):\n",
    "    def __init__(self, df,features,target):\n",
    "        self.df = df\n",
    "        self.target = target\n",
    "        self.features = features\n",
    "        \n",
    "    def __len__(self):\n",
    "        return len(self.df)\n",
    "    \n",
    "    def __getitem__(self, index):\n",
    "        \n",
    "        label = self.df[self.target].values[index]\n",
    "        img = np.array(self.df[features].iloc[index])\n",
    "        img = img.reshape([-1,5])[np.newaxis,:,:]\n",
    "        img = torch.from_numpy(img)\n",
    "\n",
    "        return img.float(), int(label)\n",
    "\n",
    "features = [c for c in df.columns if \"proba\" in c]\n",
    "target = \"label\"\n",
    "\n",
    "\n",
    "from sklearn.model_selection import train_test_split\n",
    "\n",
    "train_df, test_df = train_test_split(df, \n",
    "                                     test_size=0.2,\n",
    "                                     random_state=2021,\n",
    "                                     stratify=df[target])\n",
    "\n",
    "train_dataloader = DataLoader(StackingDataset(train_df,features,target),\n",
    "                              batch_size=BATCH_SIZE,\n",
    "                              shuffle=True)\n",
    "\n",
    "valid_dataloader = DataLoader(StackingDataset(test_df,features,target),\n",
    "                              batch_size=BATCH_SIZE)"
   ]
  },
  {
   "cell_type": "markdown",
   "metadata": {},
   "source": [
    "### **2D-CNN for Stacking Ensemble**"
   ]
  },
  {
   "cell_type": "code",
   "execution_count": 7,
   "metadata": {},
   "outputs": [
    {
     "name": "stdout",
     "output_type": "stream",
     "text": [
      "my2DCNN(\n",
      "  (feature): Sequential(\n",
      "    (0): Conv2d(1, 8, kernel_size=(1, 3), stride=(1, 1))\n",
      "    (1): ReLU(inplace=True)\n",
      "    (2): Conv2d(8, 16, kernel_size=(1, 3), stride=(1, 1))\n",
      "    (3): ReLU(inplace=True)\n",
      "  )\n",
      "  (classifier): Sequential(\n",
      "    (0): Linear(in_features=64, out_features=2048, bias=True)\n",
      "    (1): ReLU(inplace=True)\n",
      "    (2): Dropout(p=0.8, inplace=False)\n",
      "    (3): Linear(in_features=2048, out_features=5, bias=True)\n",
      "  )\n",
      ")\n"
     ]
    }
   ],
   "source": [
    "class my2DCNN(nn.Module):\n",
    "    def __init__(self,model_num):\n",
    "        super().__init__()\n",
    "        \n",
    "        self.feature = nn.Sequential(\n",
    "            nn.Conv2d(1,8,kernel_size=(1,3),stride=1,padding=0),\n",
    "            nn.ReLU(inplace=True),\n",
    "            nn.Conv2d(8,16,kernel_size=(1,3),stride=1,padding=0),\n",
    "            nn.ReLU(inplace=True)\n",
    "        )\n",
    "        \n",
    "        self.classifier = nn.Sequential(\n",
    "            nn.Linear(16*model_num*1,2048),\n",
    "            nn.ReLU(inplace=True),\n",
    "            nn.Dropout(0.8),\n",
    "            nn.Linear(2048,5)\n",
    "        )\n",
    "        \n",
    "        self.model_num = model_num\n",
    "        \n",
    "        \n",
    "    def forward(self,x):\n",
    "        x = self.feature(x)\n",
    "        x = x.view(-1,16*self.model_num*1)\n",
    "        x = self.classifier(x)\n",
    "        \n",
    "        return x\n",
    "    \n",
    "    def check_cnn_size(self,x):\n",
    "        out = self.feature(x)\n",
    "        return out \n",
    "\n",
    "\n",
    "model = my2DCNN(model_num=len(model_list))\n",
    "print(model)\n",
    "MODEL_NAME = \"2D_CNN\""
   ]
  },
  {
   "cell_type": "markdown",
   "metadata": {},
   "source": [
    "### **Optimizer**"
   ]
  },
  {
   "cell_type": "code",
   "execution_count": 8,
   "metadata": {},
   "outputs": [],
   "source": [
    "import torch.optim as optim\n",
    "from torch import nn\n",
    "\n",
    "lr = 0.0001\n",
    "if OPT_NAME == \"SGD\":\n",
    "    optimizer = optim.SGD(model.parameters(), lr=lr)\n",
    "if OPT_NAME == \"Adam\":\n",
    "    optimizer = optim.Adam(model.parameters(), lr=lr)\n",
    "    \n",
    "MODEL_NAME += \"-\"+OPT_NAME+\"(lr%s)\"%lr"
   ]
  },
  {
   "cell_type": "markdown",
   "metadata": {},
   "source": [
    "### **Criterion**"
   ]
  },
  {
   "cell_type": "code",
   "execution_count": 9,
   "metadata": {},
   "outputs": [],
   "source": [
    "if LOSS_NAME == \"BiTLLoss\":\n",
    "    t1,t2,label_smoothing,num_iters,reduction = (0.2,1.2,0.01,5,\"mean\")\n",
    "    criterion = BiTemperedLogisticLoss(t1,t2,label_smoothing,num_iters,reduction)\n",
    "    MODEL_NAME = MODEL_NAME+\"-\"+LOSS_NAME+\"(%s,%s)\"%(t1,t2)\n",
    "    \n",
    "if LOSS_NAME == \"CELoss\":\n",
    "    criterion = nn.CrossEntropyLoss()\n",
    "    MODEL_NAME = MODEL_NAME+\"-\"+LOSS_NAME"
   ]
  },
  {
   "cell_type": "markdown",
   "metadata": {},
   "source": [
    "### **Training**"
   ]
  },
  {
   "cell_type": "code",
   "execution_count": 10,
   "metadata": {},
   "outputs": [
    {
     "name": "stdout",
     "output_type": "stream",
     "text": [
      "2D_CNN-Adam(lr0.0001)-BiTLLoss(0.2,1.2)\n"
     ]
    },
    {
     "name": "stderr",
     "output_type": "stream",
     "text": [
      "  0%|                                                                                          | 0/100 [00:00<?, ?it/s]"
     ]
    },
    {
     "name": "stdout",
     "output_type": "stream",
     "text": [
      "===========================================\n",
      "epoch:  0 \n",
      "\n",
      " > train loss: 0.475285360559916   valid loss: 0.45154132798453356\n",
      " > train acc: 0.45311678448326226   valid acc: 0.6149532710280374\n",
      " > best acc:  -inf\n",
      "   ! best acc updated ! =>  0.6149532710280374\n"
     ]
    },
    {
     "data": {
      "image/png": "[encoded data removed]",
      "text/plain": [
       "<Figure size 720x216 with 2 Axes>"
      ]
     },
     "metadata": {
      "needs_background": "light"
     },
     "output_type": "display_data"
    },
    {
     "name": "stderr",
     "output_type": "stream",
     "text": [
      "  1%|▊                                                                                 | 1/100 [00:26<42:57, 26.04s/it]"
     ]
    },
    {
     "name": "stdout",
     "output_type": "stream",
     "text": [
      "===========================================\n",
      "epoch:  1 \n",
      "\n"
     ]
    },
    {
     "name": "stderr",
     "output_type": "stream",
     "text": [
      "  2%|█▋                                                                                | 2/100 [00:51<42:18, 25.90s/it]"
     ]
    },
    {
     "name": "stdout",
     "output_type": "stream",
     "text": [
      " > train loss: 0.43139455407699456   valid loss: 0.4050127434953351\n",
      " > train acc: 0.6153531576794999   valid acc: 0.6149532710280374\n",
      " > best acc:  0.6149532710280374\n",
      "===========================================\n",
      "epoch:  2 \n",
      "\n"
     ]
    },
    {
     "name": "stderr",
     "output_type": "stream",
     "text": [
      "  3%|██▍                                                                               | 3/100 [01:16<41:35, 25.73s/it]"
     ]
    },
    {
     "name": "stdout",
     "output_type": "stream",
     "text": [
      " > train loss: 0.3850284095222638   valid loss: 0.36001482578081506\n",
      " > train acc: 0.6149442075129987   valid acc: 0.6149532710280374\n",
      " > best acc:  0.6149532710280374\n",
      "===========================================\n",
      "epoch:  3 \n",
      "\n"
     ]
    },
    {
     "name": "stderr",
     "output_type": "stream",
     "text": [
      "  4%|███▎                                                                              | 4/100 [01:41<40:32, 25.34s/it]"
     ]
    },
    {
     "name": "stdout",
     "output_type": "stream",
     "text": [
      " > train loss: 0.34671888537667944   valid loss: 0.33002312634592856\n",
      " > train acc: 0.6149442075129987   valid acc: 0.6149532710280374\n",
      " > best acc:  0.6149532710280374\n",
      "===========================================\n",
      "epoch:  4 \n",
      "\n"
     ]
    },
    {
     "name": "stderr",
     "output_type": "stream",
     "text": [
      "  5%|████                                                                              | 5/100 [02:05<39:41, 25.07s/it]"
     ]
    },
    {
     "name": "stdout",
     "output_type": "stream",
     "text": [
      " > train loss: 0.3236978004303548   valid loss: 0.31399810815525947\n",
      " > train acc: 0.6149442075129987   valid acc: 0.6149532710280374\n",
      " > best acc:  0.6149532710280374\n",
      "===========================================\n",
      "epoch:  5 \n",
      "\n",
      " > train loss: 0.3091581043861678   valid loss: 0.30031121222772333\n",
      " > train acc: 0.6149442075129987   valid acc: 0.6149532710280374\n",
      " > best acc:  0.6149532710280374\n"
     ]
    },
    {
     "data": {
      "image/png": "[encoded data removed]",
      "text/plain": [
       "<Figure size 720x216 with 2 Axes>"
      ]
     },
     "metadata": {
      "needs_background": "light"
     },
     "output_type": "display_data"
    },
    {
     "name": "stderr",
     "output_type": "stream",
     "text": [
      "  6%|████▉                                                                             | 6/100 [02:30<39:13, 25.03s/it]"
     ]
    },
    {
     "name": "stdout",
     "output_type": "stream",
     "text": [
      "===========================================\n",
      "epoch:  6 \n",
      "\n"
     ]
    },
    {
     "name": "stderr",
     "output_type": "stream",
     "text": [
      "  7%|█████▋                                                                            | 7/100 [02:55<38:32, 24.87s/it]"
     ]
    },
    {
     "name": "stdout",
     "output_type": "stream",
     "text": [
      " > train loss: 0.29510893009913375   valid loss: 0.286036308402213\n",
      " > train acc: 0.6151194718700707   valid acc: 0.6149532710280374\n",
      " > best acc:  0.6149532710280374\n",
      "===========================================\n",
      "epoch:  7 \n",
      "\n"
     ]
    },
    {
     "name": "stderr",
     "output_type": "stream",
     "text": [
      "  8%|██████▌                                                                           | 8/100 [03:19<37:51, 24.69s/it]"
     ]
    },
    {
     "name": "stdout",
     "output_type": "stream",
     "text": [
      " > train loss: 0.2807984239706726   valid loss: 0.2712825272127847\n",
      " > train acc: 0.6270958696033183   valid acc: 0.6149532710280374\n",
      " > best acc:  0.6149532710280374\n",
      "===========================================\n",
      "epoch:  8 \n",
      "\n"
     ]
    },
    {
     "name": "stderr",
     "output_type": "stream",
     "text": [
      "  9%|███████▍                                                                          | 9/100 [03:43<37:17, 24.59s/it]"
     ]
    },
    {
     "name": "stdout",
     "output_type": "stream",
     "text": [
      " > train loss: 0.26615594392479697   valid loss: 0.25656593458674776\n",
      " > train acc: 0.66717298592043   valid acc: 0.6913551401869159\n",
      " > best acc:  0.6149532710280374\n",
      "   ! best acc updated ! =>  0.6913551401869159\n",
      "===========================================\n",
      "epoch:  9 \n",
      "\n"
     ]
    },
    {
     "name": "stderr",
     "output_type": "stream",
     "text": [
      " 10%|████████                                                                         | 10/100 [04:08<36:50, 24.57s/it]"
     ]
    },
    {
     "name": "stdout",
     "output_type": "stream",
     "text": [
      " > train loss: 0.25139829953860937   valid loss: 0.24252603558179375\n",
      " > train acc: 0.6922942104340714   valid acc: 0.6953271028037383\n",
      " > best acc:  0.6913551401869159\n",
      "   ! best acc updated ! =>  0.6953271028037383\n",
      "===========================================\n",
      "epoch:  10 \n",
      "\n",
      " > train loss: 0.23778213731469677   valid loss: 0.229328594475149\n",
      " > train acc: 0.6972016124320851   valid acc: 0.6981308411214954\n",
      " > best acc:  0.6953271028037383\n",
      "   ! best acc updated ! =>  0.6981308411214954\n"
     ]
    },
    {
     "data": {
      "image/png": "[encoded data removed]",
      "text/plain": [
       "<Figure size 720x216 with 2 Axes>"
      ]
     },
     "metadata": {
      "needs_background": "light"
     },
     "output_type": "display_data"
    },
    {
     "name": "stderr",
     "output_type": "stream",
     "text": [
      " 11%|████████▉                                                                        | 11/100 [04:33<36:37, 24.69s/it]"
     ]
    },
    {
     "name": "stdout",
     "output_type": "stream",
     "text": [
      "===========================================\n",
      "epoch:  11 \n",
      "\n"
     ]
    },
    {
     "name": "stderr",
     "output_type": "stream",
     "text": [
      " 12%|█████████▋                                                                       | 12/100 [04:57<36:05, 24.60s/it]"
     ]
    },
    {
     "name": "stdout",
     "output_type": "stream",
     "text": [
      " > train loss: 0.2249226988079239   valid loss: 0.21702235644665835\n",
      " > train acc: 0.7047379797861775   valid acc: 0.7011682242990654\n",
      " > best acc:  0.6981308411214954\n",
      "   ! best acc updated ! =>  0.7011682242990654\n",
      "===========================================\n",
      "epoch:  12 \n",
      "\n"
     ]
    },
    {
     "name": "stderr",
     "output_type": "stream",
     "text": [
      " 13%|██████████▌                                                                      | 13/100 [05:22<35:52, 24.74s/it]"
     ]
    },
    {
     "name": "stdout",
     "output_type": "stream",
     "text": [
      " > train loss: 0.2127266178394984   valid loss: 0.2054476332720195\n",
      " > train acc: 0.7277560320149559   valid acc: 0.7724299065420561\n",
      " > best acc:  0.7011682242990654\n",
      "   ! best acc updated ! =>  0.7724299065420561\n",
      "===========================================\n",
      "epoch:  13 \n",
      "\n"
     ]
    },
    {
     "name": "stderr",
     "output_type": "stream",
     "text": [
      " 14%|███████████▎                                                                     | 14/100 [05:47<35:25, 24.72s/it]"
     ]
    },
    {
     "name": "stdout",
     "output_type": "stream",
     "text": [
      " > train loss: 0.20128518501585552   valid loss: 0.19446218306216123\n",
      " > train acc: 0.7635683823099843   valid acc: 0.789018691588785\n",
      " > best acc:  0.7724299065420561\n",
      "   ! best acc updated ! =>  0.789018691588785\n",
      "===========================================\n",
      "epoch:  14 \n",
      "\n"
     ]
    },
    {
     "name": "stderr",
     "output_type": "stream",
     "text": [
      " 15%|████████████▏                                                                    | 15/100 [06:12<35:06, 24.78s/it]"
     ]
    },
    {
     "name": "stdout",
     "output_type": "stream",
     "text": [
      " > train loss: 0.19039341221312855   valid loss: 0.18398679681470462\n",
      " > train acc: 0.7864695916340481   valid acc: 0.7925233644859813\n",
      " > best acc:  0.789018691588785\n",
      "   ! best acc updated ! =>  0.7925233644859813\n",
      "===========================================\n",
      "epoch:  15 \n",
      "\n",
      " > train loss: 0.18065500867215664   valid loss: 0.17413325468513452\n",
      " > train acc: 0.8187182333352807   valid acc: 0.8670560747663552\n",
      " > best acc:  0.7925233644859813\n",
      "   ! best acc updated ! =>  0.8670560747663552\n"
     ]
    },
    {
     "data": {
      "image/png": "[encoded data removed]",
      "text/plain": [
       "<Figure size 720x216 with 2 Axes>"
      ]
     },
     "metadata": {
      "needs_background": "light"
     },
     "output_type": "display_data"
    },
    {
     "name": "stderr",
     "output_type": "stream",
     "text": [
      " 16%|████████████▉                                                                    | 16/100 [06:37<34:41, 24.78s/it]"
     ]
    },
    {
     "name": "stdout",
     "output_type": "stream",
     "text": [
      "===========================================\n",
      "epoch:  16 \n",
      "\n"
     ]
    },
    {
     "name": "stderr",
     "output_type": "stream",
     "text": [
      " 17%|█████████████▊                                                                   | 17/100 [07:01<34:09, 24.69s/it]"
     ]
    },
    {
     "name": "stdout",
     "output_type": "stream",
     "text": [
      " > train loss: 0.17100223058722264   valid loss: 0.16510639054195902\n",
      " > train acc: 0.8541216334638079   valid acc: 0.8698598130841122\n",
      " > best acc:  0.8670560747663552\n",
      "   ! best acc updated ! =>  0.8698598130841122\n",
      "===========================================\n",
      "epoch:  17 \n",
      "\n"
     ]
    },
    {
     "name": "stderr",
     "output_type": "stream",
     "text": [
      " 18%|██████████████▌                                                                  | 18/100 [07:26<33:36, 24.60s/it]"
     ]
    },
    {
     "name": "stdout",
     "output_type": "stream",
     "text": [
      " > train loss: 0.16208833631977074   valid loss: 0.1569545824672574\n",
      " > train acc: 0.8675001460536309   valid acc: 0.8700934579439252\n",
      " > best acc:  0.8698598130841122\n",
      "   ! best acc updated ! =>  0.8700934579439252\n",
      "===========================================\n",
      "epoch:  18 \n",
      "\n"
     ]
    },
    {
     "name": "stderr",
     "output_type": "stream",
     "text": [
      " 19%|███████████████▍                                                                 | 19/100 [07:50<33:08, 24.54s/it]"
     ]
    },
    {
     "name": "stdout",
     "output_type": "stream",
     "text": [
      " > train loss: 0.15494454765895083   valid loss: 0.1496574654478893\n",
      " > train acc: 0.8696617397908512   valid acc: 0.8705607476635514\n",
      " > best acc:  0.8700934579439252\n",
      "   ! best acc updated ! =>  0.8705607476635514\n",
      "===========================================\n",
      "epoch:  19 \n",
      "\n"
     ]
    },
    {
     "name": "stderr",
     "output_type": "stream",
     "text": [
      " 20%|████████████████▏                                                                | 20/100 [08:14<32:40, 24.51s/it]"
     ]
    },
    {
     "name": "stdout",
     "output_type": "stream",
     "text": [
      " > train loss: 0.1480675857961822   valid loss: 0.1432213081377689\n",
      " > train acc: 0.8696033183384939   valid acc: 0.8703271028037384\n",
      " > best acc:  0.8705607476635514\n",
      "===========================================\n",
      "epoch:  20 \n",
      "\n",
      " > train loss: 0.1421812845589562   valid loss: 0.13760047036910725\n",
      " > train acc: 0.8708885902903546   valid acc: 0.8703271028037384\n",
      " > best acc:  0.8705607476635514\n"
     ]
    },
    {
     "data": {
      "image/png": "[encoded data removed]",
      "text/plain": [
       "<Figure size 720x216 with 2 Axes>"
      ]
     },
     "metadata": {
      "needs_background": "light"
     },
     "output_type": "display_data"
    },
    {
     "name": "stderr",
     "output_type": "stream",
     "text": [
      " 21%|█████████████████                                                                | 21/100 [08:39<32:24, 24.61s/it]"
     ]
    },
    {
     "name": "stdout",
     "output_type": "stream",
     "text": [
      "===========================================\n",
      "epoch:  21 \n",
      "\n"
     ]
    },
    {
     "name": "stderr",
     "output_type": "stream",
     "text": [
      " 22%|█████████████████▊                                                               | 22/100 [09:04<31:54, 24.55s/it]"
     ]
    },
    {
     "name": "stdout",
     "output_type": "stream",
     "text": [
      " > train loss: 0.1364510697224238   valid loss: 0.13271185372755906\n",
      " > train acc: 0.8717064906233569   valid acc: 0.8707943925233644\n",
      " > best acc:  0.8705607476635514\n",
      "   ! best acc updated ! =>  0.8707943925233644\n",
      "===========================================\n",
      "epoch:  22 \n",
      "\n"
     ]
    },
    {
     "name": "stderr",
     "output_type": "stream",
     "text": [
      " 23%|██████████████████▋                                                              | 23/100 [09:28<31:30, 24.56s/it]"
     ]
    },
    {
     "name": "stdout",
     "output_type": "stream",
     "text": [
      " > train loss: 0.13202347739831918   valid loss: 0.128471746971117\n",
      " > train acc: 0.8711222760997839   valid acc: 0.8707943925233644\n",
      " > best acc:  0.8707943925233644\n",
      "===========================================\n",
      "epoch:  23 \n",
      "\n"
     ]
    },
    {
     "name": "stderr",
     "output_type": "stream",
     "text": [
      " 24%|███████████████████▍                                                             | 24/100 [09:53<31:14, 24.66s/it]"
     ]
    },
    {
     "name": "stdout",
     "output_type": "stream",
     "text": [
      " > train loss: 0.1281613284090715   valid loss: 0.12479492750401809\n",
      " > train acc: 0.871531226266285   valid acc: 0.8707943925233644\n",
      " > best acc:  0.8707943925233644\n",
      "===========================================\n",
      "epoch:  24 \n",
      "\n"
     ]
    },
    {
     "name": "stderr",
     "output_type": "stream",
     "text": [
      " 25%|████████████████████▎                                                            | 25/100 [10:18<30:45, 24.61s/it]"
     ]
    },
    {
     "name": "stdout",
     "output_type": "stream",
     "text": [
      " > train loss: 0.12495970430984643   valid loss: 0.1214650829679498\n",
      " > train acc: 0.8714728048139276   valid acc: 0.8710280373831776\n",
      " > best acc:  0.8707943925233644\n",
      "   ! best acc updated ! =>  0.8710280373831776\n",
      "===========================================\n",
      "epoch:  25 \n",
      "\n",
      " > train loss: 0.12165024186250392   valid loss: 0.11860341300195623\n",
      " > train acc: 0.8712975404568558   valid acc: 0.8712616822429906\n",
      " > best acc:  0.8710280373831776\n",
      "   ! best acc updated ! =>  0.8712616822429906\n"
     ]
    },
    {
     "data": {
      "image/png": "[encoded data removed]",
      "text/plain": [
       "<Figure size 720x216 with 2 Axes>"
      ]
     },
     "metadata": {
      "needs_background": "light"
     },
     "output_type": "display_data"
    },
    {
     "name": "stderr",
     "output_type": "stream",
     "text": [
      " 26%|█████████████████████                                                            | 26/100 [10:43<30:39, 24.85s/it]"
     ]
    },
    {
     "name": "stdout",
     "output_type": "stream",
     "text": [
      "===========================================\n",
      "epoch:  26 \n",
      "\n"
     ]
    },
    {
     "name": "stderr",
     "output_type": "stream",
     "text": [
      " 27%|█████████████████████▊                                                           | 27/100 [11:08<30:12, 24.83s/it]"
     ]
    },
    {
     "name": "stdout",
     "output_type": "stream",
     "text": [
      " > train loss: 0.1192471563951876   valid loss: 0.11597535369273658\n",
      " > train acc: 0.8728164982181457   valid acc: 0.8712616822429906\n",
      " > best acc:  0.8712616822429906\n",
      "===========================================\n",
      "epoch:  27 \n",
      "\n"
     ]
    },
    {
     "name": "stderr",
     "output_type": "stream",
     "text": [
      " 28%|██████████████████████▋                                                          | 28/100 [11:32<29:41, 24.74s/it]"
     ]
    },
    {
     "name": "stdout",
     "output_type": "stream",
     "text": [
      " > train loss: 0.11668525487376046   valid loss: 0.11365491980425665\n",
      " > train acc: 0.8744522988841502   valid acc: 0.8710280373831776\n",
      " > best acc:  0.8712616822429906\n",
      "===========================================\n",
      "epoch:  28 \n",
      "\n"
     ]
    },
    {
     "name": "stderr",
     "output_type": "stream",
     "text": [
      " 29%|███████████████████████▍                                                         | 29/100 [11:57<29:10, 24.66s/it]"
     ]
    },
    {
     "name": "stdout",
     "output_type": "stream",
     "text": [
      " > train loss: 0.11446990114426428   valid loss: 0.11157999299118453\n",
      " > train acc: 0.8766723140737279   valid acc: 0.8782710280373832\n",
      " > best acc:  0.8712616822429906\n",
      "   ! best acc updated ! =>  0.8782710280373832\n",
      "===========================================\n",
      "epoch:  29 \n",
      "\n"
     ]
    },
    {
     "name": "stderr",
     "output_type": "stream",
     "text": [
      " 30%|████████████████████████▎                                                        | 30/100 [12:21<28:44, 24.63s/it]"
     ]
    },
    {
     "name": "stdout",
     "output_type": "stream",
     "text": [
      " > train loss: 0.11224351009455087   valid loss: 0.10969266295433044\n",
      " > train acc: 0.8815212946193842   valid acc: 0.8906542056074767\n",
      " > best acc:  0.8782710280373832\n",
      "   ! best acc updated ! =>  0.8906542056074767\n",
      "===========================================\n",
      "epoch:  30 \n",
      "\n",
      " > train loss: 0.11045195846024285   valid loss: 0.10805526751781179\n",
      " > train acc: 0.8866039609744698   valid acc: 0.8943925233644859\n",
      " > best acc:  0.8906542056074767\n",
      "   ! best acc updated ! =>  0.8943925233644859\n"
     ]
    },
    {
     "data": {
      "image/png": "[encoded data removed]",
      "text/plain": [
       "<Figure size 720x216 with 2 Axes>"
      ]
     },
     "metadata": {
      "needs_background": "light"
     },
     "output_type": "display_data"
    },
    {
     "name": "stderr",
     "output_type": "stream",
     "text": [
      " 31%|█████████████████████████                                                        | 31/100 [12:46<28:27, 24.74s/it]"
     ]
    },
    {
     "name": "stdout",
     "output_type": "stream",
     "text": [
      "===========================================\n",
      "epoch:  31 \n",
      "\n"
     ]
    },
    {
     "name": "stderr",
     "output_type": "stream",
     "text": [
      " 32%|█████████████████████████▉                                                       | 32/100 [13:11<28:00, 24.72s/it]"
     ]
    },
    {
     "name": "stdout",
     "output_type": "stream",
     "text": [
      " > train loss: 0.10876866116429446   valid loss: 0.10656502042139802\n",
      " > train acc: 0.8875971256645441   valid acc: 0.8953271028037383\n",
      " > best acc:  0.8943925233644859\n",
      "   ! best acc updated ! =>  0.8953271028037383\n",
      "===========================================\n",
      "epoch:  32 \n",
      "\n"
     ]
    },
    {
     "name": "stderr",
     "output_type": "stream",
     "text": [
      " 33%|██████████████████████████▋                                                      | 33/100 [13:35<27:30, 24.63s/it]"
     ]
    },
    {
     "name": "stdout",
     "output_type": "stream",
     "text": [
      " > train loss: 0.10754351007358252   valid loss: 0.10523010497895356\n",
      " > train acc: 0.8899924052111936   valid acc: 0.897196261682243\n",
      " > best acc:  0.8953271028037383\n",
      "   ! best acc updated ! =>  0.897196261682243\n",
      "===========================================\n",
      "epoch:  33 \n",
      "\n"
     ]
    },
    {
     "name": "stderr",
     "output_type": "stream",
     "text": [
      " 34%|███████████████████████████▌                                                     | 34/100 [14:00<27:05, 24.63s/it]"
     ]
    },
    {
     "name": "stdout",
     "output_type": "stream",
     "text": [
      " > train loss: 0.10640333839169575   valid loss: 0.1040387626424014\n",
      " > train acc: 0.8923292633054858   valid acc: 0.8981308411214953\n",
      " > best acc:  0.897196261682243\n",
      "   ! best acc updated ! =>  0.8981308411214953\n",
      "===========================================\n",
      "epoch:  34 \n",
      "\n"
     ]
    },
    {
     "name": "stderr",
     "output_type": "stream",
     "text": [
      " 35%|████████████████████████████▎                                                    | 35/100 [14:25<26:37, 24.58s/it]"
     ]
    },
    {
     "name": "stdout",
     "output_type": "stream",
     "text": [
      " > train loss: 0.10516069301651022   valid loss: 0.1030292944791161\n",
      " > train acc: 0.8934392709002745   valid acc: 0.8985981308411215\n",
      " > best acc:  0.8981308411214953\n",
      "   ! best acc updated ! =>  0.8985981308411215\n",
      "===========================================\n",
      "epoch:  35 \n",
      "\n",
      " > train loss: 0.10434237647954636   valid loss: 0.1021030412238335\n",
      " > train acc: 0.8941403283285623   valid acc: 0.8978971962616823\n",
      " > best acc:  0.8985981308411215\n"
     ]
    },
    {
     "data": {
      "image/png": "[encoded data removed]",
      "text/plain": [
       "<Figure size 720x216 with 2 Axes>"
      ]
     },
     "metadata": {
      "needs_background": "light"
     },
     "output_type": "display_data"
    },
    {
     "name": "stderr",
     "output_type": "stream",
     "text": [
      " 36%|█████████████████████████████▏                                                   | 36/100 [14:49<26:15, 24.61s/it]"
     ]
    },
    {
     "name": "stdout",
     "output_type": "stream",
     "text": [
      "===========================================\n",
      "epoch:  36 \n",
      "\n"
     ]
    },
    {
     "name": "stderr",
     "output_type": "stream",
     "text": [
      " 37%|█████████████████████████████▉                                                   | 37/100 [15:14<25:46, 24.55s/it]"
     ]
    },
    {
     "name": "stdout",
     "output_type": "stream",
     "text": [
      " > train loss: 0.10355323427291216   valid loss: 0.10135185446973159\n",
      " > train acc: 0.8936729567097038   valid acc: 0.8985981308411215\n",
      " > best acc:  0.8985981308411215\n",
      "===========================================\n",
      "epoch:  37 \n",
      "\n"
     ]
    },
    {
     "name": "stderr",
     "output_type": "stream",
     "text": [
      " 38%|██████████████████████████████▊                                                  | 38/100 [15:38<25:15, 24.45s/it]"
     ]
    },
    {
     "name": "stdout",
     "output_type": "stream",
     "text": [
      " > train loss: 0.10262876952877388   valid loss: 0.10067376341218147\n",
      " > train acc: 0.8951334930186364   valid acc: 0.8988317757009345\n",
      " > best acc:  0.8985981308411215\n",
      "   ! best acc updated ! =>  0.8988317757009345\n",
      "===========================================\n",
      "epoch:  38 \n",
      "\n"
     ]
    },
    {
     "name": "stderr",
     "output_type": "stream",
     "text": [
      " 39%|███████████████████████████████▌                                                 | 39/100 [16:02<24:52, 24.47s/it]"
     ]
    },
    {
     "name": "stdout",
     "output_type": "stream",
     "text": [
      " > train loss: 0.10212869847342115   valid loss: 0.1000477040760985\n",
      " > train acc: 0.8956008646374949   valid acc: 0.8988317757009345\n",
      " > best acc:  0.8988317757009345\n",
      "===========================================\n",
      "epoch:  39 \n",
      "\n"
     ]
    },
    {
     "name": "stderr",
     "output_type": "stream",
     "text": [
      " 40%|████████████████████████████████▍                                                | 40/100 [16:27<24:23, 24.39s/it]"
     ]
    },
    {
     "name": "stdout",
     "output_type": "stream",
     "text": [
      " > train loss: 0.10118795269505543   valid loss: 0.0995584060655576\n",
      " > train acc: 0.8968277151369983   valid acc: 0.8988317757009345\n",
      " > best acc:  0.8988317757009345\n",
      "===========================================\n",
      "epoch:  40 \n",
      "\n",
      " > train loss: 0.1006162417791934   valid loss: 0.0990610074634864\n",
      " > train acc: 0.8969445580417129   valid acc: 0.8988317757009345\n",
      " > best acc:  0.8988317757009345\n"
     ]
    },
    {
     "data": {
      "image/png": "[encoded data removed]",
      "text/plain": [
       "<Figure size 720x216 with 2 Axes>"
      ]
     },
     "metadata": {
      "needs_background": "light"
     },
     "output_type": "display_data"
    },
    {
     "name": "stderr",
     "output_type": "stream",
     "text": [
      " 41%|█████████████████████████████████▏                                               | 41/100 [16:51<24:02, 24.45s/it]"
     ]
    },
    {
     "name": "stdout",
     "output_type": "stream",
     "text": [
      "===========================================\n",
      "epoch:  41 \n",
      "\n"
     ]
    },
    {
     "name": "stderr",
     "output_type": "stream",
     "text": [
      " 42%|██████████████████████████████████                                               | 42/100 [17:16<23:38, 24.46s/it]"
     ]
    },
    {
     "name": "stdout",
     "output_type": "stream",
     "text": [
      " > train loss: 0.10039870340063478   valid loss: 0.0987034716478018\n",
      " > train acc: 0.8961266577087106   valid acc: 0.8990654205607477\n",
      " > best acc:  0.8988317757009345\n",
      "   ! best acc updated ! =>  0.8990654205607477\n",
      "===========================================\n",
      "epoch:  42 \n",
      "\n"
     ]
    },
    {
     "name": "stderr",
     "output_type": "stream",
     "text": [
      " 43%|██████████████████████████████████▊                                              | 43/100 [17:40<23:13, 24.45s/it]"
     ]
    },
    {
     "name": "stdout",
     "output_type": "stream",
     "text": [
      " > train loss: 0.0997379961579023   valid loss: 0.09838843359568408\n",
      " > train acc: 0.8961266577087106   valid acc: 0.8992990654205607\n",
      " > best acc:  0.8990654205607477\n",
      "   ! best acc updated ! =>  0.8992990654205607\n",
      "===========================================\n",
      "epoch:  43 \n",
      "\n"
     ]
    },
    {
     "name": "stderr",
     "output_type": "stream",
     "text": [
      " 44%|███████████████████████████████████▋                                             | 44/100 [18:05<22:51, 24.49s/it]"
     ]
    },
    {
     "name": "stdout",
     "output_type": "stream",
     "text": [
      " > train loss: 0.09962473074454685   valid loss: 0.0980705636266236\n",
      " > train acc: 0.8962435006134253   valid acc: 0.8990654205607477\n",
      " > best acc:  0.8992990654205607\n",
      "===========================================\n",
      "epoch:  44 \n",
      "\n"
     ]
    },
    {
     "name": "stderr",
     "output_type": "stream",
     "text": [
      " 45%|████████████████████████████████████▍                                            | 45/100 [18:29<22:24, 24.45s/it]"
     ]
    },
    {
     "name": "stdout",
     "output_type": "stream",
     "text": [
      " > train loss: 0.09972353621585184   valid loss: 0.09776936206862191\n",
      " > train acc: 0.8957177075422095   valid acc: 0.8992990654205607\n",
      " > best acc:  0.8992990654205607\n",
      "===========================================\n",
      "epoch:  45 \n",
      "\n",
      " > train loss: 0.099409052893966   valid loss: 0.09761570498486545\n",
      " > train acc: 0.8966524507799264   valid acc: 0.900233644859813\n",
      " > best acc:  0.8992990654205607\n",
      "   ! best acc updated ! =>  0.900233644859813\n"
     ]
    },
    {
     "data": {
      "image/png": "[encoded data removed]",
      "text/plain": [
       "<Figure size 720x216 with 2 Axes>"
      ]
     },
     "metadata": {
      "needs_background": "light"
     },
     "output_type": "display_data"
    },
    {
     "name": "stderr",
     "output_type": "stream",
     "text": [
      " 46%|█████████████████████████████████████▎                                           | 46/100 [18:54<22:02, 24.48s/it]"
     ]
    },
    {
     "name": "stdout",
     "output_type": "stream",
     "text": [
      "===========================================\n",
      "epoch:  46 \n",
      "\n"
     ]
    },
    {
     "name": "stderr",
     "output_type": "stream",
     "text": [
      " 47%|██████████████████████████████████████                                           | 47/100 [19:18<21:36, 24.47s/it]"
     ]
    },
    {
     "name": "stdout",
     "output_type": "stream",
     "text": [
      " > train loss: 0.09894976431584744   valid loss: 0.0974314017134292\n",
      " > train acc: 0.8972366653034994   valid acc: 0.900233644859813\n",
      " > best acc:  0.900233644859813\n",
      "===========================================\n",
      "epoch:  47 \n",
      "\n"
     ]
    },
    {
     "name": "stderr",
     "output_type": "stream",
     "text": [
      " 48%|██████████████████████████████████████▉                                          | 48/100 [19:42<21:10, 24.43s/it]"
     ]
    },
    {
     "name": "stdout",
     "output_type": "stream",
     "text": [
      " > train loss: 0.09899165756596078   valid loss: 0.09730421396616463\n",
      " > train acc: 0.8972366653034994   valid acc: 0.900233644859813\n",
      " > best acc:  0.900233644859813\n",
      "===========================================\n",
      "epoch:  48 \n",
      "\n"
     ]
    },
    {
     "name": "stderr",
     "output_type": "stream",
     "text": [
      " 49%|███████████████████████████████████████▋                                         | 49/100 [20:07<20:45, 24.42s/it]"
     ]
    },
    {
     "name": "stdout",
     "output_type": "stream",
     "text": [
      " > train loss: 0.09854523624238716   valid loss: 0.09711482877207693\n",
      " > train acc: 0.8981714085412164   valid acc: 0.9\n",
      " > best acc:  0.900233644859813\n",
      "===========================================\n",
      "epoch:  49 \n",
      "\n"
     ]
    },
    {
     "name": "stderr",
     "output_type": "stream",
     "text": [
      " 50%|████████████████████████████████████████▌                                        | 50/100 [20:31<20:19, 24.40s/it]"
     ]
    },
    {
     "name": "stdout",
     "output_type": "stream",
     "text": [
      " > train loss: 0.0986510191595693   valid loss: 0.09700303698811576\n",
      " > train acc: 0.8970029794940703   valid acc: 0.900233644859813\n",
      " > best acc:  0.900233644859813\n",
      "===========================================\n",
      "epoch:  50 \n",
      "\n",
      " > train loss: 0.09876678103627101   valid loss: 0.09689829073776708\n",
      " > train acc: 0.8972950867558568   valid acc: 0.8997663551401869\n",
      " > best acc:  0.900233644859813\n"
     ]
    },
    {
     "data": {
      "image/png": "[encoded data removed]",
      "text/plain": [
       "<Figure size 720x216 with 2 Axes>"
      ]
     },
     "metadata": {
      "needs_background": "light"
     },
     "output_type": "display_data"
    },
    {
     "name": "stderr",
     "output_type": "stream",
     "text": [
      " 51%|█████████████████████████████████████████▎                                       | 51/100 [20:56<20:00, 24.49s/it]"
     ]
    },
    {
     "name": "stdout",
     "output_type": "stream",
     "text": [
      "===========================================\n",
      "epoch:  51 \n",
      "\n"
     ]
    },
    {
     "name": "stderr",
     "output_type": "stream",
     "text": [
      " 52%|██████████████████████████████████████████                                       | 52/100 [21:20<19:34, 24.48s/it]"
     ]
    },
    {
     "name": "stdout",
     "output_type": "stream",
     "text": [
      " > train loss: 0.09813164399767364   valid loss: 0.0967989794422533\n",
      " > train acc: 0.8969445580417129   valid acc: 0.8997663551401869\n",
      " > best acc:  0.900233644859813\n",
      "===========================================\n",
      "epoch:  52 \n",
      "\n"
     ]
    },
    {
     "name": "stderr",
     "output_type": "stream",
     "text": [
      " 53%|██████████████████████████████████████████▉                                      | 53/100 [21:45<19:08, 24.44s/it]"
     ]
    },
    {
     "name": "stdout",
     "output_type": "stream",
     "text": [
      " > train loss: 0.09784364201885423   valid loss: 0.09671581738463073\n",
      " > train acc: 0.898112987088859   valid acc: 0.8985981308411215\n",
      " > best acc:  0.900233644859813\n",
      "===========================================\n",
      "epoch:  53 \n",
      "\n"
     ]
    },
    {
     "name": "stderr",
     "output_type": "stream",
     "text": [
      " 54%|███████████████████████████████████████████▋                                     | 54/100 [22:09<18:45, 24.47s/it]"
     ]
    },
    {
     "name": "stdout",
     "output_type": "stream",
     "text": [
      " > train loss: 0.098354362351803   valid loss: 0.09663624553201354\n",
      " > train acc: 0.8965356078752118   valid acc: 0.9\n",
      " > best acc:  0.900233644859813\n",
      "===========================================\n",
      "epoch:  54 \n",
      "\n"
     ]
    },
    {
     "name": "stderr",
     "output_type": "stream",
     "text": [
      " 55%|████████████████████████████████████████████▌                                    | 55/100 [22:33<18:17, 24.40s/it]"
     ]
    },
    {
     "name": "stdout",
     "output_type": "stream",
     "text": [
      " > train loss: 0.0977633261524601   valid loss: 0.0966146285428065\n",
      " > train acc: 0.896769293684641   valid acc: 0.900233644859813\n",
      " > best acc:  0.900233644859813\n",
      "===========================================\n",
      "epoch:  55 \n",
      "\n",
      " > train loss: 0.09808018938096082   valid loss: 0.09652986906677763\n",
      " > train acc: 0.8966524507799264   valid acc: 0.9009345794392524\n",
      " > best acc:  0.900233644859813\n",
      "   ! best acc updated ! =>  0.9009345794392524\n"
     ]
    },
    {
     "data": {
      "image/png": "[encoded data removed]",
      "text/plain": [
       "<Figure size 720x216 with 2 Axes>"
      ]
     },
     "metadata": {
      "needs_background": "light"
     },
     "output_type": "display_data"
    },
    {
     "name": "stderr",
     "output_type": "stream",
     "text": [
      " 56%|█████████████████████████████████████████████▎                                   | 56/100 [22:58<17:55, 24.45s/it]"
     ]
    },
    {
     "name": "stdout",
     "output_type": "stream",
     "text": [
      "===========================================\n",
      "epoch:  56 \n",
      "\n"
     ]
    },
    {
     "name": "stderr",
     "output_type": "stream",
     "text": [
      " 57%|██████████████████████████████████████████████▏                                  | 57/100 [23:23<17:32, 24.48s/it]"
     ]
    },
    {
     "name": "stdout",
     "output_type": "stream",
     "text": [
      " > train loss: 0.09741856018405043   valid loss: 0.09646036246112574\n",
      " > train acc: 0.898112987088859   valid acc: 0.9011682242990654\n",
      " > best acc:  0.9009345794392524\n",
      "   ! best acc updated ! =>  0.9011682242990654\n",
      "===========================================\n",
      "epoch:  57 \n",
      "\n"
     ]
    },
    {
     "name": "stderr",
     "output_type": "stream",
     "text": [
      " 58%|██████████████████████████████████████████████▉                                  | 58/100 [23:47<17:06, 24.45s/it]"
     ]
    },
    {
     "name": "stdout",
     "output_type": "stream",
     "text": [
      " > train loss: 0.09779507456719615   valid loss: 0.09642921638823002\n",
      " > train acc: 0.8967108722322837   valid acc: 0.9\n",
      " > best acc:  0.9011682242990654\n",
      "===========================================\n",
      "epoch:  58 \n",
      "\n"
     ]
    },
    {
     "name": "stderr",
     "output_type": "stream",
     "text": [
      " 59%|███████████████████████████████████████████████▊                                 | 59/100 [24:11<16:41, 24.43s/it]"
     ]
    },
    {
     "name": "stdout",
     "output_type": "stream",
     "text": [
      " > train loss: 0.09792636298637786   valid loss: 0.0963632557018895\n",
      " > train acc: 0.8977040369223579   valid acc: 0.9004672897196262\n",
      " > best acc:  0.9011682242990654\n",
      "===========================================\n",
      "epoch:  59 \n",
      "\n"
     ]
    },
    {
     "name": "stderr",
     "output_type": "stream",
     "text": [
      " 60%|████████████████████████████████████████████████▌                                | 60/100 [24:36<16:15, 24.38s/it]"
     ]
    },
    {
     "name": "stdout",
     "output_type": "stream",
     "text": [
      " > train loss: 0.09779424505863135   valid loss: 0.09636051583791448\n",
      " > train acc: 0.8962435006134253   valid acc: 0.9\n",
      " > best acc:  0.9011682242990654\n",
      "===========================================\n",
      "epoch:  60 \n",
      "\n",
      " > train loss: 0.09767593579025005   valid loss: 0.0963472717694033\n",
      " > train acc: 0.8975871940176433   valid acc: 0.9004672897196262\n",
      " > best acc:  0.9011682242990654\n"
     ]
    },
    {
     "data": {
      "image/png": "[encoded data removed]",
      "text/plain": [
       "<Figure size 720x216 with 2 Axes>"
      ]
     },
     "metadata": {
      "needs_background": "light"
     },
     "output_type": "display_data"
    },
    {
     "name": "stderr",
     "output_type": "stream",
     "text": [
      " 61%|█████████████████████████████████████████████████▍                               | 61/100 [25:00<15:53, 24.45s/it]"
     ]
    },
    {
     "name": "stdout",
     "output_type": "stream",
     "text": [
      "===========================================\n",
      "epoch:  61 \n",
      "\n"
     ]
    },
    {
     "name": "stderr",
     "output_type": "stream",
     "text": [
      " 62%|██████████████████████████████████████████████████▏                              | 62/100 [25:25<15:28, 24.44s/it]"
     ]
    },
    {
     "name": "stdout",
     "output_type": "stream",
     "text": [
      " > train loss: 0.09726103788188749   valid loss: 0.0962256276718924\n",
      " > train acc: 0.8982298299935736   valid acc: 0.9\n",
      " > best acc:  0.9011682242990654\n",
      "===========================================\n",
      "epoch:  62 \n",
      "\n"
     ]
    },
    {
     "name": "stderr",
     "output_type": "stream",
     "text": [
      " 63%|███████████████████████████████████████████████████                              | 63/100 [25:49<15:02, 24.40s/it]"
     ]
    },
    {
     "name": "stdout",
     "output_type": "stream",
     "text": [
      " > train loss: 0.0973450937094815   valid loss: 0.09617566352135667\n",
      " > train acc: 0.897528772565286   valid acc: 0.9004672897196262\n",
      " > best acc:  0.9011682242990654\n",
      "===========================================\n",
      "epoch:  63 \n",
      "\n"
     ]
    },
    {
     "name": "stderr",
     "output_type": "stream",
     "text": [
      " 64%|███████████████████████████████████████████████████▊                             | 64/100 [26:13<14:39, 24.42s/it]"
     ]
    },
    {
     "name": "stdout",
     "output_type": "stream",
     "text": [
      " > train loss: 0.09753576536318086   valid loss: 0.09617850302814324\n",
      " > train acc: 0.897353508208214   valid acc: 0.900233644859813\n",
      " > best acc:  0.9011682242990654\n",
      "===========================================\n",
      "epoch:  64 \n",
      "\n"
     ]
    },
    {
     "name": "stderr",
     "output_type": "stream",
     "text": [
      " 65%|████████████████████████████████████████████████████▋                            | 65/100 [26:38<14:14, 24.42s/it]"
     ]
    },
    {
     "name": "stdout",
     "output_type": "stream",
     "text": [
      " > train loss: 0.0974767007211829   valid loss: 0.09620862147796934\n",
      " > train acc: 0.8972366653034994   valid acc: 0.9004672897196262\n",
      " > best acc:  0.9011682242990654\n",
      "===========================================\n",
      "epoch:  65 \n",
      "\n",
      " > train loss: 0.09729213983698894   valid loss: 0.09616685797956502\n",
      " > train acc: 0.8977040369223579   valid acc: 0.9004672897196262\n",
      " > best acc:  0.9011682242990654\n"
     ]
    },
    {
     "data": {
      "image/png": "[encoded data removed]",
      "text/plain": [
       "<Figure size 720x216 with 2 Axes>"
      ]
     },
     "metadata": {
      "needs_background": "light"
     },
     "output_type": "display_data"
    },
    {
     "name": "stderr",
     "output_type": "stream",
     "text": [
      " 66%|█████████████████████████████████████████████████████▍                           | 66/100 [27:02<13:51, 24.45s/it]"
     ]
    },
    {
     "name": "stdout",
     "output_type": "stream",
     "text": [
      "===========================================\n",
      "epoch:  66 \n",
      "\n"
     ]
    },
    {
     "name": "stderr",
     "output_type": "stream",
     "text": [
      " 67%|██████████████████████████████████████████████████████▎                          | 67/100 [27:27<13:27, 24.46s/it]"
     ]
    },
    {
     "name": "stdout",
     "output_type": "stream",
     "text": [
      " > train loss: 0.09741639853239394   valid loss: 0.09616223973370044\n",
      " > train acc: 0.8975871940176433   valid acc: 0.9\n",
      " > best acc:  0.9011682242990654\n",
      "===========================================\n",
      "epoch:  67 \n",
      "\n"
     ]
    },
    {
     "name": "stderr",
     "output_type": "stream",
     "text": [
      " 68%|███████████████████████████████████████████████████████                          | 68/100 [27:51<13:01, 24.41s/it]"
     ]
    },
    {
     "name": "stdout",
     "output_type": "stream",
     "text": [
      " > train loss: 0.097441245261953   valid loss: 0.09616877542477902\n",
      " > train acc: 0.8972366653034994   valid acc: 0.900233644859813\n",
      " > best acc:  0.9011682242990654\n",
      "===========================================\n",
      "epoch:  68 \n",
      "\n"
     ]
    },
    {
     "name": "stderr",
     "output_type": "stream",
     "text": [
      " 69%|███████████████████████████████████████████████████████▉                         | 69/100 [28:16<12:36, 24.42s/it]"
     ]
    },
    {
     "name": "stdout",
     "output_type": "stream",
     "text": [
      " > train loss: 0.09744601513697053   valid loss: 0.09610459222414783\n",
      " > train acc: 0.8981714085412164   valid acc: 0.9004672897196262\n",
      " > best acc:  0.9011682242990654\n",
      "===========================================\n",
      "epoch:  69 \n",
      "\n"
     ]
    },
    {
     "name": "stderr",
     "output_type": "stream",
     "text": [
      " 70%|████████████████████████████████████████████████████████▋                        | 70/100 [28:40<12:11, 24.38s/it]"
     ]
    },
    {
     "name": "stdout",
     "output_type": "stream",
     "text": [
      " > train loss: 0.09750976120157415   valid loss: 0.096041197740586\n",
      " > train acc: 0.8985803587077175   valid acc: 0.9007009345794392\n",
      " > best acc:  0.9011682242990654\n",
      "===========================================\n",
      "epoch:  70 \n",
      "\n",
      " > train loss: 0.09694903180165959   valid loss: 0.09605611784157352\n",
      " > train acc: 0.8974119296605714   valid acc: 0.9004672897196262\n",
      " > best acc:  0.9011682242990654\n"
     ]
    },
    {
     "data": {
      "image/png": "[encoded data removed]",
      "text/plain": [
       "<Figure size 720x216 with 2 Axes>"
      ]
     },
     "metadata": {
      "needs_background": "light"
     },
     "output_type": "display_data"
    },
    {
     "name": "stderr",
     "output_type": "stream",
     "text": [
      " 71%|█████████████████████████████████████████████████████████▌                       | 71/100 [29:04<11:49, 24.45s/it]"
     ]
    },
    {
     "name": "stdout",
     "output_type": "stream",
     "text": [
      "===========================================\n",
      "epoch:  71 \n",
      "\n"
     ]
    },
    {
     "name": "stderr",
     "output_type": "stream",
     "text": [
      " 72%|██████████████████████████████████████████████████████████▎                      | 72/100 [29:29<11:24, 24.44s/it]"
     ]
    },
    {
     "name": "stdout",
     "output_type": "stream",
     "text": [
      " > train loss: 0.09750814733495429   valid loss: 0.09601951313910083\n",
      " > train acc: 0.8972950867558568   valid acc: 0.900233644859813\n",
      " > best acc:  0.9011682242990654\n",
      "===========================================\n",
      "epoch:  72 \n",
      "\n"
     ]
    },
    {
     "name": "stderr",
     "output_type": "stream",
     "text": [
      " 73%|███████████████████████████████████████████████████████████▏                     | 73/100 [29:53<10:58, 24.39s/it]"
     ]
    },
    {
     "name": "stdout",
     "output_type": "stream",
     "text": [
      " > train loss: 0.09751631185893819   valid loss: 0.09605260054084742\n",
      " > train acc: 0.8970614009464275   valid acc: 0.900233644859813\n",
      " > best acc:  0.9011682242990654\n",
      "===========================================\n",
      "epoch:  73 \n",
      "\n"
     ]
    },
    {
     "name": "stderr",
     "output_type": "stream",
     "text": [
      " 74%|███████████████████████████████████████████████████████████▉                     | 74/100 [30:18<10:34, 24.40s/it]"
     ]
    },
    {
     "name": "stdout",
     "output_type": "stream",
     "text": [
      " > train loss: 0.09697464458753643   valid loss: 0.09598868159211685\n",
      " > train acc: 0.8974119296605714   valid acc: 0.9009345794392524\n",
      " > best acc:  0.9011682242990654\n",
      "===========================================\n",
      "epoch:  74 \n",
      "\n"
     ]
    },
    {
     "name": "stderr",
     "output_type": "stream",
     "text": [
      " 75%|████████████████████████████████████████████████████████████▊                    | 75/100 [30:42<10:09, 24.37s/it]"
     ]
    },
    {
     "name": "stdout",
     "output_type": "stream",
     "text": [
      " > train loss: 0.09707401270912916   valid loss: 0.0959964628531554\n",
      " > train acc: 0.8972950867558568   valid acc: 0.9007009345794392\n",
      " > best acc:  0.9011682242990654\n",
      "===========================================\n",
      "epoch:  75 \n",
      "\n",
      " > train loss: 0.09682676705629767   valid loss: 0.09601315424264034\n",
      " > train acc: 0.8986387801600748   valid acc: 0.9011682242990654\n",
      " > best acc:  0.9011682242990654\n"
     ]
    },
    {
     "data": {
      "image/png": "[encoded data removed]",
      "text/plain": [
       "<Figure size 720x216 with 2 Axes>"
      ]
     },
     "metadata": {
      "needs_background": "light"
     },
     "output_type": "display_data"
    },
    {
     "name": "stderr",
     "output_type": "stream",
     "text": [
      " 76%|█████████████████████████████████████████████████████████████▌                   | 76/100 [31:06<09:46, 24.45s/it]"
     ]
    },
    {
     "name": "stdout",
     "output_type": "stream",
     "text": [
      "===========================================\n",
      "epoch:  76 \n",
      "\n"
     ]
    },
    {
     "name": "stderr",
     "output_type": "stream",
     "text": [
      " 77%|██████████████████████████████████████████████████████████████▎                  | 77/100 [31:31<09:22, 24.47s/it]"
     ]
    },
    {
     "name": "stdout",
     "output_type": "stream",
     "text": [
      " > train loss: 0.09718630951262039   valid loss: 0.09602855925805101\n",
      " > train acc: 0.8974119296605714   valid acc: 0.9\n",
      " > best acc:  0.9011682242990654\n",
      "===========================================\n",
      "epoch:  77 \n",
      "\n"
     ]
    },
    {
     "name": "stderr",
     "output_type": "stream",
     "text": [
      " 78%|███████████████████████████████████████████████████████████████▏                 | 78/100 [31:55<08:57, 24.45s/it]"
     ]
    },
    {
     "name": "stdout",
     "output_type": "stream",
     "text": [
      " > train loss: 0.0970338121550157   valid loss: 0.0960547553601666\n",
      " > train acc: 0.8964771864228545   valid acc: 0.9\n",
      " > best acc:  0.9011682242990654\n",
      "===========================================\n",
      "epoch:  78 \n",
      "\n"
     ]
    },
    {
     "name": "stderr",
     "output_type": "stream",
     "text": [
      " 79%|███████████████████████████████████████████████████████████████▉                 | 79/100 [32:20<08:32, 24.43s/it]"
     ]
    },
    {
     "name": "stdout",
     "output_type": "stream",
     "text": [
      " > train loss: 0.09736934448312974   valid loss: 0.09605594599079863\n",
      " > train acc: 0.8964771864228545   valid acc: 0.9\n",
      " > best acc:  0.9011682242990654\n",
      "===========================================\n",
      "epoch:  79 \n",
      "\n"
     ]
    },
    {
     "name": "stderr",
     "output_type": "stream",
     "text": [
      " 80%|████████████████████████████████████████████████████████████████▊                | 80/100 [32:44<08:07, 24.40s/it]"
     ]
    },
    {
     "name": "stdout",
     "output_type": "stream",
     "text": [
      " > train loss: 0.09711083626941437   valid loss: 0.09598997047292852\n",
      " > train acc: 0.8984050943506455   valid acc: 0.900233644859813\n",
      " > best acc:  0.9011682242990654\n",
      "===========================================\n",
      "epoch:  80 \n",
      "\n",
      " > train loss: 0.09692381232456326   valid loss: 0.09596783124676375\n",
      " > train acc: 0.8979961441841444   valid acc: 0.900233644859813\n",
      " > best acc:  0.9011682242990654\n"
     ]
    },
    {
     "data": {
      "image/png": "[encoded data removed]",
      "text/plain": [
       "<Figure size 720x216 with 2 Axes>"
      ]
     },
     "metadata": {
      "needs_background": "light"
     },
     "output_type": "display_data"
    },
    {
     "name": "stderr",
     "output_type": "stream",
     "text": [
      " 81%|█████████████████████████████████████████████████████████████████▌               | 81/100 [33:09<07:44, 24.47s/it]"
     ]
    },
    {
     "name": "stdout",
     "output_type": "stream",
     "text": [
      "===========================================\n",
      "epoch:  81 \n",
      "\n"
     ]
    },
    {
     "name": "stderr",
     "output_type": "stream",
     "text": [
      " 82%|██████████████████████████████████████████████████████████████████▍              | 82/100 [33:33<07:20, 24.46s/it]"
     ]
    },
    {
     "name": "stdout",
     "output_type": "stream",
     "text": [
      " > train loss: 0.0969804663814179   valid loss: 0.09591330922095576\n",
      " > train acc: 0.8982298299935736   valid acc: 0.900233644859813\n",
      " > best acc:  0.9011682242990654\n",
      "===========================================\n",
      "epoch:  82 \n",
      "\n"
     ]
    },
    {
     "name": "stderr",
     "output_type": "stream",
     "text": [
      " 83%|███████████████████████████████████████████████████████████████████▏             | 83/100 [33:57<06:55, 24.42s/it]"
     ]
    },
    {
     "name": "stdout",
     "output_type": "stream",
     "text": [
      " > train loss: 0.09721067136899747   valid loss: 0.09597139415618415\n",
      " > train acc: 0.8978793012794298   valid acc: 0.9009345794392524\n",
      " > best acc:  0.9011682242990654\n",
      "===========================================\n",
      "epoch:  83 \n",
      "\n"
     ]
    },
    {
     "name": "stderr",
     "output_type": "stream",
     "text": [
      " 84%|████████████████████████████████████████████████████████████████████             | 84/100 [34:22<06:30, 24.41s/it]"
     ]
    },
    {
     "name": "stdout",
     "output_type": "stream",
     "text": [
      " > train loss: 0.09692584714180483   valid loss: 0.09593059143451886\n",
      " > train acc: 0.8979961441841444   valid acc: 0.900233644859813\n",
      " > best acc:  0.9011682242990654\n",
      "===========================================\n",
      "epoch:  84 \n",
      "\n"
     ]
    },
    {
     "name": "stderr",
     "output_type": "stream",
     "text": [
      " 85%|████████████████████████████████████████████████████████████████████▊            | 85/100 [34:46<06:05, 24.37s/it]"
     ]
    },
    {
     "name": "stdout",
     "output_type": "stream",
     "text": [
      " > train loss: 0.0967786523376439   valid loss: 0.09591827834042434\n",
      " > train acc: 0.8981714085412164   valid acc: 0.9004672897196262\n",
      " > best acc:  0.9011682242990654\n",
      "===========================================\n",
      "epoch:  85 \n",
      "\n",
      " > train loss: 0.09625718241826586   valid loss: 0.09589663363784273\n",
      " > train acc: 0.8975871940176433   valid acc: 0.9007009345794392\n",
      " > best acc:  0.9011682242990654\n"
     ]
    },
    {
     "data": {
      "image/png": "[encoded data removed]",
      "text/plain": [
       "<Figure size 720x216 with 2 Axes>"
      ]
     },
     "metadata": {
      "needs_background": "light"
     },
     "output_type": "display_data"
    },
    {
     "name": "stderr",
     "output_type": "stream",
     "text": [
      " 86%|█████████████████████████████████████████████████████████████████████▋           | 86/100 [35:11<05:41, 24.42s/it]"
     ]
    },
    {
     "name": "stdout",
     "output_type": "stream",
     "text": [
      "===========================================\n",
      "epoch:  86 \n",
      "\n"
     ]
    },
    {
     "name": "stderr",
     "output_type": "stream",
     "text": [
      " 87%|██████████████████████████████████████████████████████████████████████▍          | 87/100 [35:35<05:17, 24.44s/it]"
     ]
    },
    {
     "name": "stdout",
     "output_type": "stream",
     "text": [
      " > train loss: 0.09731821090735139   valid loss: 0.0959089141443511\n",
      " > train acc: 0.8964187649704972   valid acc: 0.9004672897196262\n",
      " > best acc:  0.9011682242990654\n",
      "===========================================\n",
      "epoch:  87 \n",
      "\n"
     ]
    },
    {
     "name": "stderr",
     "output_type": "stream",
     "text": [
      " 88%|███████████████████████████████████████████████████████████████████████▎         | 88/100 [36:00<04:53, 24.44s/it]"
     ]
    },
    {
     "name": "stdout",
     "output_type": "stream",
     "text": [
      " > train loss: 0.09725584364674905   valid loss: 0.09585441147612635\n",
      " > train acc: 0.896009814803996   valid acc: 0.9004672897196262\n",
      " > best acc:  0.9011682242990654\n",
      "===========================================\n",
      "epoch:  88 \n",
      "\n"
     ]
    },
    {
     "name": "stderr",
     "output_type": "stream",
     "text": [
      " 89%|████████████████████████████████████████████████████████████████████████         | 89/100 [36:24<04:28, 24.43s/it]"
     ]
    },
    {
     "name": "stdout",
     "output_type": "stream",
     "text": [
      " > train loss: 0.09715499511498843   valid loss: 0.09586254862424369\n",
      " > train acc: 0.8965356078752118   valid acc: 0.900233644859813\n",
      " > best acc:  0.9011682242990654\n",
      "===========================================\n",
      "epoch:  89 \n",
      "\n"
     ]
    },
    {
     "name": "stderr",
     "output_type": "stream",
     "text": [
      " 90%|████████████████████████████████████████████████████████████████████████▉        | 90/100 [36:48<04:04, 24.41s/it]"
     ]
    },
    {
     "name": "stdout",
     "output_type": "stream",
     "text": [
      " > train loss: 0.09694777094595983   valid loss: 0.09590887856260638\n",
      " > train acc: 0.896769293684641   valid acc: 0.9007009345794392\n",
      " > best acc:  0.9011682242990654\n",
      "===========================================\n",
      "epoch:  90 \n",
      "\n",
      " > train loss: 0.09652769583820245   valid loss: 0.09585228819991941\n",
      " > train acc: 0.8978793012794298   valid acc: 0.9009345794392524\n",
      " > best acc:  0.9011682242990654\n"
     ]
    },
    {
     "data": {
      "image/png": "[encoded data removed]",
      "text/plain": [
       "<Figure size 720x216 with 2 Axes>"
      ]
     },
     "metadata": {
      "needs_background": "light"
     },
     "output_type": "display_data"
    },
    {
     "name": "stderr",
     "output_type": "stream",
     "text": [
      " 91%|█████████████████████████████████████████████████████████████████████████▋       | 91/100 [37:13<03:40, 24.48s/it]"
     ]
    },
    {
     "name": "stdout",
     "output_type": "stream",
     "text": [
      "===========================================\n",
      "epoch:  91 \n",
      "\n"
     ]
    },
    {
     "name": "stderr",
     "output_type": "stream",
     "text": [
      " 92%|██████████████████████████████████████████████████████████████████████████▌      | 92/100 [37:37<03:15, 24.47s/it]"
     ]
    },
    {
     "name": "stdout",
     "output_type": "stream",
     "text": [
      " > train loss: 0.09674601430173385   valid loss: 0.09578509921225432\n",
      " > train acc: 0.8984635158030029   valid acc: 0.9009345794392524\n",
      " > best acc:  0.9011682242990654\n",
      "===========================================\n",
      "epoch:  92 \n",
      "\n"
     ]
    },
    {
     "name": "stderr",
     "output_type": "stream",
     "text": [
      " 93%|███████████████████████████████████████████████████████████████████████████▎     | 93/100 [38:02<02:51, 24.46s/it]"
     ]
    },
    {
     "name": "stdout",
     "output_type": "stream",
     "text": [
      " > train loss: 0.09698808361309505   valid loss: 0.09578056612582965\n",
      " > train acc: 0.8974703511129287   valid acc: 0.9004672897196262\n",
      " > best acc:  0.9011682242990654\n",
      "===========================================\n",
      "epoch:  93 \n",
      "\n"
     ]
    },
    {
     "name": "stderr",
     "output_type": "stream",
     "text": [
      " 94%|████████████████████████████████████████████████████████████████████████████▏    | 94/100 [38:26<02:26, 24.43s/it]"
     ]
    },
    {
     "name": "stdout",
     "output_type": "stream",
     "text": [
      " > train loss: 0.0966060310188678   valid loss: 0.0959065274518227\n",
      " > train acc: 0.8972366653034994   valid acc: 0.900233644859813\n",
      " > best acc:  0.9011682242990654\n",
      "===========================================\n",
      "epoch:  94 \n",
      "\n"
     ]
    },
    {
     "name": "stderr",
     "output_type": "stream",
     "text": [
      " 95%|████████████████████████████████████████████████████████████████████████████▉    | 95/100 [38:51<02:01, 24.39s/it]"
     ]
    },
    {
     "name": "stdout",
     "output_type": "stream",
     "text": [
      " > train loss: 0.09693875957776392   valid loss: 0.09584474911756605\n",
      " > train acc: 0.8968277151369983   valid acc: 0.9004672897196262\n",
      " > best acc:  0.9011682242990654\n",
      "===========================================\n",
      "epoch:  95 \n",
      "\n",
      " > train loss: 0.0967101839895476   valid loss: 0.0958354853302519\n",
      " > train acc: 0.897353508208214   valid acc: 0.9007009345794392\n",
      " > best acc:  0.9011682242990654\n"
     ]
    },
    {
     "data": {
      "image/png": "[encoded data removed]",
      "text/plain": [
       "<Figure size 720x216 with 2 Axes>"
      ]
     },
     "metadata": {
      "needs_background": "light"
     },
     "output_type": "display_data"
    },
    {
     "name": "stderr",
     "output_type": "stream",
     "text": [
      " 96%|█████████████████████████████████████████████████████████████████████████████▊   | 96/100 [39:15<01:37, 24.46s/it]"
     ]
    },
    {
     "name": "stdout",
     "output_type": "stream",
     "text": [
      "===========================================\n",
      "epoch:  96 \n",
      "\n"
     ]
    },
    {
     "name": "stderr",
     "output_type": "stream",
     "text": [
      " 97%|██████████████████████████████████████████████████████████████████████████████▌  | 97/100 [39:40<01:13, 24.45s/it]"
     ]
    },
    {
     "name": "stdout",
     "output_type": "stream",
     "text": [
      " > train loss: 0.09659139159778474   valid loss: 0.09580776255542987\n",
      " > train acc: 0.8982298299935736   valid acc: 0.9004672897196262\n",
      " > best acc:  0.9011682242990654\n",
      "===========================================\n",
      "epoch:  97 \n",
      "\n"
     ]
    },
    {
     "name": "stderr",
     "output_type": "stream",
     "text": [
      " 98%|███████████████████████████████████████████████████████████████████████████████▍ | 98/100 [40:04<00:48, 24.44s/it]"
     ]
    },
    {
     "name": "stdout",
     "output_type": "stream",
     "text": [
      " > train loss: 0.09681826333872325   valid loss: 0.09581393393400674\n",
      " > train acc: 0.8971198223987848   valid acc: 0.9004672897196262\n",
      " > best acc:  0.9011682242990654\n",
      "===========================================\n",
      "epoch:  98 \n",
      "\n"
     ]
    },
    {
     "name": "stderr",
     "output_type": "stream",
     "text": [
      " 99%|████████████████████████████████████████████████████████████████████████████████▏| 99/100 [40:28<00:24, 24.41s/it]"
     ]
    },
    {
     "name": "stdout",
     "output_type": "stream",
     "text": [
      " > train loss: 0.09691890798826436   valid loss: 0.09578165133422781\n",
      " > train acc: 0.8977624583747152   valid acc: 0.9004672897196262\n",
      " > best acc:  0.9011682242990654\n",
      "===========================================\n",
      "epoch:  99 \n",
      "\n"
     ]
    },
    {
     "name": "stderr",
     "output_type": "stream",
     "text": [
      "100%|████████████████████████████████████████████████████████████████████████████████| 100/100 [40:53<00:00, 24.53s/it]"
     ]
    },
    {
     "name": "stdout",
     "output_type": "stream",
     "text": [
      " > train loss: 0.09692852364220463   valid loss: 0.09581870335006268\n",
      " > train acc: 0.8971198223987848   valid acc: 0.9007009345794392\n",
      " > best acc:  0.9011682242990654\n"
     ]
    },
    {
     "name": "stderr",
     "output_type": "stream",
     "text": [
      "\n"
     ]
    }
   ],
   "source": [
    "EPOCH_NUM = 100\n",
    "\n",
    "print(MODEL_NAME)\n",
    "result = run_training(\n",
    "                        model=model,\n",
    "                        optimizer=optimizer,\n",
    "                        criterion=criterion,\n",
    "                        epoch_num=EPOCH_NUM,\n",
    "                        train_dataloader=train_dataloader,\n",
    "                        valid_dataloader=valid_dataloader,\n",
    "                        MODEL_NAME=MODEL_NAME,\n",
    "                        device=\"cuda\",\n",
    "                        verbose=5\n",
    "                      )"
   ]
  }
 ],
 "metadata": {
  "kernelspec": {
   "display_name": "Python 3",
   "language": "python",
   "name": "python3"
  },
  "language_info": {
   "codemirror_mode": {
    "name": "ipython",
    "version": 3
   },
   "file_extension": ".py",
   "mimetype": "text/x-python",
   "name": "python",
   "nbconvert_exporter": "python",
   "pygments_lexer": "ipython3",
   "version": "3.8.5"
  }
 },
 "nbformat": 4,
 "nbformat_minor": 4
}
