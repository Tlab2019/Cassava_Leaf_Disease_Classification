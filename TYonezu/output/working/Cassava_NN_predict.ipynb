{
 "cells": [
  {
   "cell_type": "markdown",
   "metadata": {},
   "source": [
    "# **Cassava Neural Net prediction**\n",
    "2021/01/11 written by T.Yonezu"
   ]
  },
  {
   "cell_type": "code",
   "execution_count": 10,
   "metadata": {},
   "outputs": [
    {
     "name": "stdout",
     "output_type": "stream",
     "text": [
      "The autoreload extension is already loaded. To reload it, use:\n",
      "  %reload_ext autoreload\n"
     ]
    }
   ],
   "source": [
    "%load_ext autoreload\n",
    "%autoreload 2\n",
    "\n",
    "import torch\n",
    "from torch.utils.data import DataLoader, Dataset\n",
    "\n",
    "import numpy as np \n",
    "import matplotlib.pyplot as plt\n",
    "import pandas as pd\n",
    "import glob \n",
    "import os\n",
    "from tqdm import tqdm\n",
    "\n",
    "from cassava_dataset import *\n",
    "from myvgg import *\n",
    "\n",
    "import warnings\n",
    "warnings.simplefilter('ignore')"
   ]
  },
  {
   "cell_type": "code",
   "execution_count": 11,
   "metadata": {},
   "outputs": [],
   "source": [
    "input_dir = os.path.join('..',\"..\", 'input', 'cassava-leaf-disease-classification')"
   ]
  },
  {
   "cell_type": "code",
   "execution_count": 12,
   "metadata": {},
   "outputs": [],
   "source": [
    "x = np.atleast_2d(glob.glob(os.path.join(input_dir, 'test_images',\"*.jpg\")))\n",
    "x = x.T\n",
    "x = pd.DataFrame(columns=[\"image_path\"], data=x)\n",
    "tmp = x[\"image_path\"].str.split(os.path.sep,expand=True)\n",
    "x[\"image_id\"] = tmp[len(tmp.columns)-1]\n",
    "x[\"label\"] = np.nan\n",
    "\n",
    "test_dict = dict( zip(x[\"image_path\"],x[\"label\"]) )"
   ]
  },
  {
   "cell_type": "code",
   "execution_count": 13,
   "metadata": {},
   "outputs": [],
   "source": [
    "size = (224,224)\n",
    "mean = [0.485, 0.456, 0.406]\n",
    "std=[0.229, 0.224, 0.225]\n",
    "\n",
    "transform = ImageTransform(size,mean,std)\n",
    "test_data = CassavaDataset(test_dict,transform=transform)\n",
    "test_data = DataLoader(test_data,batch_size=30)"
   ]
  },
  {
   "cell_type": "code",
   "execution_count": 14,
   "metadata": {},
   "outputs": [],
   "source": [
    "EPOCH_NUM = 3\n",
    "\n",
    "OUT_DIR = os.path.join(\"..\",\"..\",\"input\",\"cassava-models\")\n",
    "MODEL_NAME = \"VGG_cassava_trained_%dEpoch.mdl\"\n",
    "PATH = os.path.join(OUT_DIR,MODEL_NAME%EPOCH_NUM)"
   ]
  },
  {
   "cell_type": "code",
   "execution_count": 15,
   "metadata": {},
   "outputs": [
    {
     "name": "stderr",
     "output_type": "stream",
     "text": [
      "100%|████████████████████████████████████████████████████████████████████████████████████| 1/1 [00:00<00:00, 52.85it/s]\n"
     ]
    },
    {
     "data": {
      "text/html": [
       "<div>\n",
       "<style scoped>\n",
       "    .dataframe tbody tr th:only-of-type {\n",
       "        vertical-align: middle;\n",
       "    }\n",
       "\n",
       "    .dataframe tbody tr th {\n",
       "        vertical-align: top;\n",
       "    }\n",
       "\n",
       "    .dataframe thead th {\n",
       "        text-align: right;\n",
       "    }\n",
       "</style>\n",
       "<table border=\"1\" class=\"dataframe\">\n",
       "  <thead>\n",
       "    <tr style=\"text-align: right;\">\n",
       "      <th></th>\n",
       "      <th>image_id</th>\n",
       "      <th>label</th>\n",
       "    </tr>\n",
       "  </thead>\n",
       "  <tbody>\n",
       "    <tr>\n",
       "      <td>0</td>\n",
       "      <td>2216849948.jpg</td>\n",
       "      <td>3.0</td>\n",
       "    </tr>\n",
       "  </tbody>\n",
       "</table>\n",
       "</div>"
      ],
      "text/plain": [
       "         image_id  label\n",
       "0  2216849948.jpg    3.0"
      ]
     },
     "execution_count": 15,
     "metadata": {},
     "output_type": "execute_result"
    }
   ],
   "source": [
    "model = VGG11(num_classes=5)\n",
    "model.load_state_dict(torch.load(PATH))\n",
    "model.eval()\n",
    "model = model.cuda()\n",
    "\n",
    "pred_class = np.array([])\n",
    "\n",
    "# in your training loop:\n",
    "for batch in tqdm(test_data):\n",
    "    \n",
    "    X = batch[0].cuda()\n",
    "    y = batch[1].cuda()\n",
    "\n",
    "    pred = model(X)\n",
    "    pred = pred.cpu()\n",
    "    pred = torch.argmax(pred,axis=1)\n",
    "    pred_class = np.append(pred_class,pred.numpy())\n",
    "\n",
    "#submission\n",
    "sub_df = x\n",
    "sub_df[\"label\"] = pred_class\n",
    "sub_df = sub_df[[\"image_id\",\"label\"]]\n",
    "sub_df.to_csv(\"submission.csv\",index=False)\n",
    "\n",
    "sub_df"
   ]
  }
 ],
 "metadata": {
  "kernelspec": {
   "display_name": "Python 3",
   "language": "python",
   "name": "python3"
  },
  "language_info": {
   "codemirror_mode": {
    "name": "ipython",
    "version": 3
   },
   "file_extension": ".py",
   "mimetype": "text/x-python",
   "name": "python",
   "nbconvert_exporter": "python",
   "pygments_lexer": "ipython3",
   "version": "3.7.4"
  }
 },
 "nbformat": 4,
 "nbformat_minor": 4
}
