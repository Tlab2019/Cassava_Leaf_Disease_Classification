{
 "cells": [
  {
   "cell_type": "markdown",
   "metadata": {},
   "source": [
    "# **Cassava Stacking Ensemble CNN**\n",
    "2021/02/14 written by T.Yonezu"
   ]
  },
  {
   "cell_type": "code",
   "execution_count": 1,
   "metadata": {},
   "outputs": [],
   "source": [
    "%load_ext autoreload\n",
    "%autoreload 2\n",
    "\n",
    "import torch\n",
    "from torch.utils.data import DataLoader, Dataset\n",
    "\n",
    "import numpy as np \n",
    "import matplotlib.pyplot as plt\n",
    "import pandas as pd\n",
    "import glob \n",
    "import os\n",
    "from tqdm import tqdm\n",
    "\n",
    "from cassava_dataset import *\n",
    "from augmentation import *\n",
    "from my_nn_trainer import *\n",
    "from my_loss import BiTemperedLogisticLoss\n",
    "\n",
    "import warnings\n",
    "warnings.simplefilter('ignore')"
   ]
  },
  {
   "cell_type": "code",
   "execution_count": 2,
   "metadata": {},
   "outputs": [],
   "source": [
    "INPUT_DIR = os.path.join(\"..\",\"..\",\"input\")"
   ]
  },
  {
   "cell_type": "markdown",
   "metadata": {},
   "source": [
    "### **Configuration**"
   ]
  },
  {
   "cell_type": "code",
   "execution_count": 3,
   "metadata": {},
   "outputs": [],
   "source": [
    "OPT_NAME = \"Adam\"\n",
    "\n",
    "LOSS_NAME = \"BiTLLoss\"\n",
    "#LOSS_NAME = \"CELoss\"\n",
    "\n",
    "BATCH_SIZE = 1000"
   ]
  },
  {
   "cell_type": "markdown",
   "metadata": {},
   "source": [
    "### **make Dataset**"
   ]
  },
  {
   "cell_type": "code",
   "execution_count": 4,
   "metadata": {},
   "outputs": [
    {
     "data": {
      "text/plain": [
       "['..\\\\..\\\\input\\\\stacking_ensemble_data\\\\resnet50',\n",
       " '..\\\\..\\\\input\\\\stacking_ensemble_data\\\\tf_efficientnet_b1_ns',\n",
       " '..\\\\..\\\\input\\\\stacking_ensemble_data\\\\tf_efficientnet_b4_ns',\n",
       " '..\\\\..\\\\input\\\\stacking_ensemble_data\\\\tf_efficientnet_b5_ns']"
      ]
     },
     "execution_count": 4,
     "metadata": {},
     "output_type": "execute_result"
    }
   ],
   "source": [
    "#glob.glob(os.path.join(INPUT_DIR,\"stacking_ensemble_data\",\"*\"))\n",
    "model_list = [\n",
    " '..\\\\..\\\\input\\\\stacking_ensemble_data\\\\resnet50',\n",
    "# '..\\\\..\\\\input\\\\stacking_ensemble_data\\\\resnext50_32x4d',\n",
    "# '..\\\\..\\\\input\\\\stacking_ensemble_data\\\\seresnext50_32x4d',\n",
    " '..\\\\..\\\\input\\\\stacking_ensemble_data\\\\tf_efficientnet_b1_ns',\n",
    "# '..\\\\..\\\\input\\\\stacking_ensemble_data\\\\tf_efficientnet_b3_ns',\n",
    " '..\\\\..\\\\input\\\\stacking_ensemble_data\\\\tf_efficientnet_b4_ns',\n",
    " '..\\\\..\\\\input\\\\stacking_ensemble_data\\\\tf_efficientnet_b5_ns'\n",
    "]\n",
    "\n",
    "model_list"
   ]
  },
  {
   "cell_type": "code",
   "execution_count": 5,
   "metadata": {},
   "outputs": [
    {
     "data": {
      "text/html": [
       "<div>\n",
       "<style scoped>\n",
       "    .dataframe tbody tr th:only-of-type {\n",
       "        vertical-align: middle;\n",
       "    }\n",
       "\n",
       "    .dataframe tbody tr th {\n",
       "        vertical-align: top;\n",
       "    }\n",
       "\n",
       "    .dataframe thead th {\n",
       "        text-align: right;\n",
       "    }\n",
       "</style>\n",
       "<table border=\"1\" class=\"dataframe\">\n",
       "  <thead>\n",
       "    <tr style=\"text-align: right;\">\n",
       "      <th></th>\n",
       "      <th>resnet50-c0_proba</th>\n",
       "      <th>resnet50-c1_proba</th>\n",
       "      <th>resnet50-c2_proba</th>\n",
       "      <th>resnet50-c3_proba</th>\n",
       "      <th>resnet50-c4_proba</th>\n",
       "      <th>tf_efficientnet_b1_ns-c0_proba</th>\n",
       "      <th>tf_efficientnet_b1_ns-c1_proba</th>\n",
       "      <th>tf_efficientnet_b1_ns-c2_proba</th>\n",
       "      <th>tf_efficientnet_b1_ns-c3_proba</th>\n",
       "      <th>tf_efficientnet_b1_ns-c4_proba</th>\n",
       "      <th>...</th>\n",
       "      <th>tf_efficientnet_b4_ns-c1_proba</th>\n",
       "      <th>tf_efficientnet_b4_ns-c2_proba</th>\n",
       "      <th>tf_efficientnet_b4_ns-c3_proba</th>\n",
       "      <th>tf_efficientnet_b4_ns-c4_proba</th>\n",
       "      <th>tf_efficientnet_b5_ns-c0_proba</th>\n",
       "      <th>tf_efficientnet_b5_ns-c1_proba</th>\n",
       "      <th>tf_efficientnet_b5_ns-c2_proba</th>\n",
       "      <th>tf_efficientnet_b5_ns-c3_proba</th>\n",
       "      <th>tf_efficientnet_b5_ns-c4_proba</th>\n",
       "      <th>label</th>\n",
       "    </tr>\n",
       "  </thead>\n",
       "  <tbody>\n",
       "    <tr>\n",
       "      <th>0</th>\n",
       "      <td>9.660430e-10</td>\n",
       "      <td>1.476140e-08</td>\n",
       "      <td>2.769000e-07</td>\n",
       "      <td>1.000000</td>\n",
       "      <td>2.211294e-09</td>\n",
       "      <td>7.780925e-07</td>\n",
       "      <td>3.205784e-07</td>\n",
       "      <td>2.359537e-06</td>\n",
       "      <td>0.999986</td>\n",
       "      <td>1.061610e-05</td>\n",
       "      <td>...</td>\n",
       "      <td>8.827715e-12</td>\n",
       "      <td>4.113909e-11</td>\n",
       "      <td>1.000000</td>\n",
       "      <td>9.307120e-11</td>\n",
       "      <td>1.975049e-07</td>\n",
       "      <td>5.442644e-07</td>\n",
       "      <td>1.253155e-06</td>\n",
       "      <td>0.999997</td>\n",
       "      <td>6.288963e-07</td>\n",
       "      <td>3.0</td>\n",
       "    </tr>\n",
       "    <tr>\n",
       "      <th>1</th>\n",
       "      <td>1.357933e-05</td>\n",
       "      <td>2.775435e-05</td>\n",
       "      <td>9.884184e-01</td>\n",
       "      <td>0.000613</td>\n",
       "      <td>1.092685e-02</td>\n",
       "      <td>6.645226e-04</td>\n",
       "      <td>4.767717e-04</td>\n",
       "      <td>9.597803e-01</td>\n",
       "      <td>0.003533</td>\n",
       "      <td>3.554523e-02</td>\n",
       "      <td>...</td>\n",
       "      <td>2.008299e-03</td>\n",
       "      <td>9.527927e-01</td>\n",
       "      <td>0.004517</td>\n",
       "      <td>3.638878e-02</td>\n",
       "      <td>8.024587e-04</td>\n",
       "      <td>4.801068e-04</td>\n",
       "      <td>8.903761e-01</td>\n",
       "      <td>0.008444</td>\n",
       "      <td>9.989742e-02</td>\n",
       "      <td>2.0</td>\n",
       "    </tr>\n",
       "    <tr>\n",
       "      <th>2</th>\n",
       "      <td>2.317385e-09</td>\n",
       "      <td>1.064725e-05</td>\n",
       "      <td>3.250399e-06</td>\n",
       "      <td>0.999986</td>\n",
       "      <td>5.376766e-10</td>\n",
       "      <td>6.412039e-08</td>\n",
       "      <td>1.219352e-06</td>\n",
       "      <td>1.929583e-06</td>\n",
       "      <td>0.999997</td>\n",
       "      <td>1.245647e-07</td>\n",
       "      <td>...</td>\n",
       "      <td>2.274946e-04</td>\n",
       "      <td>4.506631e-04</td>\n",
       "      <td>0.999311</td>\n",
       "      <td>6.188137e-06</td>\n",
       "      <td>3.603334e-07</td>\n",
       "      <td>2.593379e-04</td>\n",
       "      <td>3.810736e-05</td>\n",
       "      <td>0.999701</td>\n",
       "      <td>7.166085e-07</td>\n",
       "      <td>3.0</td>\n",
       "    </tr>\n",
       "    <tr>\n",
       "      <th>3</th>\n",
       "      <td>1.630498e-09</td>\n",
       "      <td>2.336278e-07</td>\n",
       "      <td>5.083764e-06</td>\n",
       "      <td>0.999995</td>\n",
       "      <td>1.484585e-09</td>\n",
       "      <td>3.279894e-11</td>\n",
       "      <td>5.130617e-10</td>\n",
       "      <td>7.625981e-11</td>\n",
       "      <td>1.000000</td>\n",
       "      <td>5.450043e-11</td>\n",
       "      <td>...</td>\n",
       "      <td>7.792757e-10</td>\n",
       "      <td>5.419011e-10</td>\n",
       "      <td>1.000000</td>\n",
       "      <td>6.472086e-11</td>\n",
       "      <td>9.910337e-09</td>\n",
       "      <td>5.003481e-08</td>\n",
       "      <td>2.118291e-09</td>\n",
       "      <td>1.000000</td>\n",
       "      <td>5.871680e-09</td>\n",
       "      <td>3.0</td>\n",
       "    </tr>\n",
       "    <tr>\n",
       "      <th>4</th>\n",
       "      <td>1.024597e-07</td>\n",
       "      <td>9.999533e-01</td>\n",
       "      <td>7.167890e-07</td>\n",
       "      <td>0.000046</td>\n",
       "      <td>2.768457e-08</td>\n",
       "      <td>1.325643e-04</td>\n",
       "      <td>9.992921e-01</td>\n",
       "      <td>9.812938e-05</td>\n",
       "      <td>0.000322</td>\n",
       "      <td>1.549834e-04</td>\n",
       "      <td>...</td>\n",
       "      <td>9.979163e-01</td>\n",
       "      <td>8.632378e-04</td>\n",
       "      <td>0.000380</td>\n",
       "      <td>4.697928e-04</td>\n",
       "      <td>2.218937e-05</td>\n",
       "      <td>9.999232e-01</td>\n",
       "      <td>1.520590e-05</td>\n",
       "      <td>0.000007</td>\n",
       "      <td>3.269783e-05</td>\n",
       "      <td>1.0</td>\n",
       "    </tr>\n",
       "    <tr>\n",
       "      <th>...</th>\n",
       "      <td>...</td>\n",
       "      <td>...</td>\n",
       "      <td>...</td>\n",
       "      <td>...</td>\n",
       "      <td>...</td>\n",
       "      <td>...</td>\n",
       "      <td>...</td>\n",
       "      <td>...</td>\n",
       "      <td>...</td>\n",
       "      <td>...</td>\n",
       "      <td>...</td>\n",
       "      <td>...</td>\n",
       "      <td>...</td>\n",
       "      <td>...</td>\n",
       "      <td>...</td>\n",
       "      <td>...</td>\n",
       "      <td>...</td>\n",
       "      <td>...</td>\n",
       "      <td>...</td>\n",
       "      <td>...</td>\n",
       "      <td>...</td>\n",
       "    </tr>\n",
       "    <tr>\n",
       "      <th>21392</th>\n",
       "      <td>2.405553e-04</td>\n",
       "      <td>5.428724e-01</td>\n",
       "      <td>1.357525e-03</td>\n",
       "      <td>0.455362</td>\n",
       "      <td>1.672799e-04</td>\n",
       "      <td>6.438458e-04</td>\n",
       "      <td>8.206483e-01</td>\n",
       "      <td>1.982889e-04</td>\n",
       "      <td>0.167705</td>\n",
       "      <td>1.080508e-02</td>\n",
       "      <td>...</td>\n",
       "      <td>9.593705e-01</td>\n",
       "      <td>1.881186e-03</td>\n",
       "      <td>0.015611</td>\n",
       "      <td>1.849925e-02</td>\n",
       "      <td>2.890997e-04</td>\n",
       "      <td>9.958012e-01</td>\n",
       "      <td>4.173641e-04</td>\n",
       "      <td>0.002747</td>\n",
       "      <td>7.454866e-04</td>\n",
       "      <td>1.0</td>\n",
       "    </tr>\n",
       "    <tr>\n",
       "      <th>21393</th>\n",
       "      <td>1.448970e-02</td>\n",
       "      <td>7.055876e-02</td>\n",
       "      <td>1.256430e-02</td>\n",
       "      <td>0.708801</td>\n",
       "      <td>1.935862e-01</td>\n",
       "      <td>2.199224e-06</td>\n",
       "      <td>8.800630e-06</td>\n",
       "      <td>2.612033e-05</td>\n",
       "      <td>0.999938</td>\n",
       "      <td>2.507066e-05</td>\n",
       "      <td>...</td>\n",
       "      <td>6.434574e-05</td>\n",
       "      <td>6.807243e-04</td>\n",
       "      <td>0.999151</td>\n",
       "      <td>9.003587e-05</td>\n",
       "      <td>3.123372e-04</td>\n",
       "      <td>1.989218e-04</td>\n",
       "      <td>6.228488e-03</td>\n",
       "      <td>0.987249</td>\n",
       "      <td>6.011625e-03</td>\n",
       "      <td>3.0</td>\n",
       "    </tr>\n",
       "    <tr>\n",
       "      <th>21394</th>\n",
       "      <td>1.087766e-07</td>\n",
       "      <td>3.949097e-05</td>\n",
       "      <td>1.429512e-02</td>\n",
       "      <td>0.985665</td>\n",
       "      <td>9.159906e-08</td>\n",
       "      <td>6.572399e-05</td>\n",
       "      <td>1.623268e-05</td>\n",
       "      <td>5.387643e-02</td>\n",
       "      <td>0.945702</td>\n",
       "      <td>3.396930e-04</td>\n",
       "      <td>...</td>\n",
       "      <td>1.373490e-05</td>\n",
       "      <td>4.113743e-03</td>\n",
       "      <td>0.995844</td>\n",
       "      <td>1.490909e-05</td>\n",
       "      <td>4.602800e-04</td>\n",
       "      <td>4.804888e-04</td>\n",
       "      <td>3.121431e-02</td>\n",
       "      <td>0.967263</td>\n",
       "      <td>5.818484e-04</td>\n",
       "      <td>3.0</td>\n",
       "    </tr>\n",
       "    <tr>\n",
       "      <th>21395</th>\n",
       "      <td>3.769438e-08</td>\n",
       "      <td>9.999952e-01</td>\n",
       "      <td>2.560512e-08</td>\n",
       "      <td>0.000005</td>\n",
       "      <td>3.533622e-09</td>\n",
       "      <td>4.419872e-05</td>\n",
       "      <td>9.985771e-01</td>\n",
       "      <td>1.334885e-05</td>\n",
       "      <td>0.001296</td>\n",
       "      <td>6.967030e-05</td>\n",
       "      <td>...</td>\n",
       "      <td>9.977456e-01</td>\n",
       "      <td>3.269041e-05</td>\n",
       "      <td>0.002021</td>\n",
       "      <td>1.602805e-04</td>\n",
       "      <td>1.071888e-05</td>\n",
       "      <td>9.998552e-01</td>\n",
       "      <td>1.016827e-05</td>\n",
       "      <td>0.000068</td>\n",
       "      <td>5.545440e-05</td>\n",
       "      <td>1.0</td>\n",
       "    </tr>\n",
       "    <tr>\n",
       "      <th>21396</th>\n",
       "      <td>2.229204e-07</td>\n",
       "      <td>3.676434e-05</td>\n",
       "      <td>7.676181e-06</td>\n",
       "      <td>0.999955</td>\n",
       "      <td>1.183921e-07</td>\n",
       "      <td>1.661678e-04</td>\n",
       "      <td>1.027890e-03</td>\n",
       "      <td>1.315410e-02</td>\n",
       "      <td>0.985099</td>\n",
       "      <td>5.523434e-04</td>\n",
       "      <td>...</td>\n",
       "      <td>2.199313e-04</td>\n",
       "      <td>1.123467e-03</td>\n",
       "      <td>0.997729</td>\n",
       "      <td>8.957058e-04</td>\n",
       "      <td>3.259767e-06</td>\n",
       "      <td>3.389621e-06</td>\n",
       "      <td>1.014731e-03</td>\n",
       "      <td>0.998958</td>\n",
       "      <td>2.044203e-05</td>\n",
       "      <td>3.0</td>\n",
       "    </tr>\n",
       "  </tbody>\n",
       "</table>\n",
       "<p>21397 rows × 21 columns</p>\n",
       "</div>"
      ],
      "text/plain": [
       "       resnet50-c0_proba  resnet50-c1_proba  resnet50-c2_proba  \\\n",
       "0           9.660430e-10       1.476140e-08       2.769000e-07   \n",
       "1           1.357933e-05       2.775435e-05       9.884184e-01   \n",
       "2           2.317385e-09       1.064725e-05       3.250399e-06   \n",
       "3           1.630498e-09       2.336278e-07       5.083764e-06   \n",
       "4           1.024597e-07       9.999533e-01       7.167890e-07   \n",
       "...                  ...                ...                ...   \n",
       "21392       2.405553e-04       5.428724e-01       1.357525e-03   \n",
       "21393       1.448970e-02       7.055876e-02       1.256430e-02   \n",
       "21394       1.087766e-07       3.949097e-05       1.429512e-02   \n",
       "21395       3.769438e-08       9.999952e-01       2.560512e-08   \n",
       "21396       2.229204e-07       3.676434e-05       7.676181e-06   \n",
       "\n",
       "       resnet50-c3_proba  resnet50-c4_proba  tf_efficientnet_b1_ns-c0_proba  \\\n",
       "0               1.000000       2.211294e-09                    7.780925e-07   \n",
       "1               0.000613       1.092685e-02                    6.645226e-04   \n",
       "2               0.999986       5.376766e-10                    6.412039e-08   \n",
       "3               0.999995       1.484585e-09                    3.279894e-11   \n",
       "4               0.000046       2.768457e-08                    1.325643e-04   \n",
       "...                  ...                ...                             ...   \n",
       "21392           0.455362       1.672799e-04                    6.438458e-04   \n",
       "21393           0.708801       1.935862e-01                    2.199224e-06   \n",
       "21394           0.985665       9.159906e-08                    6.572399e-05   \n",
       "21395           0.000005       3.533622e-09                    4.419872e-05   \n",
       "21396           0.999955       1.183921e-07                    1.661678e-04   \n",
       "\n",
       "       tf_efficientnet_b1_ns-c1_proba  tf_efficientnet_b1_ns-c2_proba  \\\n",
       "0                        3.205784e-07                    2.359537e-06   \n",
       "1                        4.767717e-04                    9.597803e-01   \n",
       "2                        1.219352e-06                    1.929583e-06   \n",
       "3                        5.130617e-10                    7.625981e-11   \n",
       "4                        9.992921e-01                    9.812938e-05   \n",
       "...                               ...                             ...   \n",
       "21392                    8.206483e-01                    1.982889e-04   \n",
       "21393                    8.800630e-06                    2.612033e-05   \n",
       "21394                    1.623268e-05                    5.387643e-02   \n",
       "21395                    9.985771e-01                    1.334885e-05   \n",
       "21396                    1.027890e-03                    1.315410e-02   \n",
       "\n",
       "       tf_efficientnet_b1_ns-c3_proba  tf_efficientnet_b1_ns-c4_proba  ...  \\\n",
       "0                            0.999986                    1.061610e-05  ...   \n",
       "1                            0.003533                    3.554523e-02  ...   \n",
       "2                            0.999997                    1.245647e-07  ...   \n",
       "3                            1.000000                    5.450043e-11  ...   \n",
       "4                            0.000322                    1.549834e-04  ...   \n",
       "...                               ...                             ...  ...   \n",
       "21392                        0.167705                    1.080508e-02  ...   \n",
       "21393                        0.999938                    2.507066e-05  ...   \n",
       "21394                        0.945702                    3.396930e-04  ...   \n",
       "21395                        0.001296                    6.967030e-05  ...   \n",
       "21396                        0.985099                    5.523434e-04  ...   \n",
       "\n",
       "       tf_efficientnet_b4_ns-c1_proba  tf_efficientnet_b4_ns-c2_proba  \\\n",
       "0                        8.827715e-12                    4.113909e-11   \n",
       "1                        2.008299e-03                    9.527927e-01   \n",
       "2                        2.274946e-04                    4.506631e-04   \n",
       "3                        7.792757e-10                    5.419011e-10   \n",
       "4                        9.979163e-01                    8.632378e-04   \n",
       "...                               ...                             ...   \n",
       "21392                    9.593705e-01                    1.881186e-03   \n",
       "21393                    6.434574e-05                    6.807243e-04   \n",
       "21394                    1.373490e-05                    4.113743e-03   \n",
       "21395                    9.977456e-01                    3.269041e-05   \n",
       "21396                    2.199313e-04                    1.123467e-03   \n",
       "\n",
       "       tf_efficientnet_b4_ns-c3_proba  tf_efficientnet_b4_ns-c4_proba  \\\n",
       "0                            1.000000                    9.307120e-11   \n",
       "1                            0.004517                    3.638878e-02   \n",
       "2                            0.999311                    6.188137e-06   \n",
       "3                            1.000000                    6.472086e-11   \n",
       "4                            0.000380                    4.697928e-04   \n",
       "...                               ...                             ...   \n",
       "21392                        0.015611                    1.849925e-02   \n",
       "21393                        0.999151                    9.003587e-05   \n",
       "21394                        0.995844                    1.490909e-05   \n",
       "21395                        0.002021                    1.602805e-04   \n",
       "21396                        0.997729                    8.957058e-04   \n",
       "\n",
       "       tf_efficientnet_b5_ns-c0_proba  tf_efficientnet_b5_ns-c1_proba  \\\n",
       "0                        1.975049e-07                    5.442644e-07   \n",
       "1                        8.024587e-04                    4.801068e-04   \n",
       "2                        3.603334e-07                    2.593379e-04   \n",
       "3                        9.910337e-09                    5.003481e-08   \n",
       "4                        2.218937e-05                    9.999232e-01   \n",
       "...                               ...                             ...   \n",
       "21392                    2.890997e-04                    9.958012e-01   \n",
       "21393                    3.123372e-04                    1.989218e-04   \n",
       "21394                    4.602800e-04                    4.804888e-04   \n",
       "21395                    1.071888e-05                    9.998552e-01   \n",
       "21396                    3.259767e-06                    3.389621e-06   \n",
       "\n",
       "       tf_efficientnet_b5_ns-c2_proba  tf_efficientnet_b5_ns-c3_proba  \\\n",
       "0                        1.253155e-06                        0.999997   \n",
       "1                        8.903761e-01                        0.008444   \n",
       "2                        3.810736e-05                        0.999701   \n",
       "3                        2.118291e-09                        1.000000   \n",
       "4                        1.520590e-05                        0.000007   \n",
       "...                               ...                             ...   \n",
       "21392                    4.173641e-04                        0.002747   \n",
       "21393                    6.228488e-03                        0.987249   \n",
       "21394                    3.121431e-02                        0.967263   \n",
       "21395                    1.016827e-05                        0.000068   \n",
       "21396                    1.014731e-03                        0.998958   \n",
       "\n",
       "       tf_efficientnet_b5_ns-c4_proba  label  \n",
       "0                        6.288963e-07    3.0  \n",
       "1                        9.989742e-02    2.0  \n",
       "2                        7.166085e-07    3.0  \n",
       "3                        5.871680e-09    3.0  \n",
       "4                        3.269783e-05    1.0  \n",
       "...                               ...    ...  \n",
       "21392                    7.454866e-04    1.0  \n",
       "21393                    6.011625e-03    3.0  \n",
       "21394                    5.818484e-04    3.0  \n",
       "21395                    5.545440e-05    1.0  \n",
       "21396                    2.044203e-05    3.0  \n",
       "\n",
       "[21397 rows x 21 columns]"
      ]
     },
     "metadata": {},
     "output_type": "display_data"
    }
   ],
   "source": [
    "def read_csv(path):\n",
    "    df = pd.read_csv(path,header=None,names=[\"label\",\"c0_proba\",\"c1_proba\",\"c2_proba\",\"c3_proba\",\"c4_proba\"])\n",
    "    return df\n",
    "\n",
    "df = []\n",
    "use_col = [\"c0_proba\",\"c1_proba\",\"c2_proba\",\"c3_proba\",\"c4_proba\"]\n",
    "for p in model_list:\n",
    "    \n",
    "    model_name = p.split(os.path.sep)[-1]\n",
    "    \n",
    "    csv_df = pd.concat(map(read_csv,np.sort(glob.glob(os.path.join(p,\"*.csv\")))))\n",
    "    csv_df = csv_df.reset_index(drop=True)\n",
    "    \n",
    "    label = csv_df[\"label\"]\n",
    "    csv_df = csv_df[use_col]\n",
    "    csv_df.columns = [model_name+\"-\"+c for c in csv_df.columns]\n",
    "    \n",
    "    df.append(csv_df)\n",
    "    \n",
    "df = pd.concat(df,axis=1)\n",
    "df[\"label\"] = label\n",
    "\n",
    "display(df)"
   ]
  },
  {
   "cell_type": "code",
   "execution_count": 6,
   "metadata": {},
   "outputs": [],
   "source": [
    "class StackingDataset(data.Dataset):\n",
    "    def __init__(self, df,features,target):\n",
    "        self.df = df\n",
    "        self.target = target\n",
    "        self.features = features\n",
    "        \n",
    "    def __len__(self):\n",
    "        return len(self.df)\n",
    "    \n",
    "    def __getitem__(self, index):\n",
    "        \n",
    "        label = self.df[self.target].values[index]\n",
    "        img = np.array(self.df[features].iloc[index])\n",
    "        img = img.reshape([-1,5])[np.newaxis,:,:]\n",
    "        img = torch.from_numpy(img)\n",
    "\n",
    "        return img.float(), int(label)\n",
    "\n",
    "features = [c for c in df.columns if \"proba\" in c]\n",
    "target = \"label\"\n",
    "\n",
    "\n",
    "from sklearn.model_selection import train_test_split\n",
    "\n",
    "train_df, test_df = train_test_split(df, \n",
    "                                     test_size=0.2,\n",
    "                                     random_state=2021,\n",
    "                                     stratify=df[target])\n",
    "\n",
    "train_dataloader = DataLoader(StackingDataset(train_df,features,target),\n",
    "                              batch_size=BATCH_SIZE,\n",
    "                              shuffle=True)\n",
    "\n",
    "valid_dataloader = DataLoader(StackingDataset(test_df,features,target),\n",
    "                              batch_size=BATCH_SIZE)"
   ]
  },
  {
   "cell_type": "markdown",
   "metadata": {},
   "source": [
    "### **2D-CNN for Stacking Ensemble**"
   ]
  },
  {
   "cell_type": "code",
   "execution_count": 7,
   "metadata": {},
   "outputs": [
    {
     "name": "stdout",
     "output_type": "stream",
     "text": [
      "my2DCNN(\n",
      "  (feature): Sequential(\n",
      "    (0): Conv2d(1, 8, kernel_size=(1, 3), stride=(1, 1))\n",
      "    (1): ReLU(inplace=True)\n",
      "    (2): Conv2d(8, 16, kernel_size=(1, 3), stride=(1, 1))\n",
      "    (3): ReLU(inplace=True)\n",
      "  )\n",
      "  (classifier): Sequential(\n",
      "    (0): Linear(in_features=64, out_features=2048, bias=True)\n",
      "    (1): ReLU(inplace=True)\n",
      "    (2): Dropout(p=0.8, inplace=False)\n",
      "    (3): Linear(in_features=2048, out_features=5, bias=True)\n",
      "  )\n",
      ")\n"
     ]
    }
   ],
   "source": [
    "class my2DCNN(nn.Module):\n",
    "    def __init__(self,model_num):\n",
    "        super().__init__()\n",
    "        \n",
    "        self.feature = nn.Sequential(\n",
    "            nn.Conv2d(1,8,kernel_size=(1,3),stride=1,padding=0),\n",
    "            nn.ReLU(inplace=True),\n",
    "            nn.Conv2d(8,16,kernel_size=(1,3),stride=1,padding=0),\n",
    "            nn.ReLU(inplace=True)\n",
    "        )\n",
    "        \n",
    "        self.classifier = nn.Sequential(\n",
    "            nn.Linear(16*model_num*1,2048),\n",
    "            nn.ReLU(inplace=True),\n",
    "            nn.Dropout(0.8),\n",
    "            nn.Linear(2048,5)\n",
    "        )\n",
    "        \n",
    "        self.model_num = model_num\n",
    "        \n",
    "        \n",
    "    def forward(self,x):\n",
    "        x = self.feature(x)\n",
    "        x = x.view(-1,16*self.model_num*1)\n",
    "        x = self.classifier(x)\n",
    "        \n",
    "        return x\n",
    "    \n",
    "    def check_cnn_size(self,x):\n",
    "        out = self.feature(x)\n",
    "        return out \n",
    "\n",
    "\n",
    "model = my2DCNN(model_num=len(model_list))\n",
    "print(model)\n",
    "MODEL_NAME = \"2D_CNN\""
   ]
  },
  {
   "cell_type": "markdown",
   "metadata": {},
   "source": [
    "### **Optimizer**"
   ]
  },
  {
   "cell_type": "code",
   "execution_count": 8,
   "metadata": {},
   "outputs": [],
   "source": [
    "import torch.optim as optim\n",
    "from torch import nn\n",
    "\n",
    "lr = 0.0001\n",
    "if OPT_NAME == \"SGD\":\n",
    "    optimizer = optim.SGD(model.parameters(), lr=lr)\n",
    "if OPT_NAME == \"Adam\":\n",
    "    optimizer = optim.Adam(model.parameters(), lr=lr)\n",
    "    \n",
    "MODEL_NAME += \"-\"+OPT_NAME+\"(lr%s)\"%lr"
   ]
  },
  {
   "cell_type": "markdown",
   "metadata": {},
   "source": [
    "### **Criterion**"
   ]
  },
  {
   "cell_type": "code",
   "execution_count": 9,
   "metadata": {},
   "outputs": [],
   "source": [
    "if LOSS_NAME == \"BiTLLoss\":\n",
    "    t1,t2,label_smoothing,num_iters,reduction = (0.2,1.2,0.01,5,\"mean\")\n",
    "    criterion = BiTemperedLogisticLoss(t1,t2,label_smoothing,num_iters,reduction)\n",
    "    MODEL_NAME = MODEL_NAME+\"-\"+LOSS_NAME+\"(%s,%s)\"%(t1,t2)\n",
    "    \n",
    "if LOSS_NAME == \"CELoss\":\n",
    "    criterion = nn.CrossEntropyLoss()\n",
    "    MODEL_NAME = MODEL_NAME+\"-\"+LOSS_NAME"
   ]
  },
  {
   "cell_type": "markdown",
   "metadata": {},
   "source": [
    "### **Training**"
   ]
  },
  {
   "cell_type": "code",
   "execution_count": 9,
   "metadata": {},
   "outputs": [
    {
     "name": "stdout",
     "output_type": "stream",
     "text": [
      "2D_CNN-Adam(lr0.0001)-BiTLLoss(0.2,1.2)\n"
     ]
    },
    {
     "name": "stderr",
     "output_type": "stream",
     "text": [
      "  0%|                                                                                          | 0/100 [00:00<?, ?it/s]"
     ]
    },
    {
     "name": "stdout",
     "output_type": "stream",
     "text": [
      "===========================================\n",
      "epoch:  0 \n",
      "\n",
      " > train loss: 0.4706457415730583   valid loss: 0.43898657468841906\n",
      " > train acc: 0.46214363608038633   valid acc: 0.6149082836779998\n",
      " > best acc:  -inf\n",
      "   ! best acc updated ! =>  0.6149082836779998\n"
     ]
    },
    {
     "data": {
      "image/png": "[encoded data removed]",
      "text/plain": [
       "<Figure size 720x216 with 2 Axes>"
      ]
     },
     "metadata": {
      "needs_background": "light"
     },
     "output_type": "display_data"
    },
    {
     "name": "stderr",
     "output_type": "stream",
     "text": [
      "  1%|▊                                                                                 | 1/100 [00:23<38:53, 23.57s/it]"
     ]
    },
    {
     "name": "stdout",
     "output_type": "stream",
     "text": [
      "===========================================\n",
      "epoch:  1 \n",
      "\n"
     ]
    },
    {
     "name": "stderr",
     "output_type": "stream",
     "text": [
      "  2%|█▋                                                                                | 2/100 [00:45<37:34, 23.00s/it]"
     ]
    },
    {
     "name": "stdout",
     "output_type": "stream",
     "text": [
      " > train loss: 0.4090757666300494   valid loss: 0.37531266594506935\n",
      " > train acc: 0.6149711793114192   valid acc: 0.6149082836779998\n",
      " > best acc:  0.6149082836779998\n",
      "===========================================\n",
      "epoch:  2 \n",
      "\n"
     ]
    },
    {
     "name": "stderr",
     "output_type": "stream",
     "text": [
      "  3%|██▍                                                                               | 3/100 [01:06<36:23, 22.51s/it]"
     ]
    },
    {
     "name": "stdout",
     "output_type": "stream",
     "text": [
      " > train loss: 0.35337766938109993   valid loss: 0.3334270605334529\n",
      " > train acc: 0.6149711793114192   valid acc: 0.6149082836779998\n",
      " > best acc:  0.6149082836779998\n",
      "===========================================\n",
      "epoch:  3 \n",
      "\n"
     ]
    },
    {
     "name": "stderr",
     "output_type": "stream",
     "text": [
      "  4%|███▎                                                                              | 4/100 [01:28<35:30, 22.19s/it]"
     ]
    },
    {
     "name": "stdout",
     "output_type": "stream",
     "text": [
      " > train loss: 0.326777132997856   valid loss: 0.3180281909036642\n",
      " > train acc: 0.6149711793114192   valid acc: 0.6149082836779998\n",
      " > best acc:  0.6149082836779998\n",
      "===========================================\n",
      "epoch:  4 \n",
      "\n"
     ]
    },
    {
     "name": "stderr",
     "output_type": "stream",
     "text": [
      "  5%|████                                                                              | 5/100 [01:49<34:49, 22.00s/it]"
     ]
    },
    {
     "name": "stdout",
     "output_type": "stream",
     "text": [
      " > train loss: 0.31342270866809446   valid loss: 0.30375005684524015\n",
      " > train acc: 0.6149711793114192   valid acc: 0.6149082836779998\n",
      " > best acc:  0.6149082836779998\n",
      "===========================================\n",
      "epoch:  5 \n",
      "\n",
      " > train loss: 0.2973542282989527   valid loss: 0.2861433432806679\n",
      " > train acc: 0.6149711793114192   valid acc: 0.6149082836779998\n",
      " > best acc:  0.6149082836779998\n"
     ]
    },
    {
     "data": {
      "image/png": "[encoded data removed]",
      "text/plain": [
       "<Figure size 720x216 with 2 Axes>"
      ]
     },
     "metadata": {
      "needs_background": "light"
     },
     "output_type": "display_data"
    },
    {
     "name": "stderr",
     "output_type": "stream",
     "text": [
      "  6%|████▉                                                                             | 6/100 [02:11<34:31, 22.03s/it]"
     ]
    },
    {
     "name": "stdout",
     "output_type": "stream",
     "text": [
      "===========================================\n",
      "epoch:  6 \n",
      "\n"
     ]
    },
    {
     "name": "stderr",
     "output_type": "stream",
     "text": [
      "  7%|█████▋                                                                            | 7/100 [02:33<34:01, 21.95s/it]"
     ]
    },
    {
     "name": "stdout",
     "output_type": "stream",
     "text": [
      " > train loss: 0.27797628006639463   valid loss: 0.2639302233799218\n",
      " > train acc: 0.6149711793114192   valid acc: 0.6149082836779998\n",
      " > best acc:  0.6149082836779998\n",
      "===========================================\n",
      "epoch:  7 \n",
      "\n"
     ]
    },
    {
     "name": "stderr",
     "output_type": "stream",
     "text": [
      "  8%|██████▌                                                                           | 8/100 [02:55<33:33, 21.89s/it]"
     ]
    },
    {
     "name": "stdout",
     "output_type": "stream",
     "text": [
      " > train loss: 0.25365487882273463   valid loss: 0.23788447476656224\n",
      " > train acc: 0.6173858856519707   valid acc: 0.6149082836779998\n",
      " > best acc:  0.6149082836779998\n",
      "===========================================\n",
      "epoch:  8 \n",
      "\n"
     ]
    },
    {
     "name": "stderr",
     "output_type": "stream",
     "text": [
      "  9%|███████▍                                                                          | 9/100 [03:16<33:01, 21.78s/it]"
     ]
    },
    {
     "name": "stdout",
     "output_type": "stream",
     "text": [
      " > train loss: 0.22761009771201002   valid loss: 0.2115648288755498\n",
      " > train acc: 0.6701978501324194   valid acc: 0.7667951863535459\n",
      " > best acc:  0.6149082836779998\n",
      "   ! best acc updated ! =>  0.7667951863535459\n",
      "===========================================\n",
      "epoch:  9 \n",
      "\n"
     ]
    },
    {
     "name": "stderr",
     "output_type": "stream",
     "text": [
      " 10%|████████                                                                         | 10/100 [03:38<32:38, 21.77s/it]"
     ]
    },
    {
     "name": "stdout",
     "output_type": "stream",
     "text": [
      " > train loss: 0.2018934325913548   valid loss: 0.18696896550964287\n",
      " > train acc: 0.7884405670665212   valid acc: 0.8364294894263349\n",
      " > best acc:  0.7667951863535459\n",
      "   ! best acc updated ! =>  0.8364294894263349\n",
      "===========================================\n",
      "epoch:  10 \n",
      "\n",
      " > train loss: 0.17987914478125128   valid loss: 0.16691114864821244\n",
      " > train acc: 0.8308926624084748   valid acc: 0.8627176071971024\n",
      " > best acc:  0.8364294894263349\n",
      "   ! best acc updated ! =>  0.8627176071971024\n"
     ]
    },
    {
     "data": {
      "image/png": "[encoded data removed]",
      "text/plain": [
       "<Figure size 720x216 with 2 Axes>"
      ]
     },
     "metadata": {
      "needs_background": "light"
     },
     "output_type": "display_data"
    },
    {
     "name": "stderr",
     "output_type": "stream",
     "text": [
      " 11%|████████▉                                                                        | 11/100 [04:00<32:23, 21.84s/it]"
     ]
    },
    {
     "name": "stdout",
     "output_type": "stream",
     "text": [
      "===========================================\n",
      "epoch:  11 \n",
      "\n"
     ]
    },
    {
     "name": "stderr",
     "output_type": "stream",
     "text": [
      " 12%|█████████▋                                                                       | 12/100 [04:22<31:54, 21.76s/it]"
     ]
    },
    {
     "name": "stdout",
     "output_type": "stream",
     "text": [
      " > train loss: 0.16204830583038127   valid loss: 0.15192933505433007\n",
      " > train acc: 0.8601807135067767   valid acc: 0.8686762472251431\n",
      " > best acc:  0.8627176071971024\n",
      "   ! best acc updated ! =>  0.8686762472251431\n",
      "===========================================\n",
      "epoch:  12 \n",
      "\n"
     ]
    },
    {
     "name": "stderr",
     "output_type": "stream",
     "text": [
      " 13%|██████████▌                                                                      | 13/100 [04:43<31:23, 21.65s/it]"
     ]
    },
    {
     "name": "stdout",
     "output_type": "stream",
     "text": [
      " > train loss: 0.14914220464965008   valid loss: 0.14069846189945487\n",
      " > train acc: 0.8692163888456146   valid acc: 0.8724150017525412\n",
      " > best acc:  0.8686762472251431\n",
      "   ! best acc updated ! =>  0.8724150017525412\n",
      "===========================================\n",
      "epoch:  13 \n",
      "\n"
     ]
    },
    {
     "name": "stderr",
     "output_type": "stream",
     "text": [
      " 14%|███████████▎                                                                     | 14/100 [05:04<30:56, 21.59s/it]"
     ]
    },
    {
     "name": "stdout",
     "output_type": "stream",
     "text": [
      " > train loss: 0.1391581417204881   valid loss: 0.1322017146794787\n",
      " > train acc: 0.8709300514098769   valid acc: 0.8725318378315223\n",
      " > best acc:  0.8724150017525412\n",
      "   ! best acc updated ! =>  0.8725318378315223\n",
      "===========================================\n",
      "epoch:  14 \n",
      "\n"
     ]
    },
    {
     "name": "stderr",
     "output_type": "stream",
     "text": [
      " 15%|████████████▏                                                                    | 15/100 [05:26<30:39, 21.64s/it]"
     ]
    },
    {
     "name": "stdout",
     "output_type": "stream",
     "text": [
      " > train loss: 0.1315899627495915   valid loss: 0.12575313227973903\n",
      " > train acc: 0.871241626421561   valid acc: 0.8728823460684659\n",
      " > best acc:  0.8725318378315223\n",
      "   ! best acc updated ! =>  0.8728823460684659\n",
      "===========================================\n",
      "epoch:  15 \n",
      "\n",
      " > train loss: 0.12597469038231793   valid loss: 0.12088201610141441\n",
      " > train acc: 0.8716310951861661   valid acc: 0.8726486739105036\n",
      " > best acc:  0.8728823460684659\n"
     ]
    },
    {
     "data": {
      "image/png": "[encoded data removed]",
      "text/plain": [
       "<Figure size 720x216 with 2 Axes>"
      ]
     },
     "metadata": {
      "needs_background": "light"
     },
     "output_type": "display_data"
    },
    {
     "name": "stderr",
     "output_type": "stream",
     "text": [
      " 16%|████████████▉                                                                    | 16/100 [05:48<30:24, 21.72s/it]"
     ]
    },
    {
     "name": "stdout",
     "output_type": "stream",
     "text": [
      "===========================================\n",
      "epoch:  16 \n",
      "\n"
     ]
    },
    {
     "name": "stderr",
     "output_type": "stream",
     "text": [
      " 17%|█████████████▊                                                                   | 17/100 [06:09<29:55, 21.63s/it]"
     ]
    },
    {
     "name": "stdout",
     "output_type": "stream",
     "text": [
      " > train loss: 0.12118981290660295   valid loss: 0.1170721023792571\n",
      " > train acc: 0.8717868826920081   valid acc: 0.8726486739105036\n",
      " > best acc:  0.8728823460684659\n",
      "===========================================\n",
      "epoch:  17 \n",
      "\n"
     ]
    },
    {
     "name": "stderr",
     "output_type": "stream",
     "text": [
      " 18%|██████████████▌                                                                  | 18/100 [06:31<29:24, 21.51s/it]"
     ]
    },
    {
     "name": "stdout",
     "output_type": "stream",
     "text": [
      " > train loss: 0.1181506367673345   valid loss: 0.11386776416414404\n",
      " > train acc: 0.8725658202212183   valid acc: 0.8733496903843907\n",
      " > best acc:  0.8728823460684659\n",
      "   ! best acc updated ! =>  0.8733496903843907\n",
      "===========================================\n",
      "epoch:  18 \n",
      "\n"
     ]
    },
    {
     "name": "stderr",
     "output_type": "stream",
     "text": [
      " 19%|███████████████▍                                                                 | 19/100 [06:52<28:59, 21.47s/it]"
     ]
    },
    {
     "name": "stdout",
     "output_type": "stream",
     "text": [
      " > train loss: 0.11478060871724827   valid loss: 0.11107430050484919\n",
      " > train acc: 0.8724879264682972   valid acc: 0.8734665264633719\n",
      " > best acc:  0.8733496903843907\n",
      "   ! best acc updated ! =>  0.8734665264633719\n",
      "===========================================\n",
      "epoch:  19 \n",
      "\n"
     ]
    },
    {
     "name": "stderr",
     "output_type": "stream",
     "text": [
      " 20%|████████████████▏                                                                | 20/100 [07:13<28:34, 21.43s/it]"
     ]
    },
    {
     "name": "stdout",
     "output_type": "stream",
     "text": [
      " > train loss: 0.11164777933353388   valid loss: 0.10857391628842722\n",
      " > train acc: 0.8747468453030067   valid acc: 0.8737001986213343\n",
      " > best acc:  0.8734665264633719\n",
      "   ! best acc updated ! =>  0.8737001986213343\n",
      "===========================================\n",
      "epoch:  20 \n",
      "\n",
      " > train loss: 0.10973376151528903   valid loss: 0.10637085745704133\n",
      " > train acc: 0.8827699018538713   valid acc: 0.8937960042060988\n",
      " > best acc:  0.8737001986213343\n",
      "   ! best acc updated ! =>  0.8937960042060988\n"
     ]
    },
    {
     "data": {
      "image/png": "[encoded data removed]",
      "text/plain": [
       "<Figure size 720x216 with 2 Axes>"
      ]
     },
     "metadata": {
      "needs_background": "light"
     },
     "output_type": "display_data"
    },
    {
     "name": "stderr",
     "output_type": "stream",
     "text": [
      " 21%|█████████████████                                                                | 21/100 [07:35<28:19, 21.51s/it]"
     ]
    },
    {
     "name": "stdout",
     "output_type": "stream",
     "text": [
      "===========================================\n",
      "epoch:  21 \n",
      "\n"
     ]
    },
    {
     "name": "stderr",
     "output_type": "stream",
     "text": [
      " 22%|█████████████████▊                                                               | 22/100 [07:57<27:55, 21.48s/it]"
     ]
    },
    {
     "name": "stdout",
     "output_type": "stream",
     "text": [
      " > train loss: 0.10745510012538174   valid loss: 0.10445986437521076\n",
      " > train acc: 0.8898582333696837   valid acc: 0.8951980371538731\n",
      " > best acc:  0.8937960042060988\n",
      "   ! best acc updated ! =>  0.8951980371538731\n",
      "===========================================\n",
      "epoch:  22 \n",
      "\n"
     ]
    },
    {
     "name": "stderr",
     "output_type": "stream",
     "text": [
      " 23%|██████████████████▋                                                              | 23/100 [08:18<27:39, 21.55s/it]"
     ]
    },
    {
     "name": "stdout",
     "output_type": "stream",
     "text": [
      " > train loss: 0.10550180077552795   valid loss: 0.10295778233786444\n",
      " > train acc: 0.8917276834397881   valid acc: 0.8960158897067414\n",
      " > best acc:  0.8951980371538731\n",
      "   ! best acc updated ! =>  0.8960158897067414\n",
      "===========================================\n",
      "epoch:  23 \n",
      "\n"
     ]
    },
    {
     "name": "stderr",
     "output_type": "stream",
     "text": [
      " 24%|███████████████████▍                                                             | 24/100 [08:40<27:12, 21.48s/it]"
     ]
    },
    {
     "name": "stdout",
     "output_type": "stream",
     "text": [
      " > train loss: 0.1042177271684636   valid loss: 0.10165559618234049\n",
      " > train acc: 0.8955444773329179   valid acc: 0.8971842504965534\n",
      " > best acc:  0.8960158897067414\n",
      "   ! best acc updated ! =>  0.8971842504965534\n",
      "===========================================\n",
      "epoch:  24 \n",
      "\n"
     ]
    },
    {
     "name": "stderr",
     "output_type": "stream",
     "text": [
      " 25%|████████████████████▎                                                            | 25/100 [09:01<26:47, 21.44s/it]"
     ]
    },
    {
     "name": "stdout",
     "output_type": "stream",
     "text": [
      " > train loss: 0.10279494993624276   valid loss: 0.10050982856916928\n",
      " > train acc: 0.8948434335566288   valid acc: 0.8960158897067414\n",
      " > best acc:  0.8971842504965534\n",
      "===========================================\n",
      "epoch:  25 \n",
      "\n",
      " > train loss: 0.10213349707927227   valid loss: 0.09975670199205364\n",
      " > train acc: 0.8949992210624708   valid acc: 0.8964832340226662\n",
      " > best acc:  0.8971842504965534\n"
     ]
    },
    {
     "data": {
      "image/png": "[encoded data removed]",
      "text/plain": [
       "<Figure size 720x216 with 2 Axes>"
      ]
     },
     "metadata": {
      "needs_background": "light"
     },
     "output_type": "display_data"
    },
    {
     "name": "stderr",
     "output_type": "stream",
     "text": [
      " 26%|█████████████████████                                                            | 26/100 [09:22<26:29, 21.48s/it]"
     ]
    },
    {
     "name": "stdout",
     "output_type": "stream",
     "text": [
      "===========================================\n",
      "epoch:  26 \n",
      "\n"
     ]
    },
    {
     "name": "stderr",
     "output_type": "stream",
     "text": [
      " 27%|█████████████████████▊                                                           | 27/100 [09:44<26:06, 21.45s/it]"
     ]
    },
    {
     "name": "stdout",
     "output_type": "stream",
     "text": [
      " > train loss: 0.10142334900108115   valid loss: 0.09907842535781922\n",
      " > train acc: 0.8946876460507868   valid acc: 0.8961327257857227\n",
      " > best acc:  0.8971842504965534\n",
      "===========================================\n",
      "epoch:  27 \n",
      "\n"
     ]
    },
    {
     "name": "stderr",
     "output_type": "stream",
     "text": [
      " 28%|██████████████████████▋                                                          | 28/100 [10:05<25:44, 21.45s/it]"
     ]
    },
    {
     "name": "stdout",
     "output_type": "stream",
     "text": [
      " > train loss: 0.10101908746213627   valid loss: 0.0985647157698135\n",
      " > train acc: 0.89570026483876   valid acc: 0.8968337422596098\n",
      " > best acc:  0.8971842504965534\n",
      "===========================================\n",
      "epoch:  28 \n",
      "\n"
     ]
    },
    {
     "name": "stderr",
     "output_type": "stream",
     "text": [
      " 29%|███████████████████████▍                                                         | 29/100 [10:27<25:20, 21.41s/it]"
     ]
    },
    {
     "name": "stdout",
     "output_type": "stream",
     "text": [
      " > train loss: 0.10055094183043799   valid loss: 0.09820905549164227\n",
      " > train acc: 0.8955444773329179   valid acc: 0.8975347587334969\n",
      " > best acc:  0.8971842504965534\n",
      "   ! best acc updated ! =>  0.8975347587334969\n",
      "===========================================\n",
      "epoch:  29 \n",
      "\n"
     ]
    },
    {
     "name": "stderr",
     "output_type": "stream",
     "text": [
      " 30%|████████████████████████▎                                                        | 30/100 [10:48<24:59, 21.43s/it]"
     ]
    },
    {
     "name": "stdout",
     "output_type": "stream",
     "text": [
      " > train loss: 0.09985961638881997   valid loss: 0.0979214620804004\n",
      " > train acc: 0.8967907773796542   valid acc: 0.8973010865755345\n",
      " > best acc:  0.8975347587334969\n",
      "===========================================\n",
      "epoch:  30 \n",
      "\n",
      " > train loss: 0.09974447550046925   valid loss: 0.09765712447740414\n",
      " > train acc: 0.896089733603365   valid acc: 0.8975347587334969\n",
      " > best acc:  0.8975347587334969\n"
     ]
    },
    {
     "data": {
      "image/png": "[encoded data removed]",
      "text/plain": [
       "<Figure size 720x216 with 2 Axes>"
      ]
     },
     "metadata": {
      "needs_background": "light"
     },
     "output_type": "display_data"
    },
    {
     "name": "stderr",
     "output_type": "stream",
     "text": [
      " 31%|█████████████████████████                                                        | 31/100 [11:10<24:44, 21.51s/it]"
     ]
    },
    {
     "name": "stdout",
     "output_type": "stream",
     "text": [
      "===========================================\n",
      "epoch:  31 \n",
      "\n"
     ]
    },
    {
     "name": "stderr",
     "output_type": "stream",
     "text": [
      " 32%|█████████████████████████▉                                                       | 32/100 [11:31<24:22, 21.51s/it]"
     ]
    },
    {
     "name": "stdout",
     "output_type": "stream",
     "text": [
      " > train loss: 0.09911069410447856   valid loss: 0.09749880722522708\n",
      " > train acc: 0.8962455211092071   valid acc: 0.8980021030494216\n",
      " > best acc:  0.8975347587334969\n",
      "   ! best acc updated ! =>  0.8980021030494216\n",
      "===========================================\n",
      "epoch:  32 \n",
      "\n"
     ]
    },
    {
     "name": "stderr",
     "output_type": "stream",
     "text": [
      " 33%|██████████████████████████▋                                                      | 33/100 [11:53<23:59, 21.49s/it]"
     ]
    },
    {
     "name": "stdout",
     "output_type": "stream",
     "text": [
      " > train loss: 0.09919795626549543   valid loss: 0.09736147120582792\n",
      " > train acc: 0.89570026483876   valid acc: 0.8980021030494216\n",
      " > best acc:  0.8980021030494216\n",
      "===========================================\n",
      "epoch:  33 \n",
      "\n"
     ]
    },
    {
     "name": "stderr",
     "output_type": "stream",
     "text": [
      " 34%|███████████████████████████▌                                                     | 34/100 [12:14<23:36, 21.46s/it]"
     ]
    },
    {
     "name": "stdout",
     "output_type": "stream",
     "text": [
      " > train loss: 0.09895707239037196   valid loss: 0.09722974943524837\n",
      " > train acc: 0.8961676273562861   valid acc: 0.8984694473653464\n",
      " > best acc:  0.8980021030494216\n",
      "   ! best acc updated ! =>  0.8984694473653464\n",
      "===========================================\n",
      "epoch:  34 \n",
      "\n"
     ]
    },
    {
     "name": "stderr",
     "output_type": "stream",
     "text": [
      " 35%|████████████████████████████▎                                                    | 35/100 [12:35<23:11, 21.41s/it]"
     ]
    },
    {
     "name": "stdout",
     "output_type": "stream",
     "text": [
      " > train loss: 0.09897964273978847   valid loss: 0.09710652908093323\n",
      " > train acc: 0.8953107960741549   valid acc: 0.8981189391284029\n",
      " > best acc:  0.8984694473653464\n",
      "===========================================\n",
      "epoch:  35 \n",
      "\n",
      " > train loss: 0.0982688879366418   valid loss: 0.09701041034193765\n",
      " > train acc: 0.8980370774263904   valid acc: 0.8985862834443276\n",
      " > best acc:  0.8984694473653464\n",
      "   ! best acc updated ! =>  0.8985862834443276\n"
     ]
    },
    {
     "data": {
      "image/png": "[encoded data removed]",
      "text/plain": [
       "<Figure size 720x216 with 2 Axes>"
      ]
     },
     "metadata": {
      "needs_background": "light"
     },
     "output_type": "display_data"
    },
    {
     "name": "stderr",
     "output_type": "stream",
     "text": [
      " 36%|█████████████████████████████▏                                                   | 36/100 [12:57<22:52, 21.45s/it]"
     ]
    },
    {
     "name": "stdout",
     "output_type": "stream",
     "text": [
      "===========================================\n",
      "epoch:  36 \n",
      "\n"
     ]
    },
    {
     "name": "stderr",
     "output_type": "stream",
     "text": [
      " 37%|█████████████████████████████▉                                                   | 37/100 [13:18<22:28, 21.41s/it]"
     ]
    },
    {
     "name": "stdout",
     "output_type": "stream",
     "text": [
      " > train loss: 0.09847664902479149   valid loss: 0.09690464299399798\n",
      " > train acc: 0.8964792023679701   valid acc: 0.8982357752073841\n",
      " > best acc:  0.8985862834443276\n",
      "===========================================\n",
      "epoch:  37 \n",
      "\n"
     ]
    },
    {
     "name": "stderr",
     "output_type": "stream",
     "text": [
      " 38%|██████████████████████████████▊                                                  | 38/100 [13:39<22:03, 21.35s/it]"
     ]
    },
    {
     "name": "stdout",
     "output_type": "stream",
     "text": [
      " > train loss: 0.09837021528490608   valid loss: 0.09685723301019328\n",
      " > train acc: 0.8967128836267332   valid acc: 0.8985862834443276\n",
      " > best acc:  0.8985862834443276\n",
      "===========================================\n",
      "epoch:  38 \n",
      "\n"
     ]
    },
    {
     "name": "stderr",
     "output_type": "stream",
     "text": [
      " 39%|███████████████████████████████▌                                                 | 39/100 [14:01<21:40, 21.32s/it]"
     ]
    },
    {
     "name": "stdout",
     "output_type": "stream",
     "text": [
      " > train loss: 0.09847350194435064   valid loss: 0.09677523374383395\n",
      " > train acc: 0.8968686711325752   valid acc: 0.89881995560229\n",
      " > best acc:  0.8985862834443276\n",
      "   ! best acc updated ! =>  0.89881995560229\n",
      "===========================================\n",
      "epoch:  39 \n",
      "\n"
     ]
    },
    {
     "name": "stderr",
     "output_type": "stream",
     "text": [
      " 40%|████████████████████████████████▍                                                | 40/100 [14:22<21:18, 21.31s/it]"
     ]
    },
    {
     "name": "stdout",
     "output_type": "stream",
     "text": [
      " > train loss: 0.09837307665258539   valid loss: 0.09673081340146603\n",
      " > train acc: 0.8978812899205484   valid acc: 0.89881995560229\n",
      " > best acc:  0.89881995560229\n",
      "===========================================\n",
      "epoch:  40 \n",
      "\n",
      " > train loss: 0.09853110384311534   valid loss: 0.09672232399457302\n",
      " > train acc: 0.8964013086150491   valid acc: 0.89881995560229\n",
      " > best acc:  0.89881995560229\n"
     ]
    },
    {
     "data": {
      "image/png": "[encoded data removed]",
      "text/plain": [
       "<Figure size 720x216 with 2 Axes>"
      ]
     },
     "metadata": {
      "needs_background": "light"
     },
     "output_type": "display_data"
    },
    {
     "name": "stderr",
     "output_type": "stream",
     "text": [
      " 41%|█████████████████████████████████▏                                               | 41/100 [14:44<21:00, 21.37s/it]"
     ]
    },
    {
     "name": "stdout",
     "output_type": "stream",
     "text": [
      "===========================================\n",
      "epoch:  41 \n",
      "\n"
     ]
    },
    {
     "name": "stderr",
     "output_type": "stream",
     "text": [
      " 42%|██████████████████████████████████                                               | 42/100 [15:05<20:37, 21.34s/it]"
     ]
    },
    {
     "name": "stdout",
     "output_type": "stream",
     "text": [
      " > train loss: 0.09847736403445882   valid loss: 0.09667300598837113\n",
      " > train acc: 0.895778158591681   valid acc: 0.8987031195233088\n",
      " > best acc:  0.89881995560229\n",
      "===========================================\n",
      "epoch:  42 \n",
      "\n"
     ]
    },
    {
     "name": "stderr",
     "output_type": "stream",
     "text": [
      " 43%|██████████████████████████████████▊                                              | 43/100 [15:26<20:14, 21.31s/it]"
     ]
    },
    {
     "name": "stdout",
     "output_type": "stream",
     "text": [
      " > train loss: 0.0981716710710232   valid loss: 0.09659321142619759\n",
      " > train acc: 0.8974918211559433   valid acc: 0.8987031195233088\n",
      " > best acc:  0.89881995560229\n",
      "===========================================\n",
      "epoch:  43 \n",
      "\n"
     ]
    },
    {
     "name": "stderr",
     "output_type": "stream",
     "text": [
      " 44%|███████████████████████████████████▋                                             | 44/100 [15:47<19:51, 21.27s/it]"
     ]
    },
    {
     "name": "stdout",
     "output_type": "stream",
     "text": [
      " > train loss: 0.09823850138148595   valid loss: 0.09658395897765516\n",
      " > train acc: 0.8967128836267332   valid acc: 0.89881995560229\n",
      " > best acc:  0.89881995560229\n",
      "===========================================\n",
      "epoch:  44 \n",
      "\n"
     ]
    },
    {
     "name": "stderr",
     "output_type": "stream",
     "text": [
      " 45%|████████████████████████████████████▍                                            | 45/100 [16:09<19:30, 21.28s/it]"
     ]
    },
    {
     "name": "stdout",
     "output_type": "stream",
     "text": [
      " > train loss: 0.09843210623069872   valid loss: 0.09653067570525724\n",
      " > train acc: 0.8971023523913382   valid acc: 0.8992872999182148\n",
      " > best acc:  0.89881995560229\n",
      "   ! best acc updated ! =>  0.8992872999182148\n",
      "===========================================\n",
      "epoch:  45 \n",
      "\n",
      " > train loss: 0.09814595674025453   valid loss: 0.0965236947471425\n",
      " > train acc: 0.8968686711325752   valid acc: 0.8990536277602523\n",
      " > best acc:  0.8992872999182148\n"
     ]
    },
    {
     "data": {
      "image/png": "[encoded data removed]",
      "text/plain": [
       "<Figure size 720x216 with 2 Axes>"
      ]
     },
     "metadata": {
      "needs_background": "light"
     },
     "output_type": "display_data"
    },
    {
     "name": "stderr",
     "output_type": "stream",
     "text": [
      " 46%|█████████████████████████████████████▎                                           | 46/100 [16:30<19:15, 21.40s/it]"
     ]
    },
    {
     "name": "stdout",
     "output_type": "stream",
     "text": [
      "===========================================\n",
      "epoch:  46 \n",
      "\n"
     ]
    },
    {
     "name": "stderr",
     "output_type": "stream",
     "text": [
      " 47%|██████████████████████████████████████                                           | 47/100 [16:52<18:56, 21.45s/it]"
     ]
    },
    {
     "name": "stdout",
     "output_type": "stream",
     "text": [
      " > train loss: 0.09757113054076688   valid loss: 0.09647872586132754\n",
      " > train acc: 0.8972581398971803   valid acc: 0.89881995560229\n",
      " > best acc:  0.8992872999182148\n",
      "===========================================\n",
      "epoch:  47 \n",
      "\n"
     ]
    },
    {
     "name": "stderr",
     "output_type": "stream",
     "text": [
      " 48%|██████████████████████████████████████▉                                          | 48/100 [17:13<18:33, 21.42s/it]"
     ]
    },
    {
     "name": "stdout",
     "output_type": "stream",
     "text": [
      " > train loss: 0.09762324774900429   valid loss: 0.09646831444228611\n",
      " > train acc: 0.8982707586851535   valid acc: 0.8990536277602523\n",
      " > best acc:  0.8992872999182148\n",
      "===========================================\n",
      "epoch:  48 \n",
      "\n"
     ]
    },
    {
     "name": "stderr",
     "output_type": "stream",
     "text": [
      " 49%|███████████████████████████████████████▋                                         | 49/100 [17:34<18:09, 21.36s/it]"
     ]
    },
    {
     "name": "stdout",
     "output_type": "stream",
     "text": [
      " > train loss: 0.09780436719405464   valid loss: 0.09643018848167734\n",
      " > train acc: 0.8973360336501013   valid acc: 0.8990536277602523\n",
      " > best acc:  0.8992872999182148\n",
      "===========================================\n",
      "epoch:  49 \n",
      "\n"
     ]
    },
    {
     "name": "stderr",
     "output_type": "stream",
     "text": [
      " 50%|████████████████████████████████████████▌                                        | 50/100 [17:56<17:46, 21.34s/it]"
     ]
    },
    {
     "name": "stdout",
     "output_type": "stream",
     "text": [
      " > train loss: 0.0980702908211992   valid loss: 0.09639798705231602\n",
      " > train acc: 0.8972581398971803   valid acc: 0.8987031195233088\n",
      " > best acc:  0.8992872999182148\n",
      "===========================================\n",
      "epoch:  50 \n",
      "\n",
      " > train loss: 0.09747249251433224   valid loss: 0.09638709730147368\n",
      " > train acc: 0.8978033961676274   valid acc: 0.89881995560229\n",
      " > best acc:  0.8992872999182148\n"
     ]
    },
    {
     "data": {
      "image/png": "[encoded data removed]",
      "text/plain": [
       "<Figure size 720x216 with 2 Axes>"
      ]
     },
     "metadata": {
      "needs_background": "light"
     },
     "output_type": "display_data"
    },
    {
     "name": "stderr",
     "output_type": "stream",
     "text": [
      " 51%|█████████████████████████████████████████▎                                       | 51/100 [18:17<17:29, 21.42s/it]"
     ]
    },
    {
     "name": "stdout",
     "output_type": "stream",
     "text": [
      "===========================================\n",
      "epoch:  51 \n",
      "\n"
     ]
    },
    {
     "name": "stderr",
     "output_type": "stream",
     "text": [
      " 52%|██████████████████████████████████████████                                       | 52/100 [18:39<17:06, 21.39s/it]"
     ]
    },
    {
     "name": "stdout",
     "output_type": "stream",
     "text": [
      " > train loss: 0.09805131266260653   valid loss: 0.0963370658640954\n",
      " > train acc: 0.8968686711325752   valid acc: 0.8991704638392336\n",
      " > best acc:  0.8992872999182148\n",
      "===========================================\n",
      "epoch:  52 \n",
      "\n"
     ]
    },
    {
     "name": "stderr",
     "output_type": "stream",
     "text": [
      " 53%|██████████████████████████████████████████▉                                      | 53/100 [19:00<16:42, 21.32s/it]"
     ]
    },
    {
     "name": "stdout",
     "output_type": "stream",
     "text": [
      " > train loss: 0.09806603114006768   valid loss: 0.09633074522554659\n",
      " > train acc: 0.8978812899205484   valid acc: 0.8989367916812712\n",
      " > best acc:  0.8992872999182148\n",
      "===========================================\n",
      "epoch:  53 \n",
      "\n"
     ]
    },
    {
     "name": "stderr",
     "output_type": "stream",
     "text": [
      " 54%|███████████████████████████████████████████▋                                     | 54/100 [19:21<16:20, 21.30s/it]"
     ]
    },
    {
     "name": "stdout",
     "output_type": "stream",
     "text": [
      " > train loss: 0.09761446943176667   valid loss: 0.09628300197210973\n",
      " > train acc: 0.8984265461909955   valid acc: 0.8987031195233088\n",
      " > best acc:  0.8992872999182148\n",
      "===========================================\n",
      "epoch:  54 \n",
      "\n"
     ]
    },
    {
     "name": "stderr",
     "output_type": "stream",
     "text": [
      " 55%|████████████████████████████████████████████▌                                    | 55/100 [19:42<15:57, 21.27s/it]"
     ]
    },
    {
     "name": "stdout",
     "output_type": "stream",
     "text": [
      " > train loss: 0.09818007927698442   valid loss: 0.09627340053189566\n",
      " > train acc: 0.8962455211092071   valid acc: 0.8991704638392336\n",
      " > best acc:  0.8992872999182148\n",
      "===========================================\n",
      "epoch:  55 \n",
      "\n",
      " > train loss: 0.09796242265245182   valid loss: 0.09625683984201162\n",
      " > train acc: 0.8978033961676274   valid acc: 0.89881995560229\n",
      " > best acc:  0.8992872999182148\n"
     ]
    },
    {
     "data": {
      "image/png": "[encoded data removed]",
      "text/plain": [
       "<Figure size 720x216 with 2 Axes>"
      ]
     },
     "metadata": {
      "needs_background": "light"
     },
     "output_type": "display_data"
    },
    {
     "name": "stderr",
     "output_type": "stream",
     "text": [
      " 56%|█████████████████████████████████████████████▎                                   | 56/100 [20:04<15:40, 21.36s/it]"
     ]
    },
    {
     "name": "stdout",
     "output_type": "stream",
     "text": [
      "===========================================\n",
      "epoch:  56 \n",
      "\n"
     ]
    },
    {
     "name": "stderr",
     "output_type": "stream",
     "text": [
      " 57%|██████████████████████████████████████████████▏                                  | 57/100 [20:25<15:17, 21.34s/it]"
     ]
    },
    {
     "name": "stdout",
     "output_type": "stream",
     "text": [
      " > train loss: 0.09723714723414695   valid loss: 0.09630079061499766\n",
      " > train acc: 0.8984265461909955   valid acc: 0.8992872999182148\n",
      " > best acc:  0.8992872999182148\n",
      "===========================================\n",
      "epoch:  57 \n",
      "\n"
     ]
    },
    {
     "name": "stderr",
     "output_type": "stream",
     "text": [
      " 58%|██████████████████████████████████████████████▉                                  | 58/100 [20:46<14:54, 21.30s/it]"
     ]
    },
    {
     "name": "stdout",
     "output_type": "stream",
     "text": [
      " > train loss: 0.09763236240093387   valid loss: 0.09627038305458838\n",
      " > train acc: 0.8963234148621281   valid acc: 0.8992872999182148\n",
      " > best acc:  0.8992872999182148\n",
      "===========================================\n",
      "epoch:  58 \n",
      "\n"
     ]
    },
    {
     "name": "stderr",
     "output_type": "stream",
     "text": [
      " 59%|███████████████████████████████████████████████▊                                 | 59/100 [21:07<14:32, 21.27s/it]"
     ]
    },
    {
     "name": "stdout",
     "output_type": "stream",
     "text": [
      " > train loss: 0.09769296687439347   valid loss: 0.09623618474688704\n",
      " > train acc: 0.8972581398971803   valid acc: 0.8991704638392336\n",
      " > best acc:  0.8992872999182148\n",
      "===========================================\n",
      "epoch:  59 \n",
      "\n"
     ]
    },
    {
     "name": "stderr",
     "output_type": "stream",
     "text": [
      " 60%|████████████████████████████████████████████████▌                                | 60/100 [21:29<14:09, 21.24s/it]"
     ]
    },
    {
     "name": "stdout",
     "output_type": "stream",
     "text": [
      " > train loss: 0.09803813451114408   valid loss: 0.09621959087106026\n",
      " > train acc: 0.896011839850444   valid acc: 0.8989367916812712\n",
      " > best acc:  0.8992872999182148\n",
      "===========================================\n",
      "epoch:  60 \n",
      "\n",
      " > train loss: 0.09802450786583668   valid loss: 0.09618230267466055\n",
      " > train acc: 0.8974918211559433   valid acc: 0.8989367916812712\n",
      " > best acc:  0.8992872999182148\n"
     ]
    },
    {
     "data": {
      "image/png": "[encoded data removed]",
      "text/plain": [
       "<Figure size 720x216 with 2 Axes>"
      ]
     },
     "metadata": {
      "needs_background": "light"
     },
     "output_type": "display_data"
    },
    {
     "name": "stderr",
     "output_type": "stream",
     "text": [
      " 61%|█████████████████████████████████████████████████▍                               | 61/100 [21:50<13:51, 21.33s/it]"
     ]
    },
    {
     "name": "stdout",
     "output_type": "stream",
     "text": [
      "===========================================\n",
      "epoch:  61 \n",
      "\n"
     ]
    },
    {
     "name": "stderr",
     "output_type": "stream",
     "text": [
      " 62%|██████████████████████████████████████████████████▏                              | 62/100 [22:12<13:30, 21.33s/it]"
     ]
    },
    {
     "name": "stdout",
     "output_type": "stream",
     "text": [
      " > train loss: 0.09750347693244288   valid loss: 0.0961996046516129\n",
      " > train acc: 0.8969465648854962   valid acc: 0.89881995560229\n",
      " > best acc:  0.8992872999182148\n",
      "===========================================\n",
      "epoch:  62 \n",
      "\n"
     ]
    },
    {
     "name": "stderr",
     "output_type": "stream",
     "text": [
      " 63%|███████████████████████████████████████████████████                              | 63/100 [22:33<13:08, 21.31s/it]"
     ]
    },
    {
     "name": "stdout",
     "output_type": "stream",
     "text": [
      " > train loss: 0.09759785611461601   valid loss: 0.09616921770369315\n",
      " > train acc: 0.8978033961676274   valid acc: 0.8989367916812712\n",
      " > best acc:  0.8992872999182148\n",
      "===========================================\n",
      "epoch:  63 \n",
      "\n"
     ]
    },
    {
     "name": "stderr",
     "output_type": "stream",
     "text": [
      " 64%|███████████████████████████████████████████████████▊                             | 64/100 [22:54<12:47, 21.33s/it]"
     ]
    },
    {
     "name": "stdout",
     "output_type": "stream",
     "text": [
      " > train loss: 0.09761893934834169   valid loss: 0.09613036165060264\n",
      " > train acc: 0.8964792023679701   valid acc: 0.89881995560229\n",
      " > best acc:  0.8992872999182148\n",
      "===========================================\n",
      "epoch:  64 \n",
      "\n"
     ]
    },
    {
     "name": "stderr",
     "output_type": "stream",
     "text": [
      " 65%|████████████████████████████████████████████████████▋                            | 65/100 [23:16<12:28, 21.38s/it]"
     ]
    },
    {
     "name": "stdout",
     "output_type": "stream",
     "text": [
      " > train loss: 0.09772735538025254   valid loss: 0.09611851928832027\n",
      " > train acc: 0.8981928649322324   valid acc: 0.8985862834443276\n",
      " > best acc:  0.8992872999182148\n",
      "===========================================\n",
      "epoch:  65 \n",
      "\n",
      " > train loss: 0.09749102870457677   valid loss: 0.09614804215952955\n",
      " > train acc: 0.8967907773796542   valid acc: 0.8991704638392336\n",
      " > best acc:  0.8992872999182148\n"
     ]
    },
    {
     "data": {
      "image/png": "[encoded data removed]",
      "text/plain": [
       "<Figure size 720x216 with 2 Axes>"
      ]
     },
     "metadata": {
      "needs_background": "light"
     },
     "output_type": "display_data"
    },
    {
     "name": "stderr",
     "output_type": "stream",
     "text": [
      " 66%|█████████████████████████████████████████████████████▍                           | 66/100 [23:37<12:09, 21.46s/it]"
     ]
    },
    {
     "name": "stdout",
     "output_type": "stream",
     "text": [
      "===========================================\n",
      "epoch:  66 \n",
      "\n"
     ]
    },
    {
     "name": "stderr",
     "output_type": "stream",
     "text": [
      " 67%|██████████████████████████████████████████████████████▎                          | 67/100 [23:59<11:48, 21.46s/it]"
     ]
    },
    {
     "name": "stdout",
     "output_type": "stream",
     "text": [
      " > train loss: 0.09718074298574464   valid loss: 0.09614475484654954\n",
      " > train acc: 0.8970244586384172   valid acc: 0.8992872999182148\n",
      " > best acc:  0.8992872999182148\n",
      "===========================================\n",
      "epoch:  67 \n",
      "\n"
     ]
    },
    {
     "name": "stderr",
     "output_type": "stream",
     "text": [
      " 68%|███████████████████████████████████████████████████████                          | 68/100 [24:20<11:27, 21.50s/it]"
     ]
    },
    {
     "name": "stdout",
     "output_type": "stream",
     "text": [
      " > train loss: 0.09722388378230001   valid loss: 0.09609191515746832\n",
      " > train acc: 0.8973360336501013   valid acc: 0.89881995560229\n",
      " > best acc:  0.8992872999182148\n",
      "===========================================\n",
      "epoch:  68 \n",
      "\n"
     ]
    },
    {
     "name": "stderr",
     "output_type": "stream",
     "text": [
      " 69%|███████████████████████████████████████████████████████▉                         | 69/100 [24:42<11:05, 21.45s/it]"
     ]
    },
    {
     "name": "stdout",
     "output_type": "stream",
     "text": [
      " > train loss: 0.0977990988767914   valid loss: 0.09614123658733344\n",
      " > train acc: 0.8981928649322324   valid acc: 0.8989367916812712\n",
      " > best acc:  0.8992872999182148\n",
      "===========================================\n",
      "epoch:  69 \n",
      "\n"
     ]
    },
    {
     "name": "stderr",
     "output_type": "stream",
     "text": [
      " 70%|████████████████████████████████████████████████████████▋                        | 70/100 [25:04<10:46, 21.56s/it]"
     ]
    },
    {
     "name": "stdout",
     "output_type": "stream",
     "text": [
      " > train loss: 0.0974484689964333   valid loss: 0.09603244192634514\n",
      " > train acc: 0.8974918211559433   valid acc: 0.8987031195233088\n",
      " > best acc:  0.8992872999182148\n",
      "===========================================\n",
      "epoch:  70 \n",
      "\n",
      " > train loss: 0.09721181342039623   valid loss: 0.09606385320331019\n",
      " > train acc: 0.8968686711325752   valid acc: 0.8991704638392336\n",
      " > best acc:  0.8992872999182148\n"
     ]
    },
    {
     "data": {
      "image/png": "[encoded data removed]",
      "text/plain": [
       "<Figure size 720x216 with 2 Axes>"
      ]
     },
     "metadata": {
      "needs_background": "light"
     },
     "output_type": "display_data"
    },
    {
     "name": "stderr",
     "output_type": "stream",
     "text": [
      " 71%|█████████████████████████████████████████████████████████▌                       | 71/100 [25:25<10:25, 21.57s/it]"
     ]
    },
    {
     "name": "stdout",
     "output_type": "stream",
     "text": [
      "===========================================\n",
      "epoch:  71 \n",
      "\n"
     ]
    },
    {
     "name": "stderr",
     "output_type": "stream",
     "text": [
      " 72%|██████████████████████████████████████████████████████████▎                      | 72/100 [25:47<10:07, 21.69s/it]"
     ]
    },
    {
     "name": "stdout",
     "output_type": "stream",
     "text": [
      " > train loss: 0.09734330279658304   valid loss: 0.09599884382345393\n",
      " > train acc: 0.8981928649322324   valid acc: 0.8985862834443276\n",
      " > best acc:  0.8992872999182148\n",
      "===========================================\n",
      "epoch:  72 \n",
      "\n"
     ]
    },
    {
     "name": "stderr",
     "output_type": "stream",
     "text": [
      "ERROR:root:Internal Python error in the inspect module.\n",
      "Below is the traceback from this internal error.\n",
      "\n",
      "ERROR:root:Internal Python error in the inspect module.\n",
      "Below is the traceback from this internal error.\n",
      "\n"
     ]
    },
    {
     "name": "stdout",
     "output_type": "stream",
     "text": [
      "Traceback (most recent call last):\n",
      "  File \"C:\\Users\\organ\\anaconda3\\lib\\site-packages\\IPython\\core\\interactiveshell.py\", line 3418, in run_code\n",
      "    exec(code_obj, self.user_global_ns, self.user_ns)\n",
      "  File \"<ipython-input-10-73399ae54fb1>\", line 4, in <module>\n",
      "    result = run_training(\n",
      "  File \"C:\\Users\\organ\\Google Drive\\workspace\\kaggle\\Cassava_Leaf_Disease_Classification\\TYonezu\\output\\working\\my_nn_trainer\\my_nn_trainer.py\", line 36, in run_training\n",
      "    for batch in (train_dataloader):\n",
      "  File \"C:\\Users\\organ\\anaconda3\\lib\\site-packages\\torch\\utils\\data\\dataloader.py\", line 435, in __next__\n",
      "    data = self._next_data()\n",
      "  File \"C:\\Users\\organ\\anaconda3\\lib\\site-packages\\torch\\utils\\data\\dataloader.py\", line 475, in _next_data\n",
      "    data = self._dataset_fetcher.fetch(index)  # may raise StopIteration\n",
      "  File \"C:\\Users\\organ\\anaconda3\\lib\\site-packages\\torch\\utils\\data\\_utils\\fetch.py\", line 44, in fetch\n",
      "    data = [self.dataset[idx] for idx in possibly_batched_index]\n",
      "  File \"C:\\Users\\organ\\anaconda3\\lib\\site-packages\\torch\\utils\\data\\_utils\\fetch.py\", line 44, in <listcomp>\n",
      "    data = [self.dataset[idx] for idx in possibly_batched_index]\n",
      "  File \"<ipython-input-6-83cfbff27d88>\", line 17, in __getitem__\n",
      "    return img.float(), int(label)\n",
      "KeyboardInterrupt\n",
      "\n",
      "During handling of the above exception, another exception occurred:\n",
      "\n",
      "Traceback (most recent call last):\n",
      "  File \"C:\\Users\\organ\\anaconda3\\lib\\site-packages\\IPython\\core\\interactiveshell.py\", line 2045, in showtraceback\n",
      "    stb = value._render_traceback_()\n",
      "AttributeError: 'KeyboardInterrupt' object has no attribute '_render_traceback_'\n",
      "\n",
      "During handling of the above exception, another exception occurred:\n",
      "\n",
      "Traceback (most recent call last):\n",
      "  File \"C:\\Users\\organ\\anaconda3\\lib\\site-packages\\IPython\\core\\ultratb.py\", line 1170, in get_records\n",
      "    return _fixed_getinnerframes(etb, number_of_lines_of_context, tb_offset)\n",
      "  File \"C:\\Users\\organ\\anaconda3\\lib\\site-packages\\IPython\\core\\ultratb.py\", line 316, in wrapped\n",
      "    return f(*args, **kwargs)\n",
      "  File \"C:\\Users\\organ\\anaconda3\\lib\\site-packages\\IPython\\core\\ultratb.py\", line 350, in _fixed_getinnerframes\n",
      "    records = fix_frame_records_filenames(inspect.getinnerframes(etb, context))\n",
      "  File \"C:\\Users\\organ\\anaconda3\\lib\\inspect.py\", line 1503, in getinnerframes\n",
      "    frameinfo = (tb.tb_frame,) + getframeinfo(tb, context)\n",
      "  File \"C:\\Users\\organ\\anaconda3\\lib\\inspect.py\", line 1461, in getframeinfo\n",
      "    filename = getsourcefile(frame) or getfile(frame)\n",
      "  File \"C:\\Users\\organ\\anaconda3\\lib\\inspect.py\", line 708, in getsourcefile\n",
      "    if getattr(getmodule(object, filename), '__loader__', None) is not None:\n",
      "  File \"C:\\Users\\organ\\anaconda3\\lib\\inspect.py\", line 751, in getmodule\n",
      "    f = getabsfile(module)\n",
      "  File \"C:\\Users\\organ\\anaconda3\\lib\\inspect.py\", line 720, in getabsfile\n",
      "    _filename = getsourcefile(object) or getfile(object)\n",
      "  File \"C:\\Users\\organ\\anaconda3\\lib\\inspect.py\", line 705, in getsourcefile\n",
      "    if os.path.exists(filename):\n",
      "  File \"C:\\Users\\organ\\anaconda3\\lib\\genericpath.py\", line 19, in exists\n",
      "    os.stat(path)\n",
      "KeyboardInterrupt\n",
      "Traceback (most recent call last):\n",
      "  File \"C:\\Users\\organ\\anaconda3\\lib\\site-packages\\IPython\\core\\interactiveshell.py\", line 3418, in run_code\n",
      "    exec(code_obj, self.user_global_ns, self.user_ns)\n",
      "  File \"<ipython-input-10-73399ae54fb1>\", line 4, in <module>\n",
      "    result = run_training(\n",
      "  File \"C:\\Users\\organ\\Google Drive\\workspace\\kaggle\\Cassava_Leaf_Disease_Classification\\TYonezu\\output\\working\\my_nn_trainer\\my_nn_trainer.py\", line 36, in run_training\n",
      "    for batch in (train_dataloader):\n",
      "  File \"C:\\Users\\organ\\anaconda3\\lib\\site-packages\\torch\\utils\\data\\dataloader.py\", line 435, in __next__\n",
      "    data = self._next_data()\n",
      "  File \"C:\\Users\\organ\\anaconda3\\lib\\site-packages\\torch\\utils\\data\\dataloader.py\", line 475, in _next_data\n",
      "    data = self._dataset_fetcher.fetch(index)  # may raise StopIteration\n",
      "  File \"C:\\Users\\organ\\anaconda3\\lib\\site-packages\\torch\\utils\\data\\_utils\\fetch.py\", line 44, in fetch\n",
      "    data = [self.dataset[idx] for idx in possibly_batched_index]\n",
      "  File \"C:\\Users\\organ\\anaconda3\\lib\\site-packages\\torch\\utils\\data\\_utils\\fetch.py\", line 44, in <listcomp>\n",
      "    data = [self.dataset[idx] for idx in possibly_batched_index]\n",
      "  File \"<ipython-input-6-83cfbff27d88>\", line 17, in __getitem__\n",
      "    return img.float(), int(label)\n",
      "KeyboardInterrupt\n",
      "\n",
      "During handling of the above exception, another exception occurred:\n",
      "\n",
      "Traceback (most recent call last):\n",
      "  File \"C:\\Users\\organ\\anaconda3\\lib\\site-packages\\IPython\\core\\interactiveshell.py\", line 2045, in showtraceback\n",
      "    stb = value._render_traceback_()\n",
      "AttributeError: 'KeyboardInterrupt' object has no attribute '_render_traceback_'\n",
      "\n",
      "During handling of the above exception, another exception occurred:\n",
      "\n",
      "Traceback (most recent call last):\n",
      "  File \"C:\\Users\\organ\\anaconda3\\lib\\site-packages\\IPython\\core\\interactiveshell.py\", line 3338, in run_ast_nodes\n",
      "    if (await self.run_code(code, result,  async_=asy)):\n",
      "  File \"C:\\Users\\organ\\anaconda3\\lib\\site-packages\\IPython\\core\\interactiveshell.py\", line 3435, in run_code\n",
      "    self.showtraceback(running_compiled_code=True)\n",
      "  File \"C:\\Users\\organ\\anaconda3\\lib\\site-packages\\IPython\\core\\interactiveshell.py\", line 2047, in showtraceback\n",
      "    stb = self.InteractiveTB.structured_traceback(etype,\n",
      "  File \"C:\\Users\\organ\\anaconda3\\lib\\site-packages\\IPython\\core\\ultratb.py\", line 1436, in structured_traceback\n",
      "    return FormattedTB.structured_traceback(\n",
      "  File \"C:\\Users\\organ\\anaconda3\\lib\\site-packages\\IPython\\core\\ultratb.py\", line 1336, in structured_traceback\n",
      "    return VerboseTB.structured_traceback(\n",
      "  File \"C:\\Users\\organ\\anaconda3\\lib\\site-packages\\IPython\\core\\ultratb.py\", line 1193, in structured_traceback\n",
      "    formatted_exception = self.format_exception_as_a_whole(etype, evalue, etb, number_of_lines_of_context,\n",
      "  File \"C:\\Users\\organ\\anaconda3\\lib\\site-packages\\IPython\\core\\ultratb.py\", line 1151, in format_exception_as_a_whole\n",
      "    last_unique, recursion_repeat = find_recursion(orig_etype, evalue, records)\n",
      "  File \"C:\\Users\\organ\\anaconda3\\lib\\site-packages\\IPython\\core\\ultratb.py\", line 451, in find_recursion\n",
      "    return len(records), 0\n",
      "TypeError: object of type 'NoneType' has no len()\n",
      "\n",
      "During handling of the above exception, another exception occurred:\n",
      "\n",
      "Traceback (most recent call last):\n",
      "  File \"C:\\Users\\organ\\anaconda3\\lib\\site-packages\\IPython\\core\\interactiveshell.py\", line 2045, in showtraceback\n",
      "    stb = value._render_traceback_()\n",
      "AttributeError: 'TypeError' object has no attribute '_render_traceback_'\n",
      "\n",
      "During handling of the above exception, another exception occurred:\n",
      "\n",
      "Traceback (most recent call last):\n",
      "  File \"C:\\Users\\organ\\anaconda3\\lib\\site-packages\\IPython\\core\\ultratb.py\", line 1170, in get_records\n",
      "    return _fixed_getinnerframes(etb, number_of_lines_of_context, tb_offset)\n",
      "  File \"C:\\Users\\organ\\anaconda3\\lib\\site-packages\\IPython\\core\\ultratb.py\", line 316, in wrapped\n",
      "    return f(*args, **kwargs)\n",
      "  File \"C:\\Users\\organ\\anaconda3\\lib\\site-packages\\IPython\\core\\ultratb.py\", line 350, in _fixed_getinnerframes\n",
      "    records = fix_frame_records_filenames(inspect.getinnerframes(etb, context))\n",
      "  File \"C:\\Users\\organ\\anaconda3\\lib\\inspect.py\", line 1503, in getinnerframes\n",
      "    frameinfo = (tb.tb_frame,) + getframeinfo(tb, context)\n",
      "  File \"C:\\Users\\organ\\anaconda3\\lib\\inspect.py\", line 1461, in getframeinfo\n",
      "    filename = getsourcefile(frame) or getfile(frame)\n",
      "  File \"C:\\Users\\organ\\anaconda3\\lib\\inspect.py\", line 708, in getsourcefile\n",
      "    if getattr(getmodule(object, filename), '__loader__', None) is not None:\n",
      "  File \"C:\\Users\\organ\\anaconda3\\lib\\inspect.py\", line 754, in getmodule\n",
      "    os.path.realpath(f)] = module.__name__\n",
      "  File \"C:\\Users\\organ\\anaconda3\\lib\\ntpath.py\", line 664, in realpath\n",
      "    if _getfinalpathname(spath) == path:\n",
      "KeyboardInterrupt\n"
     ]
    },
    {
     "ename": "TypeError",
     "evalue": "object of type 'NoneType' has no len()",
     "output_type": "error",
     "traceback": [
      "\u001b[1;31m---------------------------------------------------------------------------\u001b[0m",
      "\u001b[1;31mKeyboardInterrupt\u001b[0m                         Traceback (most recent call last)",
      "    \u001b[1;31m[... skipping hidden 1 frame]\u001b[0m\n",
      "\u001b[1;32m<ipython-input-10-73399ae54fb1>\u001b[0m in \u001b[0;36m<module>\u001b[1;34m\u001b[0m\n\u001b[0;32m      3\u001b[0m \u001b[0mprint\u001b[0m\u001b[1;33m(\u001b[0m\u001b[0mMODEL_NAME\u001b[0m\u001b[1;33m)\u001b[0m\u001b[1;33m\u001b[0m\u001b[1;33m\u001b[0m\u001b[0m\n\u001b[1;32m----> 4\u001b[1;33m result = run_training(\n\u001b[0m\u001b[0;32m      5\u001b[0m                         \u001b[0mmodel\u001b[0m\u001b[1;33m=\u001b[0m\u001b[0mmodel\u001b[0m\u001b[1;33m,\u001b[0m\u001b[1;33m\u001b[0m\u001b[1;33m\u001b[0m\u001b[0m\n",
      "\u001b[1;32m~\\Google Drive\\workspace\\kaggle\\Cassava_Leaf_Disease_Classification\\TYonezu\\output\\working\\my_nn_trainer\\my_nn_trainer.py\u001b[0m in \u001b[0;36mrun_training\u001b[1;34m(model, optimizer, criterion, epoch_num, train_dataloader, valid_dataloader, MODEL_NAME, device, verbose)\u001b[0m\n\u001b[0;32m     35\u001b[0m         \u001b[0mtrain_loss\u001b[0m \u001b[1;33m=\u001b[0m \u001b[1;36m0\u001b[0m\u001b[1;33m\u001b[0m\u001b[1;33m\u001b[0m\u001b[0m\n\u001b[1;32m---> 36\u001b[1;33m         \u001b[1;32mfor\u001b[0m \u001b[0mbatch\u001b[0m \u001b[1;32min\u001b[0m \u001b[1;33m(\u001b[0m\u001b[0mtrain_dataloader\u001b[0m\u001b[1;33m)\u001b[0m\u001b[1;33m:\u001b[0m\u001b[1;33m\u001b[0m\u001b[1;33m\u001b[0m\u001b[0m\n\u001b[0m\u001b[0;32m     37\u001b[0m             \u001b[0mX\u001b[0m \u001b[1;33m=\u001b[0m \u001b[0mbatch\u001b[0m\u001b[1;33m[\u001b[0m\u001b[1;36m0\u001b[0m\u001b[1;33m]\u001b[0m\u001b[1;33m.\u001b[0m\u001b[0mto\u001b[0m\u001b[1;33m(\u001b[0m\u001b[0mdevice\u001b[0m\u001b[1;33m)\u001b[0m\u001b[1;33m\u001b[0m\u001b[1;33m\u001b[0m\u001b[0m\n",
      "\u001b[1;32m~\\anaconda3\\lib\\site-packages\\torch\\utils\\data\\dataloader.py\u001b[0m in \u001b[0;36m__next__\u001b[1;34m(self)\u001b[0m\n\u001b[0;32m    434\u001b[0m             \u001b[0mself\u001b[0m\u001b[1;33m.\u001b[0m\u001b[0m_reset\u001b[0m\u001b[1;33m(\u001b[0m\u001b[1;33m)\u001b[0m\u001b[1;33m\u001b[0m\u001b[1;33m\u001b[0m\u001b[0m\n\u001b[1;32m--> 435\u001b[1;33m         \u001b[0mdata\u001b[0m \u001b[1;33m=\u001b[0m \u001b[0mself\u001b[0m\u001b[1;33m.\u001b[0m\u001b[0m_next_data\u001b[0m\u001b[1;33m(\u001b[0m\u001b[1;33m)\u001b[0m\u001b[1;33m\u001b[0m\u001b[1;33m\u001b[0m\u001b[0m\n\u001b[0m\u001b[0;32m    436\u001b[0m         \u001b[0mself\u001b[0m\u001b[1;33m.\u001b[0m\u001b[0m_num_yielded\u001b[0m \u001b[1;33m+=\u001b[0m \u001b[1;36m1\u001b[0m\u001b[1;33m\u001b[0m\u001b[1;33m\u001b[0m\u001b[0m\n",
      "\u001b[1;32m~\\anaconda3\\lib\\site-packages\\torch\\utils\\data\\dataloader.py\u001b[0m in \u001b[0;36m_next_data\u001b[1;34m(self)\u001b[0m\n\u001b[0;32m    474\u001b[0m         \u001b[0mindex\u001b[0m \u001b[1;33m=\u001b[0m \u001b[0mself\u001b[0m\u001b[1;33m.\u001b[0m\u001b[0m_next_index\u001b[0m\u001b[1;33m(\u001b[0m\u001b[1;33m)\u001b[0m  \u001b[1;31m# may raise StopIteration\u001b[0m\u001b[1;33m\u001b[0m\u001b[1;33m\u001b[0m\u001b[0m\n\u001b[1;32m--> 475\u001b[1;33m         \u001b[0mdata\u001b[0m \u001b[1;33m=\u001b[0m \u001b[0mself\u001b[0m\u001b[1;33m.\u001b[0m\u001b[0m_dataset_fetcher\u001b[0m\u001b[1;33m.\u001b[0m\u001b[0mfetch\u001b[0m\u001b[1;33m(\u001b[0m\u001b[0mindex\u001b[0m\u001b[1;33m)\u001b[0m  \u001b[1;31m# may raise StopIteration\u001b[0m\u001b[1;33m\u001b[0m\u001b[1;33m\u001b[0m\u001b[0m\n\u001b[0m\u001b[0;32m    476\u001b[0m         \u001b[1;32mif\u001b[0m \u001b[0mself\u001b[0m\u001b[1;33m.\u001b[0m\u001b[0m_pin_memory\u001b[0m\u001b[1;33m:\u001b[0m\u001b[1;33m\u001b[0m\u001b[1;33m\u001b[0m\u001b[0m\n",
      "\u001b[1;32m~\\anaconda3\\lib\\site-packages\\torch\\utils\\data\\_utils\\fetch.py\u001b[0m in \u001b[0;36mfetch\u001b[1;34m(self, possibly_batched_index)\u001b[0m\n\u001b[0;32m     43\u001b[0m         \u001b[1;32mif\u001b[0m \u001b[0mself\u001b[0m\u001b[1;33m.\u001b[0m\u001b[0mauto_collation\u001b[0m\u001b[1;33m:\u001b[0m\u001b[1;33m\u001b[0m\u001b[1;33m\u001b[0m\u001b[0m\n\u001b[1;32m---> 44\u001b[1;33m             \u001b[0mdata\u001b[0m \u001b[1;33m=\u001b[0m \u001b[1;33m[\u001b[0m\u001b[0mself\u001b[0m\u001b[1;33m.\u001b[0m\u001b[0mdataset\u001b[0m\u001b[1;33m[\u001b[0m\u001b[0midx\u001b[0m\u001b[1;33m]\u001b[0m \u001b[1;32mfor\u001b[0m \u001b[0midx\u001b[0m \u001b[1;32min\u001b[0m \u001b[0mpossibly_batched_index\u001b[0m\u001b[1;33m]\u001b[0m\u001b[1;33m\u001b[0m\u001b[1;33m\u001b[0m\u001b[0m\n\u001b[0m\u001b[0;32m     45\u001b[0m         \u001b[1;32melse\u001b[0m\u001b[1;33m:\u001b[0m\u001b[1;33m\u001b[0m\u001b[1;33m\u001b[0m\u001b[0m\n",
      "\u001b[1;32m~\\anaconda3\\lib\\site-packages\\torch\\utils\\data\\_utils\\fetch.py\u001b[0m in \u001b[0;36m<listcomp>\u001b[1;34m(.0)\u001b[0m\n\u001b[0;32m     43\u001b[0m         \u001b[1;32mif\u001b[0m \u001b[0mself\u001b[0m\u001b[1;33m.\u001b[0m\u001b[0mauto_collation\u001b[0m\u001b[1;33m:\u001b[0m\u001b[1;33m\u001b[0m\u001b[1;33m\u001b[0m\u001b[0m\n\u001b[1;32m---> 44\u001b[1;33m             \u001b[0mdata\u001b[0m \u001b[1;33m=\u001b[0m \u001b[1;33m[\u001b[0m\u001b[0mself\u001b[0m\u001b[1;33m.\u001b[0m\u001b[0mdataset\u001b[0m\u001b[1;33m[\u001b[0m\u001b[0midx\u001b[0m\u001b[1;33m]\u001b[0m \u001b[1;32mfor\u001b[0m \u001b[0midx\u001b[0m \u001b[1;32min\u001b[0m \u001b[0mpossibly_batched_index\u001b[0m\u001b[1;33m]\u001b[0m\u001b[1;33m\u001b[0m\u001b[1;33m\u001b[0m\u001b[0m\n\u001b[0m\u001b[0;32m     45\u001b[0m         \u001b[1;32melse\u001b[0m\u001b[1;33m:\u001b[0m\u001b[1;33m\u001b[0m\u001b[1;33m\u001b[0m\u001b[0m\n",
      "\u001b[1;32m<ipython-input-6-83cfbff27d88>\u001b[0m in \u001b[0;36m__getitem__\u001b[1;34m(self, index)\u001b[0m\n\u001b[0;32m     16\u001b[0m \u001b[1;33m\u001b[0m\u001b[0m\n\u001b[1;32m---> 17\u001b[1;33m         \u001b[1;32mreturn\u001b[0m \u001b[0mimg\u001b[0m\u001b[1;33m.\u001b[0m\u001b[0mfloat\u001b[0m\u001b[1;33m(\u001b[0m\u001b[1;33m)\u001b[0m\u001b[1;33m,\u001b[0m \u001b[0mint\u001b[0m\u001b[1;33m(\u001b[0m\u001b[0mlabel\u001b[0m\u001b[1;33m)\u001b[0m\u001b[1;33m\u001b[0m\u001b[1;33m\u001b[0m\u001b[0m\n\u001b[0m\u001b[0;32m     18\u001b[0m \u001b[1;33m\u001b[0m\u001b[0m\n",
      "\u001b[1;31mKeyboardInterrupt\u001b[0m: ",
      "\nDuring handling of the above exception, another exception occurred:\n",
      "\u001b[1;31mAttributeError\u001b[0m                            Traceback (most recent call last)",
      "\u001b[1;32m~\\anaconda3\\lib\\site-packages\\IPython\\core\\interactiveshell.py\u001b[0m in \u001b[0;36mshowtraceback\u001b[1;34m(self, exc_tuple, filename, tb_offset, exception_only, running_compiled_code)\u001b[0m\n\u001b[0;32m   2044\u001b[0m                         \u001b[1;31m# in the engines. This should return a list of strings.\u001b[0m\u001b[1;33m\u001b[0m\u001b[1;33m\u001b[0m\u001b[1;33m\u001b[0m\u001b[0m\n\u001b[1;32m-> 2045\u001b[1;33m                         \u001b[0mstb\u001b[0m \u001b[1;33m=\u001b[0m \u001b[0mvalue\u001b[0m\u001b[1;33m.\u001b[0m\u001b[0m_render_traceback_\u001b[0m\u001b[1;33m(\u001b[0m\u001b[1;33m)\u001b[0m\u001b[1;33m\u001b[0m\u001b[1;33m\u001b[0m\u001b[0m\n\u001b[0m\u001b[0;32m   2046\u001b[0m                     \u001b[1;32mexcept\u001b[0m \u001b[0mException\u001b[0m\u001b[1;33m:\u001b[0m\u001b[1;33m\u001b[0m\u001b[1;33m\u001b[0m\u001b[0m\n",
      "\u001b[1;31mAttributeError\u001b[0m: 'KeyboardInterrupt' object has no attribute '_render_traceback_'",
      "\nDuring handling of the above exception, another exception occurred:\n",
      "\u001b[1;31mTypeError\u001b[0m                                 Traceback (most recent call last)",
      "\u001b[1;32m~\\anaconda3\\lib\\site-packages\\IPython\\core\\interactiveshell.py\u001b[0m in \u001b[0;36mrun_ast_nodes\u001b[1;34m(self, nodelist, cell_name, interactivity, compiler, result)\u001b[0m\n\u001b[0;32m   3337\u001b[0m                         \u001b[0masy\u001b[0m \u001b[1;33m=\u001b[0m \u001b[0mcompare\u001b[0m\u001b[1;33m(\u001b[0m\u001b[0mcode\u001b[0m\u001b[1;33m)\u001b[0m\u001b[1;33m\u001b[0m\u001b[1;33m\u001b[0m\u001b[0m\n\u001b[1;32m-> 3338\u001b[1;33m                     \u001b[1;32mif\u001b[0m \u001b[1;33m(\u001b[0m\u001b[1;32mawait\u001b[0m \u001b[0mself\u001b[0m\u001b[1;33m.\u001b[0m\u001b[0mrun_code\u001b[0m\u001b[1;33m(\u001b[0m\u001b[0mcode\u001b[0m\u001b[1;33m,\u001b[0m \u001b[0mresult\u001b[0m\u001b[1;33m,\u001b[0m  \u001b[0masync_\u001b[0m\u001b[1;33m=\u001b[0m\u001b[0masy\u001b[0m\u001b[1;33m)\u001b[0m\u001b[1;33m)\u001b[0m\u001b[1;33m:\u001b[0m\u001b[1;33m\u001b[0m\u001b[1;33m\u001b[0m\u001b[0m\n\u001b[0m\u001b[0;32m   3339\u001b[0m                         \u001b[1;32mreturn\u001b[0m \u001b[1;32mTrue\u001b[0m\u001b[1;33m\u001b[0m\u001b[1;33m\u001b[0m\u001b[0m\n",
      "    \u001b[1;31m[... skipping hidden 1 frame]\u001b[0m\n",
      "\u001b[1;32m~\\anaconda3\\lib\\site-packages\\IPython\\core\\interactiveshell.py\u001b[0m in \u001b[0;36mshowtraceback\u001b[1;34m(self, exc_tuple, filename, tb_offset, exception_only, running_compiled_code)\u001b[0m\n\u001b[0;32m   2046\u001b[0m                     \u001b[1;32mexcept\u001b[0m \u001b[0mException\u001b[0m\u001b[1;33m:\u001b[0m\u001b[1;33m\u001b[0m\u001b[1;33m\u001b[0m\u001b[0m\n\u001b[1;32m-> 2047\u001b[1;33m                         stb = self.InteractiveTB.structured_traceback(etype,\n\u001b[0m\u001b[0;32m   2048\u001b[0m                                             value, tb, tb_offset=tb_offset)\n",
      "\u001b[1;32m~\\anaconda3\\lib\\site-packages\\IPython\\core\\ultratb.py\u001b[0m in \u001b[0;36mstructured_traceback\u001b[1;34m(self, etype, value, tb, tb_offset, number_of_lines_of_context)\u001b[0m\n\u001b[0;32m   1435\u001b[0m             \u001b[0mself\u001b[0m\u001b[1;33m.\u001b[0m\u001b[0mtb\u001b[0m \u001b[1;33m=\u001b[0m \u001b[0mtb\u001b[0m\u001b[1;33m\u001b[0m\u001b[1;33m\u001b[0m\u001b[0m\n\u001b[1;32m-> 1436\u001b[1;33m         return FormattedTB.structured_traceback(\n\u001b[0m\u001b[0;32m   1437\u001b[0m             self, etype, value, tb, tb_offset, number_of_lines_of_context)\n",
      "\u001b[1;32m~\\anaconda3\\lib\\site-packages\\IPython\\core\\ultratb.py\u001b[0m in \u001b[0;36mstructured_traceback\u001b[1;34m(self, etype, value, tb, tb_offset, number_of_lines_of_context)\u001b[0m\n\u001b[0;32m   1335\u001b[0m             \u001b[1;31m# Verbose modes need a full traceback\u001b[0m\u001b[1;33m\u001b[0m\u001b[1;33m\u001b[0m\u001b[1;33m\u001b[0m\u001b[0m\n\u001b[1;32m-> 1336\u001b[1;33m             return VerboseTB.structured_traceback(\n\u001b[0m\u001b[0;32m   1337\u001b[0m                 \u001b[0mself\u001b[0m\u001b[1;33m,\u001b[0m \u001b[0metype\u001b[0m\u001b[1;33m,\u001b[0m \u001b[0mvalue\u001b[0m\u001b[1;33m,\u001b[0m \u001b[0mtb\u001b[0m\u001b[1;33m,\u001b[0m \u001b[0mtb_offset\u001b[0m\u001b[1;33m,\u001b[0m \u001b[0mnumber_of_lines_of_context\u001b[0m\u001b[1;33m\u001b[0m\u001b[1;33m\u001b[0m\u001b[0m\n",
      "\u001b[1;32m~\\anaconda3\\lib\\site-packages\\IPython\\core\\ultratb.py\u001b[0m in \u001b[0;36mstructured_traceback\u001b[1;34m(self, etype, evalue, etb, tb_offset, number_of_lines_of_context)\u001b[0m\n\u001b[0;32m   1192\u001b[0m \u001b[1;33m\u001b[0m\u001b[0m\n\u001b[1;32m-> 1193\u001b[1;33m         formatted_exception = self.format_exception_as_a_whole(etype, evalue, etb, number_of_lines_of_context,\n\u001b[0m\u001b[0;32m   1194\u001b[0m                                                                tb_offset)\n",
      "\u001b[1;32m~\\anaconda3\\lib\\site-packages\\IPython\\core\\ultratb.py\u001b[0m in \u001b[0;36mformat_exception_as_a_whole\u001b[1;34m(self, etype, evalue, etb, number_of_lines_of_context, tb_offset)\u001b[0m\n\u001b[0;32m   1150\u001b[0m \u001b[1;33m\u001b[0m\u001b[0m\n\u001b[1;32m-> 1151\u001b[1;33m         \u001b[0mlast_unique\u001b[0m\u001b[1;33m,\u001b[0m \u001b[0mrecursion_repeat\u001b[0m \u001b[1;33m=\u001b[0m \u001b[0mfind_recursion\u001b[0m\u001b[1;33m(\u001b[0m\u001b[0morig_etype\u001b[0m\u001b[1;33m,\u001b[0m \u001b[0mevalue\u001b[0m\u001b[1;33m,\u001b[0m \u001b[0mrecords\u001b[0m\u001b[1;33m)\u001b[0m\u001b[1;33m\u001b[0m\u001b[1;33m\u001b[0m\u001b[0m\n\u001b[0m\u001b[0;32m   1152\u001b[0m \u001b[1;33m\u001b[0m\u001b[0m\n",
      "\u001b[1;32m~\\anaconda3\\lib\\site-packages\\IPython\\core\\ultratb.py\u001b[0m in \u001b[0;36mfind_recursion\u001b[1;34m(etype, value, records)\u001b[0m\n\u001b[0;32m    450\u001b[0m     \u001b[1;32mif\u001b[0m \u001b[1;32mnot\u001b[0m \u001b[0mis_recursion_error\u001b[0m\u001b[1;33m(\u001b[0m\u001b[0metype\u001b[0m\u001b[1;33m,\u001b[0m \u001b[0mvalue\u001b[0m\u001b[1;33m,\u001b[0m \u001b[0mrecords\u001b[0m\u001b[1;33m)\u001b[0m\u001b[1;33m:\u001b[0m\u001b[1;33m\u001b[0m\u001b[1;33m\u001b[0m\u001b[0m\n\u001b[1;32m--> 451\u001b[1;33m         \u001b[1;32mreturn\u001b[0m \u001b[0mlen\u001b[0m\u001b[1;33m(\u001b[0m\u001b[0mrecords\u001b[0m\u001b[1;33m)\u001b[0m\u001b[1;33m,\u001b[0m \u001b[1;36m0\u001b[0m\u001b[1;33m\u001b[0m\u001b[1;33m\u001b[0m\u001b[0m\n\u001b[0m\u001b[0;32m    452\u001b[0m \u001b[1;33m\u001b[0m\u001b[0m\n",
      "\u001b[1;31mTypeError\u001b[0m: object of type 'NoneType' has no len()",
      "\nDuring handling of the above exception, another exception occurred:\n",
      "\u001b[1;31mAttributeError\u001b[0m                            Traceback (most recent call last)",
      "\u001b[1;32m~\\anaconda3\\lib\\site-packages\\IPython\\core\\interactiveshell.py\u001b[0m in \u001b[0;36mshowtraceback\u001b[1;34m(self, exc_tuple, filename, tb_offset, exception_only, running_compiled_code)\u001b[0m\n\u001b[0;32m   2044\u001b[0m                         \u001b[1;31m# in the engines. This should return a list of strings.\u001b[0m\u001b[1;33m\u001b[0m\u001b[1;33m\u001b[0m\u001b[1;33m\u001b[0m\u001b[0m\n\u001b[1;32m-> 2045\u001b[1;33m                         \u001b[0mstb\u001b[0m \u001b[1;33m=\u001b[0m \u001b[0mvalue\u001b[0m\u001b[1;33m.\u001b[0m\u001b[0m_render_traceback_\u001b[0m\u001b[1;33m(\u001b[0m\u001b[1;33m)\u001b[0m\u001b[1;33m\u001b[0m\u001b[1;33m\u001b[0m\u001b[0m\n\u001b[0m\u001b[0;32m   2046\u001b[0m                     \u001b[1;32mexcept\u001b[0m \u001b[0mException\u001b[0m\u001b[1;33m:\u001b[0m\u001b[1;33m\u001b[0m\u001b[1;33m\u001b[0m\u001b[0m\n",
      "\u001b[1;31mAttributeError\u001b[0m: 'TypeError' object has no attribute '_render_traceback_'",
      "\nDuring handling of the above exception, another exception occurred:\n",
      "\u001b[1;31mTypeError\u001b[0m                                 Traceback (most recent call last)",
      "\u001b[1;32m~\\anaconda3\\lib\\site-packages\\IPython\\core\\async_helpers.py\u001b[0m in \u001b[0;36m_pseudo_sync_runner\u001b[1;34m(coro)\u001b[0m\n\u001b[0;32m     66\u001b[0m     \"\"\"\n\u001b[0;32m     67\u001b[0m     \u001b[1;32mtry\u001b[0m\u001b[1;33m:\u001b[0m\u001b[1;33m\u001b[0m\u001b[1;33m\u001b[0m\u001b[0m\n\u001b[1;32m---> 68\u001b[1;33m         \u001b[0mcoro\u001b[0m\u001b[1;33m.\u001b[0m\u001b[0msend\u001b[0m\u001b[1;33m(\u001b[0m\u001b[1;32mNone\u001b[0m\u001b[1;33m)\u001b[0m\u001b[1;33m\u001b[0m\u001b[1;33m\u001b[0m\u001b[0m\n\u001b[0m\u001b[0;32m     69\u001b[0m     \u001b[1;32mexcept\u001b[0m \u001b[0mStopIteration\u001b[0m \u001b[1;32mas\u001b[0m \u001b[0mexc\u001b[0m\u001b[1;33m:\u001b[0m\u001b[1;33m\u001b[0m\u001b[1;33m\u001b[0m\u001b[0m\n\u001b[0;32m     70\u001b[0m         \u001b[1;32mreturn\u001b[0m \u001b[0mexc\u001b[0m\u001b[1;33m.\u001b[0m\u001b[0mvalue\u001b[0m\u001b[1;33m\u001b[0m\u001b[1;33m\u001b[0m\u001b[0m\n",
      "\u001b[1;32m~\\anaconda3\\lib\\site-packages\\IPython\\core\\interactiveshell.py\u001b[0m in \u001b[0;36mrun_cell_async\u001b[1;34m(self, raw_cell, store_history, silent, shell_futures, transformed_cell, preprocessing_exc_tuple)\u001b[0m\n\u001b[0;32m   3144\u001b[0m                     \u001b[0minteractivity\u001b[0m \u001b[1;33m=\u001b[0m \u001b[1;34m'async'\u001b[0m\u001b[1;33m\u001b[0m\u001b[1;33m\u001b[0m\u001b[0m\n\u001b[0;32m   3145\u001b[0m \u001b[1;33m\u001b[0m\u001b[0m\n\u001b[1;32m-> 3146\u001b[1;33m                 has_raised = await self.run_ast_nodes(code_ast.body, cell_name,\n\u001b[0m\u001b[0;32m   3147\u001b[0m                        interactivity=interactivity, compiler=compiler, result=result)\n\u001b[0;32m   3148\u001b[0m \u001b[1;33m\u001b[0m\u001b[0m\n",
      "\u001b[1;32m~\\anaconda3\\lib\\site-packages\\IPython\\core\\interactiveshell.py\u001b[0m in \u001b[0;36mrun_ast_nodes\u001b[1;34m(self, nodelist, cell_name, interactivity, compiler, result)\u001b[0m\n\u001b[0;32m   3355\u001b[0m             \u001b[1;32mif\u001b[0m \u001b[0mresult\u001b[0m\u001b[1;33m:\u001b[0m\u001b[1;33m\u001b[0m\u001b[1;33m\u001b[0m\u001b[0m\n\u001b[0;32m   3356\u001b[0m                 \u001b[0mresult\u001b[0m\u001b[1;33m.\u001b[0m\u001b[0merror_before_exec\u001b[0m \u001b[1;33m=\u001b[0m \u001b[0msys\u001b[0m\u001b[1;33m.\u001b[0m\u001b[0mexc_info\u001b[0m\u001b[1;33m(\u001b[0m\u001b[1;33m)\u001b[0m\u001b[1;33m[\u001b[0m\u001b[1;36m1\u001b[0m\u001b[1;33m]\u001b[0m\u001b[1;33m\u001b[0m\u001b[1;33m\u001b[0m\u001b[0m\n\u001b[1;32m-> 3357\u001b[1;33m             \u001b[0mself\u001b[0m\u001b[1;33m.\u001b[0m\u001b[0mshowtraceback\u001b[0m\u001b[1;33m(\u001b[0m\u001b[1;33m)\u001b[0m\u001b[1;33m\u001b[0m\u001b[1;33m\u001b[0m\u001b[0m\n\u001b[0m\u001b[0;32m   3358\u001b[0m             \u001b[1;32mreturn\u001b[0m \u001b[1;32mTrue\u001b[0m\u001b[1;33m\u001b[0m\u001b[1;33m\u001b[0m\u001b[0m\n\u001b[0;32m   3359\u001b[0m \u001b[1;33m\u001b[0m\u001b[0m\n",
      "\u001b[1;32m~\\anaconda3\\lib\\site-packages\\IPython\\core\\interactiveshell.py\u001b[0m in \u001b[0;36mshowtraceback\u001b[1;34m(self, exc_tuple, filename, tb_offset, exception_only, running_compiled_code)\u001b[0m\n\u001b[0;32m   2045\u001b[0m                         \u001b[0mstb\u001b[0m \u001b[1;33m=\u001b[0m \u001b[0mvalue\u001b[0m\u001b[1;33m.\u001b[0m\u001b[0m_render_traceback_\u001b[0m\u001b[1;33m(\u001b[0m\u001b[1;33m)\u001b[0m\u001b[1;33m\u001b[0m\u001b[1;33m\u001b[0m\u001b[0m\n\u001b[0;32m   2046\u001b[0m                     \u001b[1;32mexcept\u001b[0m \u001b[0mException\u001b[0m\u001b[1;33m:\u001b[0m\u001b[1;33m\u001b[0m\u001b[1;33m\u001b[0m\u001b[0m\n\u001b[1;32m-> 2047\u001b[1;33m                         stb = self.InteractiveTB.structured_traceback(etype,\n\u001b[0m\u001b[0;32m   2048\u001b[0m                                             value, tb, tb_offset=tb_offset)\n\u001b[0;32m   2049\u001b[0m \u001b[1;33m\u001b[0m\u001b[0m\n",
      "\u001b[1;32m~\\anaconda3\\lib\\site-packages\\IPython\\core\\ultratb.py\u001b[0m in \u001b[0;36mstructured_traceback\u001b[1;34m(self, etype, value, tb, tb_offset, number_of_lines_of_context)\u001b[0m\n\u001b[0;32m   1434\u001b[0m         \u001b[1;32melse\u001b[0m\u001b[1;33m:\u001b[0m\u001b[1;33m\u001b[0m\u001b[1;33m\u001b[0m\u001b[0m\n\u001b[0;32m   1435\u001b[0m             \u001b[0mself\u001b[0m\u001b[1;33m.\u001b[0m\u001b[0mtb\u001b[0m \u001b[1;33m=\u001b[0m \u001b[0mtb\u001b[0m\u001b[1;33m\u001b[0m\u001b[1;33m\u001b[0m\u001b[0m\n\u001b[1;32m-> 1436\u001b[1;33m         return FormattedTB.structured_traceback(\n\u001b[0m\u001b[0;32m   1437\u001b[0m             self, etype, value, tb, tb_offset, number_of_lines_of_context)\n\u001b[0;32m   1438\u001b[0m \u001b[1;33m\u001b[0m\u001b[0m\n",
      "\u001b[1;32m~\\anaconda3\\lib\\site-packages\\IPython\\core\\ultratb.py\u001b[0m in \u001b[0;36mstructured_traceback\u001b[1;34m(self, etype, value, tb, tb_offset, number_of_lines_of_context)\u001b[0m\n\u001b[0;32m   1334\u001b[0m         \u001b[1;32mif\u001b[0m \u001b[0mmode\u001b[0m \u001b[1;32min\u001b[0m \u001b[0mself\u001b[0m\u001b[1;33m.\u001b[0m\u001b[0mverbose_modes\u001b[0m\u001b[1;33m:\u001b[0m\u001b[1;33m\u001b[0m\u001b[1;33m\u001b[0m\u001b[0m\n\u001b[0;32m   1335\u001b[0m             \u001b[1;31m# Verbose modes need a full traceback\u001b[0m\u001b[1;33m\u001b[0m\u001b[1;33m\u001b[0m\u001b[1;33m\u001b[0m\u001b[0m\n\u001b[1;32m-> 1336\u001b[1;33m             return VerboseTB.structured_traceback(\n\u001b[0m\u001b[0;32m   1337\u001b[0m                 \u001b[0mself\u001b[0m\u001b[1;33m,\u001b[0m \u001b[0metype\u001b[0m\u001b[1;33m,\u001b[0m \u001b[0mvalue\u001b[0m\u001b[1;33m,\u001b[0m \u001b[0mtb\u001b[0m\u001b[1;33m,\u001b[0m \u001b[0mtb_offset\u001b[0m\u001b[1;33m,\u001b[0m \u001b[0mnumber_of_lines_of_context\u001b[0m\u001b[1;33m\u001b[0m\u001b[1;33m\u001b[0m\u001b[0m\n\u001b[0;32m   1338\u001b[0m             )\n",
      "\u001b[1;32m~\\anaconda3\\lib\\site-packages\\IPython\\core\\ultratb.py\u001b[0m in \u001b[0;36mstructured_traceback\u001b[1;34m(self, etype, evalue, etb, tb_offset, number_of_lines_of_context)\u001b[0m\n\u001b[0;32m   1209\u001b[0m         \u001b[0mchained_exc_ids\u001b[0m \u001b[1;33m=\u001b[0m \u001b[0mset\u001b[0m\u001b[1;33m(\u001b[0m\u001b[1;33m)\u001b[0m\u001b[1;33m\u001b[0m\u001b[1;33m\u001b[0m\u001b[0m\n\u001b[0;32m   1210\u001b[0m         \u001b[1;32mwhile\u001b[0m \u001b[0mevalue\u001b[0m\u001b[1;33m:\u001b[0m\u001b[1;33m\u001b[0m\u001b[1;33m\u001b[0m\u001b[0m\n\u001b[1;32m-> 1211\u001b[1;33m             formatted_exceptions += self.format_exception_as_a_whole(etype, evalue, etb, lines_of_context,\n\u001b[0m\u001b[0;32m   1212\u001b[0m                                                                      chained_exceptions_tb_offset)\n\u001b[0;32m   1213\u001b[0m             \u001b[0mexception\u001b[0m \u001b[1;33m=\u001b[0m \u001b[0mself\u001b[0m\u001b[1;33m.\u001b[0m\u001b[0mget_parts_of_chained_exception\u001b[0m\u001b[1;33m(\u001b[0m\u001b[0mevalue\u001b[0m\u001b[1;33m)\u001b[0m\u001b[1;33m\u001b[0m\u001b[1;33m\u001b[0m\u001b[0m\n",
      "\u001b[1;32m~\\anaconda3\\lib\\site-packages\\IPython\\core\\ultratb.py\u001b[0m in \u001b[0;36mformat_exception_as_a_whole\u001b[1;34m(self, etype, evalue, etb, number_of_lines_of_context, tb_offset)\u001b[0m\n\u001b[0;32m   1149\u001b[0m \u001b[1;33m\u001b[0m\u001b[0m\n\u001b[0;32m   1150\u001b[0m \u001b[1;33m\u001b[0m\u001b[0m\n\u001b[1;32m-> 1151\u001b[1;33m         \u001b[0mlast_unique\u001b[0m\u001b[1;33m,\u001b[0m \u001b[0mrecursion_repeat\u001b[0m \u001b[1;33m=\u001b[0m \u001b[0mfind_recursion\u001b[0m\u001b[1;33m(\u001b[0m\u001b[0morig_etype\u001b[0m\u001b[1;33m,\u001b[0m \u001b[0mevalue\u001b[0m\u001b[1;33m,\u001b[0m \u001b[0mrecords\u001b[0m\u001b[1;33m)\u001b[0m\u001b[1;33m\u001b[0m\u001b[1;33m\u001b[0m\u001b[0m\n\u001b[0m\u001b[0;32m   1152\u001b[0m \u001b[1;33m\u001b[0m\u001b[0m\n\u001b[0;32m   1153\u001b[0m         \u001b[0mframes\u001b[0m \u001b[1;33m=\u001b[0m \u001b[0mself\u001b[0m\u001b[1;33m.\u001b[0m\u001b[0mformat_records\u001b[0m\u001b[1;33m(\u001b[0m\u001b[0mrecords\u001b[0m\u001b[1;33m,\u001b[0m \u001b[0mlast_unique\u001b[0m\u001b[1;33m,\u001b[0m \u001b[0mrecursion_repeat\u001b[0m\u001b[1;33m)\u001b[0m\u001b[1;33m\u001b[0m\u001b[1;33m\u001b[0m\u001b[0m\n",
      "\u001b[1;32m~\\anaconda3\\lib\\site-packages\\IPython\\core\\ultratb.py\u001b[0m in \u001b[0;36mfind_recursion\u001b[1;34m(etype, value, records)\u001b[0m\n\u001b[0;32m    449\u001b[0m     \u001b[1;31m# first frame (from in to out) that looks different.\u001b[0m\u001b[1;33m\u001b[0m\u001b[1;33m\u001b[0m\u001b[1;33m\u001b[0m\u001b[0m\n\u001b[0;32m    450\u001b[0m     \u001b[1;32mif\u001b[0m \u001b[1;32mnot\u001b[0m \u001b[0mis_recursion_error\u001b[0m\u001b[1;33m(\u001b[0m\u001b[0metype\u001b[0m\u001b[1;33m,\u001b[0m \u001b[0mvalue\u001b[0m\u001b[1;33m,\u001b[0m \u001b[0mrecords\u001b[0m\u001b[1;33m)\u001b[0m\u001b[1;33m:\u001b[0m\u001b[1;33m\u001b[0m\u001b[1;33m\u001b[0m\u001b[0m\n\u001b[1;32m--> 451\u001b[1;33m         \u001b[1;32mreturn\u001b[0m \u001b[0mlen\u001b[0m\u001b[1;33m(\u001b[0m\u001b[0mrecords\u001b[0m\u001b[1;33m)\u001b[0m\u001b[1;33m,\u001b[0m \u001b[1;36m0\u001b[0m\u001b[1;33m\u001b[0m\u001b[1;33m\u001b[0m\u001b[0m\n\u001b[0m\u001b[0;32m    452\u001b[0m \u001b[1;33m\u001b[0m\u001b[0m\n\u001b[0;32m    453\u001b[0m     \u001b[1;31m# Select filename, lineno, func_name to track frames with\u001b[0m\u001b[1;33m\u001b[0m\u001b[1;33m\u001b[0m\u001b[1;33m\u001b[0m\u001b[0m\n",
      "\u001b[1;31mTypeError\u001b[0m: object of type 'NoneType' has no len()"
     ]
    }
   ],
   "source": [
    "EPOCH_NUM = 100\n",
    "\n",
    "print(MODEL_NAME)\n",
    "result = run_training(\n",
    "                        model=model,\n",
    "                        optimizer=optimizer,\n",
    "                        criterion=criterion,\n",
    "                        epoch_num=EPOCH_NUM,\n",
    "                        train_dataloader=train_dataloader,\n",
    "                        valid_dataloader=valid_dataloader,\n",
    "                        MODEL_NAME=MODEL_NAME,\n",
    "                        device=\"cuda\",\n",
    "                        verbose=5\n",
    "                      )"
   ]
  }
 ],
 "metadata": {
  "kernelspec": {
   "display_name": "Python 3",
   "language": "python",
   "name": "python3"
  },
  "language_info": {
   "codemirror_mode": {
    "name": "ipython",
    "version": 3
   },
   "file_extension": ".py",
   "mimetype": "text/x-python",
   "name": "python",
   "nbconvert_exporter": "python",
   "pygments_lexer": "ipython3",
   "version": "3.8.5"
  }
 },
 "nbformat": 4,
 "nbformat_minor": 4
}
