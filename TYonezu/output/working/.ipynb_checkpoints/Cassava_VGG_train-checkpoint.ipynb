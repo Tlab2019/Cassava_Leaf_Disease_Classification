{
 "cells": [
  {
   "cell_type": "markdown",
   "metadata": {},
   "source": [
    "# **Cassava VGG11 fine-tuning**\n",
    "2021/01/12 written by T.Yonezu"
   ]
  },
  {
   "cell_type": "code",
   "execution_count": 24,
   "metadata": {},
   "outputs": [
    {
     "name": "stdout",
     "output_type": "stream",
     "text": [
      "The autoreload extension is already loaded. To reload it, use:\n",
      "  %reload_ext autoreload\n"
     ]
    }
   ],
   "source": [
    "%load_ext autoreload\n",
    "%autoreload 2\n",
    "\n",
    "import torch\n",
    "from torch.utils.data import DataLoader, Dataset\n",
    "\n",
    "import numpy as np \n",
    "import matplotlib.pyplot as plt\n",
    "import pandas as pd\n",
    "import glob \n",
    "import os\n",
    "from tqdm import tqdm\n",
    "\n",
    "from cassava_dataset import *\n",
    "from myvgg import *\n",
    "from augmentation import *\n",
    "\n",
    "import warnings\n",
    "warnings.simplefilter('ignore')"
   ]
  },
  {
   "cell_type": "code",
   "execution_count": 25,
   "metadata": {},
   "outputs": [],
   "source": [
    "input_dir = os.path.join('..',\"..\", 'input', 'cassava-leaf-disease-classification')"
   ]
  },
  {
   "cell_type": "code",
   "execution_count": 28,
   "metadata": {},
   "outputs": [],
   "source": []
  },
  {
   "cell_type": "markdown",
   "metadata": {},
   "source": [
    "## **Fine-tuning**"
   ]
  },
  {
   "cell_type": "code",
   "execution_count": 26,
   "metadata": {},
   "outputs": [],
   "source": [
    "x = pd.read_csv(os.path.join(input_dir, 'train.csv'))\n",
    "x[\"image_path\"] = os.path.join(input_dir,\"train_images\")\n",
    "x[\"image_path\"] = x[\"image_path\"].str.cat(x[\"image_id\"], sep=os.path.sep)\n",
    "\n",
    "\n",
    "from sklearn.model_selection import train_test_split\n",
    "\n",
    "train_df , valid_df = train_test_split(x,test_size=0.33, random_state=42)\n",
    "train_df = EqualizeLabels(train_df,NUM=15000)\n",
    "\n",
    "train_dict = dict( zip(train_df[\"image_path\"],train_df[\"label\"]) )\n",
    "valid_dict = dict( zip(valid_df[\"image_path\"],valid_df[\"label\"]) )"
   ]
  },
  {
   "cell_type": "code",
   "execution_count": 13,
   "metadata": {},
   "outputs": [],
   "source": []
  },
  {
   "cell_type": "code",
   "execution_count": 14,
   "metadata": {},
   "outputs": [],
   "source": [
    "BATCH_SIZE = 10\n",
    "NUM_WORKERS = 8\n",
    "size = (224,224)\n",
    "mean = [0.485, 0.456, 0.406]\n",
    "std=[0.229, 0.224, 0.225]\n",
    "\n",
    "transform = ImageTransform(size,mean,std)\n",
    "train_data = CassavaDataset(train_dict,transform=transform,phase=\"train\")\n",
    "train_data = DataLoader(train_data,batch_size=BATCH_SIZE)\n",
    "\n",
    "valid_data = CassavaDataset(valid_dict,transform=transform,phase=\"val\")\n",
    "valid_data = DataLoader(vlida_data,batch_size=BATCH_SIZE)"
   ]
  },
  {
   "cell_type": "code",
   "execution_count": 29,
   "metadata": {},
   "outputs": [],
   "source": [
    "EPOCH_NUM = 50\n",
    "\n",
    "OUT_DIR = os.path.join(\"..\",\"..\",\"input\",\"cassava-models\")\n",
    "MODEL_NAME = \"VGG11_cassava_EqualizedLabel_trained_%dEpoch.mdl\"\n",
    "PATH = os.path.join(OUT_DIR,MODEL_NAME%EPOCH_NUM)"
   ]
  },
  {
   "cell_type": "code",
   "execution_count": 30,
   "metadata": {},
   "outputs": [
    {
     "name": "stderr",
     "output_type": "stream",
     "text": [
      "Using cache found in C:\\Users\\organ/.cache\\torch\\hub\\pytorch_vision_v0.6.0\n"
     ]
    },
    {
     "data": {
      "text/plain": [
       "VGG(\n",
       "  (features): Sequential(\n",
       "    (0): Conv2d(3, 64, kernel_size=(3, 3), stride=(1, 1), padding=(1, 1))\n",
       "    (1): ReLU(inplace=True)\n",
       "    (2): MaxPool2d(kernel_size=2, stride=2, padding=0, dilation=1, ceil_mode=False)\n",
       "    (3): Conv2d(64, 128, kernel_size=(3, 3), stride=(1, 1), padding=(1, 1))\n",
       "    (4): ReLU(inplace=True)\n",
       "    (5): MaxPool2d(kernel_size=2, stride=2, padding=0, dilation=1, ceil_mode=False)\n",
       "    (6): Conv2d(128, 256, kernel_size=(3, 3), stride=(1, 1), padding=(1, 1))\n",
       "    (7): ReLU(inplace=True)\n",
       "    (8): Conv2d(256, 256, kernel_size=(3, 3), stride=(1, 1), padding=(1, 1))\n",
       "    (9): ReLU(inplace=True)\n",
       "    (10): MaxPool2d(kernel_size=2, stride=2, padding=0, dilation=1, ceil_mode=False)\n",
       "    (11): Conv2d(256, 512, kernel_size=(3, 3), stride=(1, 1), padding=(1, 1))\n",
       "    (12): ReLU(inplace=True)\n",
       "    (13): Conv2d(512, 512, kernel_size=(3, 3), stride=(1, 1), padding=(1, 1))\n",
       "    (14): ReLU(inplace=True)\n",
       "    (15): MaxPool2d(kernel_size=2, stride=2, padding=0, dilation=1, ceil_mode=False)\n",
       "    (16): Conv2d(512, 512, kernel_size=(3, 3), stride=(1, 1), padding=(1, 1))\n",
       "    (17): ReLU(inplace=True)\n",
       "    (18): Conv2d(512, 512, kernel_size=(3, 3), stride=(1, 1), padding=(1, 1))\n",
       "    (19): ReLU(inplace=True)\n",
       "    (20): MaxPool2d(kernel_size=2, stride=2, padding=0, dilation=1, ceil_mode=False)\n",
       "  )\n",
       "  (avgpool): AdaptiveAvgPool2d(output_size=(7, 7))\n",
       "  (classifier): Sequential(\n",
       "    (0): Linear(in_features=25088, out_features=4096, bias=True)\n",
       "    (1): ReLU(inplace=True)\n",
       "    (2): Dropout(p=0.5, inplace=False)\n",
       "    (3): Linear(in_features=4096, out_features=4096, bias=True)\n",
       "    (4): ReLU(inplace=True)\n",
       "    (5): Dropout(p=0.5, inplace=False)\n",
       "    (6): Linear(in_features=4096, out_features=5, bias=True)\n",
       "  )\n",
       ")"
      ]
     },
     "execution_count": 30,
     "metadata": {},
     "output_type": "execute_result"
    }
   ],
   "source": [
    "import torchvision.models as models\n",
    "\n",
    "model = torch.hub.load('pytorch/vision:v0.6.0', 'vgg11', pretrained=False)\n",
    "model.classifier[6] = nn.Linear(in_features=4096, out_features=5, bias=True)\n",
    "model"
   ]
  },
  {
   "cell_type": "code",
   "execution_count": 21,
   "metadata": {},
   "outputs": [
    {
     "name": "stderr",
     "output_type": "stream",
     "text": [
      "\n",
      "\n",
      "  0%|                                                                                           | 0/50 [00:00<?, ?it/s]\n",
      "\n",
      "  2%|█▌                                                                              | 1/50 [03:57<3:13:35, 237.05s/it]"
     ]
    },
    {
     "data": {
      "image/png": "[encoded data removed]",
      "text/plain": [
       "<Figure size 432x288 with 1 Axes>"
      ]
     },
     "metadata": {
      "needs_background": "light"
     },
     "output_type": "display_data"
    },
    {
     "name": "stderr",
     "output_type": "stream",
     "text": [
      "\n",
      "\n",
      "  4%|███▏                                                                            | 2/50 [07:54<3:09:41, 237.11s/it]\n",
      "\n",
      "  6%|████▊                                                                           | 3/50 [11:51<3:05:42, 237.07s/it]\n",
      "\n",
      "  8%|██████▍                                                                         | 4/50 [15:47<3:01:36, 236.88s/it]\n",
      "\n",
      " 10%|████████                                                                        | 5/50 [19:44<2:57:33, 236.74s/it]\n",
      "\n",
      " 12%|█████████▌                                                                      | 6/50 [23:40<2:53:31, 236.64s/it]\n",
      "\n",
      " 14%|███████████▏                                                                    | 7/50 [27:37<2:49:34, 236.62s/it]\n",
      "\n",
      " 16%|████████████▊                                                                   | 8/50 [31:33<2:45:35, 236.55s/it]\n",
      "\n",
      " 18%|██████████████▍                                                                 | 9/50 [35:30<2:41:39, 236.58s/it]\n",
      "\n",
      " 20%|███████████████▊                                                               | 10/50 [39:27<2:37:54, 236.86s/it]\n",
      "\n",
      " 22%|█████████████████▍                                                             | 11/50 [43:24<2:34:01, 236.95s/it]"
     ]
    },
    {
     "data": {
      "image/png": "[encoded data removed]",
      "text/plain": [
       "<Figure size 432x288 with 1 Axes>"
      ]
     },
     "metadata": {
      "needs_background": "light"
     },
     "output_type": "display_data"
    },
    {
     "name": "stderr",
     "output_type": "stream",
     "text": [
      "\n",
      "\n",
      " 24%|██████████████████▉                                                            | 12/50 [47:22<2:30:08, 237.07s/it]\n",
      "\n",
      " 26%|████████████████████▌                                                          | 13/50 [51:19<2:26:12, 237.10s/it]\n",
      "\n",
      " 28%|██████████████████████                                                         | 14/50 [55:15<2:22:05, 236.83s/it]\n",
      "\n",
      " 30%|███████████████████████▋                                                       | 15/50 [59:11<2:18:00, 236.59s/it]\n",
      "\n",
      " 32%|████████████████████████▋                                                    | 16/50 [1:03:07<2:13:56, 236.37s/it]\n",
      "\n",
      " 34%|██████████████████████████▏                                                  | 17/50 [1:07:03<2:09:53, 236.18s/it]\n",
      "\n",
      " 36%|███████████████████████████▋                                                 | 18/50 [1:10:58<2:05:52, 236.03s/it]\n",
      "\n",
      " 38%|█████████████████████████████▎                                               | 19/50 [1:14:54<2:01:54, 235.94s/it]\n",
      "\n",
      " 40%|██████████████████████████████▊                                              | 20/50 [1:18:50<1:57:57, 235.91s/it]\n",
      "\n",
      " 42%|████████████████████████████████▎                                            | 21/50 [1:22:46<1:53:59, 235.85s/it]"
     ]
    },
    {
     "data": {
      "image/png": "[encoded data removed]",
      "text/plain": [
       "<Figure size 432x288 with 1 Axes>"
      ]
     },
     "metadata": {
      "needs_background": "light"
     },
     "output_type": "display_data"
    },
    {
     "name": "stderr",
     "output_type": "stream",
     "text": [
      "\n",
      "\n",
      " 44%|█████████████████████████████████▉                                           | 22/50 [1:26:42<1:50:04, 235.87s/it]\n",
      "\n",
      " 46%|███████████████████████████████████▍                                         | 23/50 [1:30:37<1:46:07, 235.82s/it]\n",
      "\n",
      " 48%|████████████████████████████████████▉                                        | 24/50 [1:34:33<1:42:11, 235.83s/it]\n",
      "\n",
      " 50%|██████████████████████████████████████▌                                      | 25/50 [1:38:29<1:38:15, 235.81s/it]\n",
      "\n",
      " 52%|████████████████████████████████████████                                     | 26/50 [1:42:25<1:34:18, 235.77s/it]\n",
      "\n",
      " 54%|█████████████████████████████████████████▌                                   | 27/50 [1:46:20<1:30:23, 235.79s/it]\n",
      "\n",
      " 56%|███████████████████████████████████████████                                  | 28/50 [1:50:17<1:26:34, 236.11s/it]\n",
      "\n",
      " 58%|████████████████████████████████████████████▋                                | 29/50 [1:54:14<1:22:40, 236.22s/it]\n",
      "\n",
      " 60%|██████████████████████████████████████████████▏                              | 30/50 [1:58:10<1:18:45, 236.28s/it]\n",
      "\n",
      " 62%|███████████████████████████████████████████████▋                             | 31/50 [2:02:06<1:14:48, 236.23s/it]"
     ]
    },
    {
     "data": {
      "image/png": "[encoded data removed]",
      "text/plain": [
       "<Figure size 432x288 with 1 Axes>"
      ]
     },
     "metadata": {
      "needs_background": "light"
     },
     "output_type": "display_data"
    },
    {
     "name": "stderr",
     "output_type": "stream",
     "text": [
      "\n",
      "\n",
      " 64%|█████████████████████████████████████████████████▎                           | 32/50 [2:06:02<1:10:49, 236.08s/it]\n",
      "\n",
      " 66%|██████████████████████████████████████████████████▊                          | 33/50 [2:09:58<1:06:51, 235.97s/it]\n",
      "\n",
      " 68%|████████████████████████████████████████████████████▎                        | 34/50 [2:13:53<1:02:54, 235.92s/it]\n",
      "\n",
      " 70%|███████████████████████████████████████████████████████▎                       | 35/50 [2:17:49<58:57, 235.85s/it]\n",
      "\n",
      " 72%|████████████████████████████████████████████████████████▉                      | 36/50 [2:21:46<55:06, 236.16s/it]\n",
      "\n",
      " 74%|██████████████████████████████████████████████████████████▍                    | 37/50 [2:25:43<51:14, 236.52s/it]\n",
      "\n",
      " 76%|████████████████████████████████████████████████████████████                   | 38/50 [2:29:41<47:21, 236.77s/it]\n",
      "\n",
      " 78%|█████████████████████████████████████████████████████████████▌                 | 39/50 [2:33:37<43:23, 236.69s/it]\n",
      "\n",
      " 80%|███████████████████████████████████████████████████████████████▏               | 40/50 [2:37:34<39:25, 236.57s/it]\n",
      "\n",
      " 82%|████████████████████████████████████████████████████████████████▊              | 41/50 [2:41:32<35:34, 237.19s/it]"
     ]
    },
    {
     "data": {
      "image/png": "[encoded data removed]",
      "text/plain": [
       "<Figure size 432x288 with 1 Axes>"
      ]
     },
     "metadata": {
      "needs_background": "light"
     },
     "output_type": "display_data"
    },
    {
     "name": "stderr",
     "output_type": "stream",
     "text": [
      "\n",
      "\n",
      " 84%|██████████████████████████████████████████████████████████████████▎            | 42/50 [2:45:30<31:39, 237.45s/it]\n",
      "\n",
      " 86%|███████████████████████████████████████████████████████████████████▉           | 43/50 [2:49:28<27:41, 237.41s/it]\n",
      "\n",
      " 88%|█████████████████████████████████████████████████████████████████████▌         | 44/50 [2:53:23<23:41, 236.95s/it]\n",
      "\n",
      " 90%|███████████████████████████████████████████████████████████████████████        | 45/50 [2:57:19<19:43, 236.66s/it]\n",
      "\n",
      " 92%|████████████████████████████████████████████████████████████████████████▋      | 46/50 [3:01:15<15:45, 236.45s/it]\n",
      "\n",
      " 94%|██████████████████████████████████████████████████████████████████████████▎    | 47/50 [3:05:11<11:48, 236.32s/it]\n",
      "\n",
      " 96%|███████████████████████████████████████████████████████████████████████████▊   | 48/50 [3:09:08<07:52, 236.27s/it]\n",
      "\n",
      " 98%|█████████████████████████████████████████████████████████████████████████████▍ | 49/50 [3:13:04<03:56, 236.23s/it]\n",
      "\n",
      "100%|███████████████████████████████████████████████████████████████████████████████| 50/50 [3:17:00<00:00, 236.40s/it]\n"
     ]
    }
   ],
   "source": [
    "import torch.optim as optim\n",
    "from torch import nn\n",
    "\n",
    "model = model.cuda()\n",
    "\n",
    "optimizer = optim.SGD(model.parameters(), lr=0.01)\n",
    "criterion = nn.CrossEntropyLoss()\n",
    "\n",
    "model.train()\n",
    "acc_log = {}\n",
    "for epoch in tqdm(range(EPOCH_NUM)):\n",
    "    \n",
    "    acc = np.array([])\n",
    "    \n",
    "    for batch in (train_data):\n",
    "        \n",
    "        X = batch[0].cuda()\n",
    "        y = batch[1].cuda()\n",
    "        pred = model(X)\n",
    "        \n",
    "        # zero the gradient buffers\n",
    "        optimizer.zero_grad()\n",
    "        loss = criterion(pred, y)\n",
    "        loss.backward()\n",
    "        optimizer.step() # Does the update\n",
    "        \n",
    "        \n",
    "        pred_label = ( pred.argmax(axis=1) ).cpu().numpy()\n",
    "        y = y.cpu().numpy()\n",
    "        acc = np.append(acc, pred_label == y)\n",
    "    \n",
    "    acc_log[epoch] = acc.sum()/len(acc)\n",
    "    \n",
    "    if epoch%10 == 1:\n",
    "        pd.Series(acc_log).plot(marker=\"o\")\n",
    "        plt.grid(True)\n",
    "        plt.ylim(0,1)\n",
    "        plt.xlim(0,EPOCH_NUM+1)\n",
    "        plt.show()\n",
    "        \n",
    "        \n",
    "\n",
    "if not(os.path.exists(OUT_DIR)):\n",
    "    os.makedirs(OUT_DIR)\n",
    "torch.save(model.state_dict(),PATH)"
   ]
  },
  {
   "cell_type": "code",
   "execution_count": 23,
   "metadata": {},
   "outputs": [
    {
     "data": {
      "image/png": "[encoded data removed]",
      "text/plain": [
       "<Figure size 432x288 with 1 Axes>"
      ]
     },
     "metadata": {
      "needs_background": "light"
     },
     "output_type": "display_data"
    }
   ],
   "source": [
    "pd.Series(acc_log).plot()\n",
    "plt.grid()\n",
    "plt.show()"
   ]
  },
  {
   "cell_type": "code",
   "execution_count": null,
   "metadata": {},
   "outputs": [],
   "source": []
  }
 ],
 "metadata": {
  "kernelspec": {
   "display_name": "Python 3",
   "language": "python",
   "name": "python3"
  },
  "language_info": {
   "codemirror_mode": {
    "name": "ipython",
    "version": 3
   },
   "file_extension": ".py",
   "mimetype": "text/x-python",
   "name": "python",
   "nbconvert_exporter": "python",
   "pygments_lexer": "ipython3",
   "version": "3.7.4"
  }
 },
 "nbformat": 4,
 "nbformat_minor": 4
}
