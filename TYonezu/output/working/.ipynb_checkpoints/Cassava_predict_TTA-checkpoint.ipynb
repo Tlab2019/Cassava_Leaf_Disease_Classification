{
 "cells": [
  {
   "cell_type": "markdown",
   "metadata": {
    "papermill": {
     "duration": 0.006612,
     "end_time": "2021-01-15T01:39:28.400212",
     "exception": false,
     "start_time": "2021-01-15T01:39:28.393600",
     "status": "completed"
    },
    "tags": []
   },
   "source": [
    "# **Cassava TTA prediction**\n",
    "2021/01/14 written by T.Yonezu"
   ]
  },
  {
   "cell_type": "code",
   "execution_count": 1,
   "metadata": {
    "execution": {
     "iopub.execute_input": "2021-01-15T01:39:28.426272Z",
     "iopub.status.busy": "2021-01-15T01:39:28.425584Z",
     "iopub.status.idle": "2021-01-15T01:39:30.223446Z",
     "shell.execute_reply": "2021-01-15T01:39:30.224774Z"
    },
    "papermill": {
     "duration": 1.818573,
     "end_time": "2021-01-15T01:39:30.225004",
     "exception": false,
     "start_time": "2021-01-15T01:39:28.406431",
     "status": "completed"
    },
    "tags": []
   },
   "outputs": [],
   "source": [
    "%load_ext autoreload\n",
    "%autoreload 2\n",
    "\n",
    "import torch\n",
    "from torch.utils.data import DataLoader, Dataset\n",
    "\n",
    "import numpy as np\n",
    "import matplotlib.pyplot as plt\n",
    "import pandas as pd\n",
    "import glob \n",
    "import os\n",
    "from tqdm import tqdm\n",
    "\n",
    "from cassava_dataset import *\n",
    "from test_time_augmentation import *\n",
    "\n",
    "import warnings\n",
    "warnings.simplefilter('ignore')"
   ]
  },
  {
   "cell_type": "code",
   "execution_count": 2,
   "metadata": {
    "execution": {
     "iopub.execute_input": "2021-01-15T01:39:30.255508Z",
     "iopub.status.busy": "2021-01-15T01:39:30.254677Z",
     "iopub.status.idle": "2021-01-15T01:39:30.285903Z",
     "shell.execute_reply": "2021-01-15T01:39:30.287011Z"
    },
    "papermill": {
     "duration": 0.052453,
     "end_time": "2021-01-15T01:39:30.287171",
     "exception": false,
     "start_time": "2021-01-15T01:39:30.234718",
     "status": "completed"
    },
    "tags": []
   },
   "outputs": [],
   "source": [
    "input_dir = \"../../input/cassava-leaf-disease-classification\""
   ]
  },
  {
   "cell_type": "code",
   "execution_count": 3,
   "metadata": {
    "execution": {
     "iopub.execute_input": "2021-01-15T01:39:30.319471Z",
     "iopub.status.busy": "2021-01-15T01:39:30.318583Z",
     "iopub.status.idle": "2021-01-15T01:39:30.372696Z",
     "shell.execute_reply": "2021-01-15T01:39:30.373792Z"
    },
    "papermill": {
     "duration": 0.077841,
     "end_time": "2021-01-15T01:39:30.373939",
     "exception": false,
     "start_time": "2021-01-15T01:39:30.296098",
     "status": "completed"
    },
    "tags": []
   },
   "outputs": [],
   "source": [
    "x = np.atleast_2d(np.sort(glob.glob(os.path.join(input_dir, 'train_images',\"*\"))))\n",
    "x = x.T\n",
    "x = pd.DataFrame(columns=[\"image_path\"], data=x)\n",
    "tmp = x[\"image_path\"].str.split(os.path.sep,expand=True)\n",
    "x[\"image_id\"] = tmp[len(tmp.columns)-1]\n",
    "x[\"label\"] = np.nan\n",
    "\n",
    "test_dict = dict( zip(x[\"image_path\"],x[\"label\"]) )"
   ]
  },
  {
   "cell_type": "code",
   "execution_count": 4,
   "metadata": {
    "execution": {
     "iopub.execute_input": "2021-01-15T01:39:30.407183Z",
     "iopub.status.busy": "2021-01-15T01:39:30.406248Z",
     "iopub.status.idle": "2021-01-15T01:39:30.436296Z",
     "shell.execute_reply": "2021-01-15T01:39:30.437393Z"
    },
    "papermill": {
     "duration": 0.054266,
     "end_time": "2021-01-15T01:39:30.437572",
     "exception": false,
     "start_time": "2021-01-15T01:39:30.383306",
     "status": "completed"
    },
    "tags": []
   },
   "outputs": [],
   "source": [
    "size = (224,224)\n",
    "mean = [0.485, 0.456, 0.406]\n",
    "std=[0.229, 0.224, 0.225]\n",
    "BATCH_SIZE = 10\n",
    "\n",
    "transform = ImageTransform(size,mean,std)\n",
    "test_data = CassavaDataset(test_dict,transform=transform,phase=\"test\")\n",
    "test_data = DataLoader(test_data,batch_size=BATCH_SIZE)"
   ]
  },
  {
   "cell_type": "code",
   "execution_count": 5,
   "metadata": {
    "execution": {
     "iopub.execute_input": "2021-01-15T01:39:30.470407Z",
     "iopub.status.busy": "2021-01-15T01:39:30.469552Z",
     "iopub.status.idle": "2021-01-15T01:39:38.513122Z",
     "shell.execute_reply": "2021-01-15T01:39:38.513746Z"
    },
    "papermill": {
     "duration": 8.066937,
     "end_time": "2021-01-15T01:39:38.513895",
     "exception": false,
     "start_time": "2021-01-15T01:39:30.446958",
     "status": "completed"
    },
    "tags": []
   },
   "outputs": [
    {
     "data": {
      "text/plain": [
       "<All keys matched successfully>"
      ]
     },
     "execution_count": 5,
     "metadata": {},
     "output_type": "execute_result"
    }
   ],
   "source": [
    "PATH = \"../../input/cassava-models/ResNet50_cassava_EqualizedLabel_finetuned_10Epoch.mdl\"\n",
    "\n",
    "import torchvision.models as models\n",
    "from torch import nn\n",
    "\n",
    "model = models.resnet50(pretrained=False)\n",
    "model.fc = nn.Linear(in_features=2048, out_features=5, bias=True)\n",
    "model.load_state_dict(torch.load(PATH))\n",
    "\n",
    "#model"
   ]
  },
  {
   "cell_type": "code",
   "execution_count": 6,
   "metadata": {
    "execution": {
     "iopub.execute_input": "2021-01-15T01:39:38.537532Z",
     "iopub.status.busy": "2021-01-15T01:39:38.536622Z",
     "iopub.status.idle": "2021-01-15T01:39:39.638870Z",
     "shell.execute_reply": "2021-01-15T01:39:39.639407Z"
    },
    "papermill": {
     "duration": 1.117845,
     "end_time": "2021-01-15T01:39:39.639640",
     "exception": false,
     "start_time": "2021-01-15T01:39:38.521795",
     "status": "completed"
    },
    "tags": []
   },
   "outputs": [
    {
     "name": "stderr",
     "output_type": "stream",
     "text": [
      "  0%|                                                                                         | 0/2140 [00:00<?, ?it/s]"
     ]
    },
    {
     "name": "stdout",
     "output_type": "stream",
     "text": [
      "tensor([0, 4, 4, 4, 4], device='cuda:0')\n",
      "tensor([4, 4, 4, 0, 4], device='cuda:0')\n",
      "tensor([4, 0, 4, 4, 4], device='cuda:0')\n",
      "tensor([0, 4, 4, 4, 0], device='cuda:0')\n",
      "tensor([4, 4, 4, 4, 4], device='cuda:0')\n",
      "tensor([4, 4, 4, 4, 4], device='cuda:0')\n",
      "tensor([4, 4, 4, 4, 4], device='cuda:0')\n",
      "tensor([0, 0, 0, 4, 0], device='cuda:0')\n",
      "tensor([0, 4, 0, 0, 0], device='cuda:0')\n",
      "tensor([4, 4, 4, 4, 4], device='cuda:0')\n"
     ]
    },
    {
     "name": "stderr",
     "output_type": "stream",
     "text": [
      "  0%|                                                                                 | 1/2140 [00:01<52:23,  1.47s/it]"
     ]
    },
    {
     "name": "stdout",
     "output_type": "stream",
     "text": [
      "tensor([4, 1, 4, 4, 1], device='cuda:0')\n",
      "tensor([0, 1, 0, 0, 0], device='cuda:0')\n",
      "tensor([1, 1, 4, 4, 1], device='cuda:0')\n",
      "tensor([4, 4, 4, 4, 4], device='cuda:0')\n",
      "tensor([4, 4, 4, 4, 4], device='cuda:0')\n",
      "tensor([4, 4, 4, 4, 4], device='cuda:0')\n",
      "tensor([0, 4, 4, 1, 0], device='cuda:0')\n",
      "tensor([4, 0, 0, 0, 4], device='cuda:0')\n",
      "tensor([4, 4, 4, 4, 4], device='cuda:0')\n",
      "tensor([4, 0, 1, 4, 4], device='cuda:0')\n"
     ]
    },
    {
     "name": "stderr",
     "output_type": "stream",
     "text": [
      "  0%|                                                                                 | 2/2140 [00:01<39:31,  1.11s/it]"
     ]
    },
    {
     "name": "stdout",
     "output_type": "stream",
     "text": [
      "tensor([4, 0, 4, 0, 0], device='cuda:0')\n",
      "tensor([0, 4, 4, 0, 0], device='cuda:0')\n",
      "tensor([1, 1, 1, 1, 1], device='cuda:0')\n",
      "tensor([1, 0, 1, 0, 1], device='cuda:0')\n",
      "tensor([4, 4, 4, 4, 4], device='cuda:0')\n",
      "tensor([0, 4, 0, 4, 4], device='cuda:0')\n",
      "tensor([0, 0, 4, 4, 0], device='cuda:0')\n",
      "tensor([4, 4, 4, 4, 4], device='cuda:0')\n",
      "tensor([4, 4, 4, 4, 4], device='cuda:0')\n",
      "tensor([4, 4, 4, 4, 1], device='cuda:0')\n"
     ]
    },
    {
     "name": "stderr",
     "output_type": "stream",
     "text": [
      "  0%|                                                                                 | 3/2140 [00:02<30:28,  1.17it/s]"
     ]
    },
    {
     "name": "stdout",
     "output_type": "stream",
     "text": [
      "tensor([4, 4, 4, 1, 4], device='cuda:0')\n",
      "tensor([1, 4, 4, 1, 4], device='cuda:0')\n",
      "tensor([4, 4, 0, 0, 4], device='cuda:0')\n",
      "tensor([4, 4, 4, 4, 4], device='cuda:0')\n",
      "tensor([4, 4, 0, 4, 4], device='cuda:0')\n",
      "tensor([4, 4, 4, 4, 4], device='cuda:0')\n",
      "tensor([4, 4, 4, 4, 4], device='cuda:0')\n",
      "tensor([4, 4, 4, 4, 4], device='cuda:0')\n",
      "tensor([4, 4, 4, 4, 4], device='cuda:0')\n",
      "tensor([4, 0, 4, 0, 4], device='cuda:0')\n"
     ]
    },
    {
     "name": "stderr",
     "output_type": "stream",
     "text": [
      "  0%|▏                                                                                | 4/2140 [00:02<24:07,  1.48it/s]"
     ]
    },
    {
     "name": "stdout",
     "output_type": "stream",
     "text": [
      "tensor([1, 0, 1, 4, 4], device='cuda:0')\n",
      "tensor([4, 4, 4, 4, 4], device='cuda:0')\n",
      "tensor([1, 4, 0, 1, 4], device='cuda:0')\n",
      "tensor([4, 4, 4, 4, 0], device='cuda:0')\n",
      "tensor([4, 4, 4, 4, 4], device='cuda:0')\n",
      "tensor([0, 4, 4, 0, 1], device='cuda:0')\n",
      "tensor([4, 4, 4, 4, 4], device='cuda:0')\n",
      "tensor([4, 4, 4, 4, 4], device='cuda:0')\n",
      "tensor([0, 4, 0, 4, 4], device='cuda:0')\n",
      "tensor([4, 4, 4, 0, 1], device='cuda:0')\n"
     ]
    },
    {
     "name": "stderr",
     "output_type": "stream",
     "text": [
      "  0%|▏                                                                                | 5/2140 [00:02<19:40,  1.81it/s]"
     ]
    },
    {
     "name": "stdout",
     "output_type": "stream",
     "text": [
      "tensor([4, 4, 4, 4, 0], device='cuda:0')\n",
      "tensor([1, 0, 1, 1, 0], device='cuda:0')\n",
      "tensor([4, 0, 4, 4, 4], device='cuda:0')\n",
      "tensor([4, 4, 1, 4, 4], device='cuda:0')\n",
      "tensor([4, 4, 4, 4, 4], device='cuda:0')\n",
      "tensor([1, 1, 1, 1, 1], device='cuda:0')\n",
      "tensor([0, 4, 4, 4, 0], device='cuda:0')\n",
      "tensor([4, 4, 0, 4, 4], device='cuda:0')\n",
      "tensor([4, 4, 1, 4, 4], device='cuda:0')\n",
      "tensor([4, 1, 1, 4, 4], device='cuda:0')\n"
     ]
    },
    {
     "name": "stderr",
     "output_type": "stream",
     "text": [
      "  0%|▏                                                                                | 6/2140 [00:02<16:35,  2.14it/s]"
     ]
    },
    {
     "name": "stdout",
     "output_type": "stream",
     "text": [
      "tensor([4, 4, 4, 4, 4], device='cuda:0')\n",
      "tensor([4, 1, 1, 4, 4], device='cuda:0')\n",
      "tensor([0, 4, 4, 4, 4], device='cuda:0')\n",
      "tensor([4, 4, 4, 1, 4], device='cuda:0')\n",
      "tensor([4, 4, 4, 4, 4], device='cuda:0')\n",
      "tensor([4, 1, 4, 4, 4], device='cuda:0')\n",
      "tensor([4, 4, 4, 4, 4], device='cuda:0')\n",
      "tensor([1, 4, 4, 4, 4], device='cuda:0')\n",
      "tensor([4, 0, 4, 4, 4], device='cuda:0')\n",
      "tensor([4, 4, 4, 4, 4], device='cuda:0')\n"
     ]
    },
    {
     "name": "stderr",
     "output_type": "stream",
     "text": [
      "  0%|▎                                                                                | 7/2140 [00:03<14:23,  2.47it/s]"
     ]
    },
    {
     "name": "stdout",
     "output_type": "stream",
     "text": [
      "tensor([1, 1, 0, 4, 4], device='cuda:0')\n",
      "tensor([4, 4, 4, 4, 4], device='cuda:0')\n",
      "tensor([0, 0, 0, 0, 1], device='cuda:0')\n",
      "tensor([0, 0, 0, 0, 0], device='cuda:0')\n",
      "tensor([4, 4, 4, 4, 4], device='cuda:0')\n",
      "tensor([4, 4, 4, 4, 4], device='cuda:0')\n",
      "tensor([4, 4, 0, 0, 4], device='cuda:0')\n",
      "tensor([4, 4, 4, 4, 4], device='cuda:0')\n",
      "tensor([4, 1, 4, 4, 4], device='cuda:0')\n",
      "tensor([0, 1, 1, 4, 4], device='cuda:0')\n"
     ]
    },
    {
     "name": "stderr",
     "output_type": "stream",
     "text": [
      "  0%|▎                                                                                | 8/2140 [00:03<12:50,  2.77it/s]"
     ]
    },
    {
     "name": "stdout",
     "output_type": "stream",
     "text": [
      "tensor([4, 4, 4, 4, 4], device='cuda:0')\n",
      "tensor([0, 1, 1, 0, 0], device='cuda:0')\n",
      "tensor([0, 4, 4, 0, 0], device='cuda:0')\n",
      "tensor([0, 4, 4, 0, 4], device='cuda:0')\n",
      "tensor([0, 1, 0, 1, 0], device='cuda:0')\n",
      "tensor([0, 0, 4, 4, 0], device='cuda:0')\n",
      "tensor([1, 0, 0, 1, 0], device='cuda:0')\n",
      "tensor([0, 0, 0, 1, 1], device='cuda:0')\n",
      "tensor([4, 4, 4, 4, 4], device='cuda:0')\n",
      "tensor([4, 4, 4, 4, 4], device='cuda:0')\n"
     ]
    },
    {
     "name": "stderr",
     "output_type": "stream",
     "text": [
      "  0%|▎                                                                                | 9/2140 [00:03<11:46,  3.01it/s]"
     ]
    },
    {
     "name": "stdout",
     "output_type": "stream",
     "text": [
      "tensor([4, 4, 4, 4, 0], device='cuda:0')\n",
      "tensor([4, 4, 4, 4, 4], device='cuda:0')\n",
      "tensor([4, 4, 4, 4, 4], device='cuda:0')\n",
      "tensor([1, 0, 4, 1, 0], device='cuda:0')\n",
      "tensor([1, 1, 1, 0, 0], device='cuda:0')\n",
      "tensor([4, 4, 0, 4, 4], device='cuda:0')\n",
      "tensor([4, 4, 4, 4, 4], device='cuda:0')\n",
      "tensor([4, 4, 4, 4, 1], device='cuda:0')\n",
      "tensor([0, 4, 4, 0, 4], device='cuda:0')\n",
      "tensor([4, 4, 4, 4, 4], device='cuda:0')\n"
     ]
    },
    {
     "name": "stderr",
     "output_type": "stream",
     "text": [
      "  0%|▎                                                                               | 10/2140 [00:03<11:01,  3.22it/s]"
     ]
    },
    {
     "name": "stdout",
     "output_type": "stream",
     "text": [
      "tensor([4, 4, 4, 4, 4], device='cuda:0')\n",
      "tensor([4, 4, 4, 0, 4], device='cuda:0')\n",
      "tensor([4, 4, 4, 4, 4], device='cuda:0')\n",
      "tensor([0, 0, 0, 4, 0], device='cuda:0')\n",
      "tensor([0, 4, 4, 4, 4], device='cuda:0')\n",
      "tensor([4, 4, 4, 4, 4], device='cuda:0')\n",
      "tensor([4, 4, 4, 4, 4], device='cuda:0')\n",
      "tensor([4, 4, 4, 4, 4], device='cuda:0')\n",
      "tensor([4, 4, 4, 4, 4], device='cuda:0')\n",
      "tensor([0, 4, 0, 0, 0], device='cuda:0')\n"
     ]
    },
    {
     "name": "stderr",
     "output_type": "stream",
     "text": [
      "  1%|▍                                                                               | 11/2140 [00:04<10:30,  3.38it/s]"
     ]
    },
    {
     "name": "stdout",
     "output_type": "stream",
     "text": [
      "tensor([4, 4, 4, 4, 4], device='cuda:0')\n",
      "tensor([4, 4, 0, 4, 4], device='cuda:0')\n",
      "tensor([4, 4, 4, 4, 4], device='cuda:0')\n",
      "tensor([4, 4, 4, 4, 0], device='cuda:0')\n",
      "tensor([4, 4, 4, 4, 4], device='cuda:0')\n",
      "tensor([4, 4, 4, 4, 4], device='cuda:0')\n",
      "tensor([4, 4, 4, 4, 4], device='cuda:0')\n",
      "tensor([0, 1, 4, 0, 1], device='cuda:0')\n",
      "tensor([4, 4, 4, 4, 4], device='cuda:0')\n",
      "tensor([4, 4, 4, 0, 0], device='cuda:0')\n"
     ]
    },
    {
     "name": "stderr",
     "output_type": "stream",
     "text": [
      "  1%|▍                                                                               | 12/2140 [00:04<10:14,  3.46it/s]"
     ]
    },
    {
     "name": "stdout",
     "output_type": "stream",
     "text": [
      "tensor([1, 1, 4, 0, 4], device='cuda:0')\n",
      "tensor([0, 0, 0, 0, 0], device='cuda:0')\n",
      "tensor([4, 4, 4, 4, 4], device='cuda:0')\n",
      "tensor([1, 4, 4, 0, 4], device='cuda:0')\n",
      "tensor([4, 4, 0, 4, 4], device='cuda:0')\n",
      "tensor([4, 4, 4, 4, 4], device='cuda:0')\n",
      "tensor([0, 0, 1, 0, 0], device='cuda:0')\n",
      "tensor([0, 4, 1, 4, 4], device='cuda:0')\n",
      "tensor([4, 4, 4, 4, 4], device='cuda:0')\n",
      "tensor([4, 0, 0, 4, 0], device='cuda:0')\n"
     ]
    },
    {
     "name": "stderr",
     "output_type": "stream",
     "text": [
      "  1%|▍                                                                               | 13/2140 [00:04<09:57,  3.56it/s]"
     ]
    },
    {
     "name": "stdout",
     "output_type": "stream",
     "text": [
      "tensor([0, 4, 4, 4, 0], device='cuda:0')\n",
      "tensor([4, 4, 4, 4, 3], device='cuda:0')\n",
      "tensor([0, 0, 0, 0, 0], device='cuda:0')\n",
      "tensor([4, 4, 4, 4, 4], device='cuda:0')\n",
      "tensor([4, 4, 4, 4, 4], device='cuda:0')\n",
      "tensor([0, 0, 0, 0, 4], device='cuda:0')\n",
      "tensor([4, 4, 4, 1, 4], device='cuda:0')\n",
      "tensor([4, 4, 4, 4, 4], device='cuda:0')\n",
      "tensor([4, 4, 4, 4, 4], device='cuda:0')\n",
      "tensor([4, 4, 4, 4, 4], device='cuda:0')\n"
     ]
    },
    {
     "name": "stderr",
     "output_type": "stream",
     "text": [
      "  1%|▌                                                                               | 14/2140 [00:04<09:44,  3.64it/s]"
     ]
    },
    {
     "name": "stdout",
     "output_type": "stream",
     "text": [
      "tensor([4, 4, 4, 4, 4], device='cuda:0')\n",
      "tensor([4, 4, 4, 4, 4], device='cuda:0')\n",
      "tensor([0, 4, 0, 0, 0], device='cuda:0')\n",
      "tensor([0, 1, 1, 1, 1], device='cuda:0')\n",
      "tensor([4, 4, 4, 4, 4], device='cuda:0')\n",
      "tensor([4, 4, 4, 0, 4], device='cuda:0')\n",
      "tensor([0, 4, 4, 1, 4], device='cuda:0')\n",
      "tensor([4, 4, 4, 4, 4], device='cuda:0')\n",
      "tensor([4, 4, 4, 0, 4], device='cuda:0')\n",
      "tensor([1, 4, 4, 4, 4], device='cuda:0')\n"
     ]
    },
    {
     "name": "stderr",
     "output_type": "stream",
     "text": [
      "  1%|▌                                                                               | 15/2140 [00:05<09:36,  3.69it/s]"
     ]
    },
    {
     "name": "stdout",
     "output_type": "stream",
     "text": [
      "tensor([4, 0, 4, 1, 0], device='cuda:0')\n",
      "tensor([4, 4, 4, 4, 4], device='cuda:0')\n",
      "tensor([4, 4, 4, 0, 0], device='cuda:0')\n",
      "tensor([4, 4, 1, 4, 4], device='cuda:0')\n",
      "tensor([4, 4, 4, 4, 4], device='cuda:0')\n",
      "tensor([4, 4, 4, 4, 4], device='cuda:0')\n",
      "tensor([4, 0, 4, 0, 0], device='cuda:0')\n",
      "tensor([4, 1, 4, 4, 4], device='cuda:0')\n",
      "tensor([0, 4, 4, 4, 4], device='cuda:0')\n",
      "tensor([4, 4, 4, 4, 4], device='cuda:0')\n"
     ]
    },
    {
     "name": "stderr",
     "output_type": "stream",
     "text": [
      "  1%|▌                                                                               | 16/2140 [00:05<09:30,  3.72it/s]"
     ]
    },
    {
     "name": "stdout",
     "output_type": "stream",
     "text": [
      "tensor([4, 4, 4, 4, 4], device='cuda:0')\n",
      "tensor([1, 4, 4, 0, 4], device='cuda:0')\n",
      "tensor([1, 4, 1, 4, 4], device='cuda:0')\n",
      "tensor([4, 4, 4, 4, 4], device='cuda:0')\n",
      "tensor([0, 4, 4, 0, 4], device='cuda:0')\n",
      "tensor([0, 4, 4, 4, 4], device='cuda:0')\n",
      "tensor([4, 0, 0, 0, 1], device='cuda:0')\n",
      "tensor([4, 4, 1, 1, 4], device='cuda:0')\n",
      "tensor([4, 4, 4, 1, 4], device='cuda:0')\n",
      "tensor([4, 0, 4, 4, 4], device='cuda:0')\n"
     ]
    },
    {
     "name": "stderr",
     "output_type": "stream",
     "text": [
      "  1%|▋                                                                               | 17/2140 [00:05<09:26,  3.75it/s]"
     ]
    },
    {
     "name": "stdout",
     "output_type": "stream",
     "text": [
      "tensor([4, 4, 4, 4, 4], device='cuda:0')\n",
      "tensor([4, 4, 4, 1, 0], device='cuda:0')\n",
      "tensor([4, 4, 4, 4, 4], device='cuda:0')\n",
      "tensor([0, 4, 0, 4, 0], device='cuda:0')\n",
      "tensor([4, 0, 4, 4, 4], device='cuda:0')\n",
      "tensor([4, 4, 4, 4, 0], device='cuda:0')\n",
      "tensor([4, 4, 4, 4, 4], device='cuda:0')\n",
      "tensor([4, 4, 4, 4, 4], device='cuda:0')\n",
      "tensor([1, 0, 4, 0, 0], device='cuda:0')\n",
      "tensor([1, 0, 1, 4, 1], device='cuda:0')\n"
     ]
    },
    {
     "name": "stderr",
     "output_type": "stream",
     "text": [
      "  1%|▋                                                                               | 18/2140 [00:05<09:20,  3.79it/s]"
     ]
    },
    {
     "name": "stdout",
     "output_type": "stream",
     "text": [
      "tensor([0, 4, 4, 0, 1], device='cuda:0')\n",
      "tensor([4, 4, 4, 4, 4], device='cuda:0')\n",
      "tensor([1, 4, 4, 1, 1], device='cuda:0')\n",
      "tensor([1, 4, 4, 4, 4], device='cuda:0')\n",
      "tensor([4, 0, 4, 4, 0], device='cuda:0')\n",
      "tensor([0, 4, 4, 0, 4], device='cuda:0')\n",
      "tensor([4, 4, 4, 4, 4], device='cuda:0')\n",
      "tensor([4, 4, 1, 4, 4], device='cuda:0')\n",
      "tensor([4, 4, 4, 4, 4], device='cuda:0')\n",
      "tensor([4, 4, 0, 4, 0], device='cuda:0')\n"
     ]
    },
    {
     "name": "stderr",
     "output_type": "stream",
     "text": [
      "  1%|▋                                                                               | 19/2140 [00:06<09:22,  3.77it/s]"
     ]
    },
    {
     "name": "stdout",
     "output_type": "stream",
     "text": [
      "tensor([4, 4, 3, 4, 4], device='cuda:0')\n",
      "tensor([4, 4, 4, 4, 4], device='cuda:0')\n",
      "tensor([1, 4, 4, 4, 1], device='cuda:0')\n",
      "tensor([1, 4, 4, 4, 1], device='cuda:0')\n",
      "tensor([0, 1, 4, 1, 4], device='cuda:0')\n",
      "tensor([4, 4, 4, 4, 4], device='cuda:0')\n",
      "tensor([1, 1, 4, 4, 4], device='cuda:0')\n",
      "tensor([4, 4, 4, 4, 4], device='cuda:0')\n",
      "tensor([0, 4, 0, 4, 4], device='cuda:0')\n",
      "tensor([4, 1, 1, 4, 0], device='cuda:0')\n"
     ]
    },
    {
     "name": "stderr",
     "output_type": "stream",
     "text": [
      "  1%|▋                                                                               | 20/2140 [00:06<09:21,  3.77it/s]"
     ]
    },
    {
     "name": "stdout",
     "output_type": "stream",
     "text": [
      "tensor([0, 4, 1, 0, 4], device='cuda:0')\n",
      "tensor([4, 4, 4, 4, 4], device='cuda:0')\n",
      "tensor([4, 4, 0, 4, 4], device='cuda:0')\n",
      "tensor([4, 4, 4, 4, 4], device='cuda:0')\n",
      "tensor([4, 4, 4, 4, 4], device='cuda:0')\n",
      "tensor([4, 4, 4, 4, 4], device='cuda:0')\n",
      "tensor([4, 4, 4, 4, 4], device='cuda:0')\n",
      "tensor([4, 4, 4, 4, 4], device='cuda:0')\n",
      "tensor([4, 4, 4, 4, 4], device='cuda:0')\n",
      "tensor([4, 0, 1, 1, 4], device='cuda:0')\n"
     ]
    },
    {
     "name": "stderr",
     "output_type": "stream",
     "text": [
      "  1%|▊                                                                               | 21/2140 [00:06<09:19,  3.79it/s]"
     ]
    },
    {
     "name": "stdout",
     "output_type": "stream",
     "text": [
      "tensor([4, 4, 4, 4, 4], device='cuda:0')\n",
      "tensor([0, 4, 0, 0, 4], device='cuda:0')\n",
      "tensor([4, 4, 4, 4, 4], device='cuda:0')\n",
      "tensor([0, 4, 0, 0, 0], device='cuda:0')\n",
      "tensor([4, 4, 0, 4, 4], device='cuda:0')\n",
      "tensor([1, 4, 4, 0, 1], device='cuda:0')\n",
      "tensor([0, 0, 0, 4, 0], device='cuda:0')\n",
      "tensor([4, 4, 4, 1, 4], device='cuda:0')\n",
      "tensor([0, 4, 4, 4, 4], device='cuda:0')\n",
      "tensor([4, 4, 4, 4, 4], device='cuda:0')\n"
     ]
    },
    {
     "name": "stderr",
     "output_type": "stream",
     "text": [
      "  1%|▊                                                                               | 22/2140 [00:06<09:15,  3.82it/s]"
     ]
    },
    {
     "name": "stdout",
     "output_type": "stream",
     "text": [
      "tensor([0, 4, 4, 0, 0], device='cuda:0')\n",
      "tensor([4, 4, 0, 4, 4], device='cuda:0')\n",
      "tensor([4, 4, 4, 4, 4], device='cuda:0')\n",
      "tensor([4, 4, 4, 4, 4], device='cuda:0')\n",
      "tensor([4, 4, 4, 4, 4], device='cuda:0')\n",
      "tensor([0, 0, 0, 0, 4], device='cuda:0')\n",
      "tensor([4, 4, 4, 4, 4], device='cuda:0')\n",
      "tensor([1, 4, 1, 0, 4], device='cuda:0')\n",
      "tensor([4, 4, 4, 4, 4], device='cuda:0')\n",
      "tensor([4, 4, 4, 4, 4], device='cuda:0')\n"
     ]
    },
    {
     "name": "stderr",
     "output_type": "stream",
     "text": [
      "  1%|▊                                                                               | 23/2140 [00:07<09:17,  3.80it/s]"
     ]
    },
    {
     "name": "stdout",
     "output_type": "stream",
     "text": [
      "tensor([4, 0, 4, 4, 0], device='cuda:0')\n",
      "tensor([4, 4, 4, 1, 4], device='cuda:0')\n",
      "tensor([4, 4, 4, 4, 4], device='cuda:0')\n",
      "tensor([4, 4, 4, 4, 4], device='cuda:0')\n",
      "tensor([4, 0, 4, 4, 0], device='cuda:0')\n",
      "tensor([0, 4, 0, 0, 0], device='cuda:0')\n",
      "tensor([4, 4, 0, 4, 4], device='cuda:0')\n",
      "tensor([4, 4, 4, 4, 4], device='cuda:0')\n",
      "tensor([4, 4, 1, 4, 4], device='cuda:0')\n",
      "tensor([4, 4, 4, 4, 4], device='cuda:0')\n"
     ]
    },
    {
     "name": "stderr",
     "output_type": "stream",
     "text": [
      "  1%|▉                                                                               | 24/2140 [00:07<09:15,  3.81it/s]"
     ]
    },
    {
     "name": "stdout",
     "output_type": "stream",
     "text": [
      "tensor([1, 4, 4, 4, 4], device='cuda:0')\n",
      "tensor([4, 4, 4, 4, 4], device='cuda:0')\n",
      "tensor([4, 4, 4, 4, 4], device='cuda:0')\n",
      "tensor([4, 4, 4, 4, 4], device='cuda:0')\n",
      "tensor([0, 4, 4, 4, 4], device='cuda:0')\n",
      "tensor([4, 4, 4, 4, 4], device='cuda:0')\n",
      "tensor([4, 4, 4, 4, 4], device='cuda:0')\n",
      "tensor([4, 4, 4, 4, 4], device='cuda:0')\n",
      "tensor([4, 4, 4, 4, 4], device='cuda:0')\n",
      "tensor([4, 4, 4, 4, 4], device='cuda:0')\n"
     ]
    },
    {
     "name": "stderr",
     "output_type": "stream",
     "text": [
      "  1%|▉                                                                               | 25/2140 [00:07<09:15,  3.81it/s]"
     ]
    },
    {
     "name": "stdout",
     "output_type": "stream",
     "text": [
      "tensor([0, 4, 4, 4, 4], device='cuda:0')\n",
      "tensor([4, 4, 4, 4, 4], device='cuda:0')\n",
      "tensor([4, 4, 1, 1, 1], device='cuda:0')\n",
      "tensor([0, 4, 4, 4, 4], device='cuda:0')\n",
      "tensor([4, 4, 4, 4, 4], device='cuda:0')\n",
      "tensor([4, 4, 4, 4, 4], device='cuda:0')\n",
      "tensor([4, 4, 4, 4, 4], device='cuda:0')\n",
      "tensor([4, 4, 4, 4, 4], device='cuda:0')\n",
      "tensor([4, 4, 1, 1, 4], device='cuda:0')\n",
      "tensor([4, 4, 4, 4, 4], device='cuda:0')\n"
     ]
    },
    {
     "name": "stderr",
     "output_type": "stream",
     "text": [
      "  1%|▉                                                                               | 26/2140 [00:08<09:13,  3.82it/s]"
     ]
    },
    {
     "name": "stdout",
     "output_type": "stream",
     "text": [
      "tensor([4, 4, 1, 4, 4], device='cuda:0')\n",
      "tensor([4, 4, 4, 4, 4], device='cuda:0')\n",
      "tensor([4, 4, 0, 4, 0], device='cuda:0')\n",
      "tensor([0, 0, 0, 0, 0], device='cuda:0')\n",
      "tensor([0, 4, 4, 0, 1], device='cuda:0')\n",
      "tensor([4, 0, 1, 4, 0], device='cuda:0')\n",
      "tensor([4, 4, 4, 4, 4], device='cuda:0')\n",
      "tensor([4, 1, 1, 0, 4], device='cuda:0')\n",
      "tensor([4, 4, 4, 4, 4], device='cuda:0')\n",
      "tensor([4, 4, 4, 0, 0], device='cuda:0')\n"
     ]
    },
    {
     "name": "stderr",
     "output_type": "stream",
     "text": [
      "  1%|█                                                                               | 27/2140 [00:08<09:13,  3.82it/s]"
     ]
    },
    {
     "name": "stdout",
     "output_type": "stream",
     "text": [
      "tensor([4, 4, 4, 4, 4], device='cuda:0')\n",
      "tensor([4, 1, 4, 4, 4], device='cuda:0')\n",
      "tensor([4, 0, 4, 4, 0], device='cuda:0')\n",
      "tensor([1, 4, 1, 4, 4], device='cuda:0')\n",
      "tensor([1, 4, 0, 1, 0], device='cuda:0')\n",
      "tensor([4, 4, 4, 1, 4], device='cuda:0')\n",
      "tensor([0, 0, 0, 4, 0], device='cuda:0')\n",
      "tensor([4, 4, 4, 4, 4], device='cuda:0')\n",
      "tensor([1, 4, 0, 1, 0], device='cuda:0')\n",
      "tensor([4, 0, 4, 0, 4], device='cuda:0')\n"
     ]
    },
    {
     "name": "stderr",
     "output_type": "stream",
     "text": [
      "  1%|█                                                                               | 28/2140 [00:08<09:12,  3.82it/s]"
     ]
    },
    {
     "name": "stdout",
     "output_type": "stream",
     "text": [
      "tensor([4, 0, 1, 4, 0], device='cuda:0')\n",
      "tensor([4, 4, 1, 4, 4], device='cuda:0')\n",
      "tensor([4, 4, 0, 4, 4], device='cuda:0')\n",
      "tensor([4, 4, 4, 4, 4], device='cuda:0')\n",
      "tensor([0, 4, 4, 4, 4], device='cuda:0')\n",
      "tensor([4, 1, 4, 4, 4], device='cuda:0')\n",
      "tensor([4, 4, 4, 4, 4], device='cuda:0')\n",
      "tensor([0, 0, 0, 0, 0], device='cuda:0')\n",
      "tensor([4, 4, 0, 0, 4], device='cuda:0')\n",
      "tensor([4, 0, 0, 3, 0], device='cuda:0')\n"
     ]
    },
    {
     "name": "stderr",
     "output_type": "stream",
     "text": [
      "  1%|█                                                                               | 29/2140 [00:08<09:13,  3.81it/s]"
     ]
    },
    {
     "name": "stdout",
     "output_type": "stream",
     "text": [
      "tensor([4, 4, 4, 4, 4], device='cuda:0')\n",
      "tensor([4, 0, 4, 4, 0], device='cuda:0')\n",
      "tensor([0, 0, 4, 1, 1], device='cuda:0')\n",
      "tensor([4, 4, 4, 4, 0], device='cuda:0')\n",
      "tensor([4, 4, 4, 4, 4], device='cuda:0')\n",
      "tensor([0, 4, 4, 4, 0], device='cuda:0')\n",
      "tensor([4, 4, 4, 4, 4], device='cuda:0')\n",
      "tensor([4, 4, 0, 0, 4], device='cuda:0')\n",
      "tensor([0, 1, 4, 4, 0], device='cuda:0')\n",
      "tensor([1, 4, 4, 4, 1], device='cuda:0')\n"
     ]
    },
    {
     "name": "stderr",
     "output_type": "stream",
     "text": [
      "  1%|█                                                                               | 30/2140 [00:09<09:12,  3.82it/s]"
     ]
    },
    {
     "name": "stdout",
     "output_type": "stream",
     "text": [
      "tensor([4, 4, 4, 4, 4], device='cuda:0')\n",
      "tensor([4, 4, 4, 4, 4], device='cuda:0')\n",
      "tensor([4, 4, 4, 4, 4], device='cuda:0')\n",
      "tensor([0, 0, 4, 4, 4], device='cuda:0')\n",
      "tensor([4, 1, 4, 1, 1], device='cuda:0')\n",
      "tensor([0, 1, 4, 4, 4], device='cuda:0')\n",
      "tensor([0, 4, 0, 4, 0], device='cuda:0')\n",
      "tensor([4, 4, 0, 4, 0], device='cuda:0')\n",
      "tensor([4, 4, 4, 4, 4], device='cuda:0')\n",
      "tensor([4, 4, 4, 4, 4], device='cuda:0')\n"
     ]
    },
    {
     "name": "stderr",
     "output_type": "stream",
     "text": [
      "  1%|█▏                                                                              | 31/2140 [00:09<09:12,  3.81it/s]"
     ]
    },
    {
     "name": "stdout",
     "output_type": "stream",
     "text": [
      "tensor([4, 4, 4, 4, 4], device='cuda:0')\n",
      "tensor([3, 4, 0, 0, 3], device='cuda:0')\n",
      "tensor([4, 4, 4, 1, 4], device='cuda:0')\n",
      "tensor([4, 4, 4, 4, 4], device='cuda:0')\n",
      "tensor([4, 4, 4, 4, 4], device='cuda:0')\n",
      "tensor([4, 4, 4, 0, 4], device='cuda:0')\n",
      "tensor([4, 4, 4, 4, 4], device='cuda:0')\n",
      "tensor([4, 4, 4, 0, 4], device='cuda:0')\n",
      "tensor([0, 4, 0, 0, 0], device='cuda:0')\n",
      "tensor([4, 4, 0, 4, 4], device='cuda:0')\n"
     ]
    },
    {
     "name": "stderr",
     "output_type": "stream",
     "text": [
      "  1%|█▏                                                                              | 32/2140 [00:09<09:11,  3.82it/s]"
     ]
    },
    {
     "name": "stdout",
     "output_type": "stream",
     "text": [
      "tensor([4, 4, 4, 4, 4], device='cuda:0')\n",
      "tensor([1, 1, 1, 1, 1], device='cuda:0')\n",
      "tensor([4, 4, 4, 1, 4], device='cuda:0')\n",
      "tensor([1, 4, 4, 4, 4], device='cuda:0')\n",
      "tensor([0, 0, 1, 1, 1], device='cuda:0')\n",
      "tensor([4, 4, 4, 4, 4], device='cuda:0')\n",
      "tensor([4, 4, 1, 4, 4], device='cuda:0')\n",
      "tensor([4, 4, 4, 0, 4], device='cuda:0')\n",
      "tensor([4, 4, 0, 4, 4], device='cuda:0')\n",
      "tensor([1, 1, 4, 1, 1], device='cuda:0')\n"
     ]
    },
    {
     "name": "stderr",
     "output_type": "stream",
     "text": [
      "  2%|█▏                                                                              | 33/2140 [00:09<09:12,  3.82it/s]"
     ]
    },
    {
     "name": "stdout",
     "output_type": "stream",
     "text": [
      "tensor([1, 4, 4, 4, 1], device='cuda:0')\n",
      "tensor([4, 0, 4, 4, 0], device='cuda:0')\n",
      "tensor([1, 1, 4, 4, 1], device='cuda:0')\n",
      "tensor([4, 1, 4, 1, 0], device='cuda:0')\n",
      "tensor([0, 0, 0, 0, 0], device='cuda:0')\n",
      "tensor([4, 4, 4, 4, 4], device='cuda:0')\n",
      "tensor([4, 0, 4, 4, 4], device='cuda:0')\n",
      "tensor([0, 0, 1, 4, 0], device='cuda:0')\n",
      "tensor([0, 4, 0, 0, 4], device='cuda:0')\n",
      "tensor([4, 1, 4, 4, 4], device='cuda:0')\n"
     ]
    },
    {
     "name": "stderr",
     "output_type": "stream",
     "text": [
      "  2%|█▎                                                                              | 34/2140 [00:10<09:09,  3.83it/s]"
     ]
    },
    {
     "name": "stdout",
     "output_type": "stream",
     "text": [
      "tensor([0, 4, 0, 4, 1], device='cuda:0')\n",
      "tensor([1, 4, 4, 0, 4], device='cuda:0')\n",
      "tensor([1, 4, 0, 1, 1], device='cuda:0')\n",
      "tensor([4, 4, 4, 4, 0], device='cuda:0')\n",
      "tensor([4, 4, 4, 4, 4], device='cuda:0')\n",
      "tensor([4, 4, 4, 0, 4], device='cuda:0')\n",
      "tensor([4, 4, 4, 4, 4], device='cuda:0')\n",
      "tensor([4, 0, 4, 0, 4], device='cuda:0')\n",
      "tensor([0, 1, 0, 0, 0], device='cuda:0')\n",
      "tensor([0, 4, 4, 4, 0], device='cuda:0')\n"
     ]
    },
    {
     "name": "stderr",
     "output_type": "stream",
     "text": [
      "  2%|█▎                                                                              | 35/2140 [00:10<09:11,  3.82it/s]"
     ]
    },
    {
     "name": "stdout",
     "output_type": "stream",
     "text": [
      "tensor([0, 4, 1, 0, 0], device='cuda:0')\n",
      "tensor([4, 4, 0, 4, 4], device='cuda:0')\n",
      "tensor([4, 4, 4, 4, 4], device='cuda:0')\n",
      "tensor([4, 4, 4, 4, 4], device='cuda:0')\n",
      "tensor([0, 4, 4, 4, 0], device='cuda:0')\n",
      "tensor([4, 4, 4, 4, 4], device='cuda:0')\n",
      "tensor([4, 4, 4, 4, 4], device='cuda:0')\n",
      "tensor([1, 1, 0, 0, 0], device='cuda:0')\n",
      "tensor([0, 0, 4, 0, 0], device='cuda:0')\n",
      "tensor([4, 4, 1, 4, 4], device='cuda:0')\n"
     ]
    },
    {
     "name": "stderr",
     "output_type": "stream",
     "text": [
      "  2%|█▎                                                                              | 36/2140 [00:10<09:11,  3.82it/s]"
     ]
    },
    {
     "name": "stdout",
     "output_type": "stream",
     "text": [
      "tensor([4, 4, 4, 4, 4], device='cuda:0')\n",
      "tensor([4, 4, 4, 0, 4], device='cuda:0')\n",
      "tensor([4, 0, 0, 4, 0], device='cuda:0')\n",
      "tensor([1, 0, 1, 1, 1], device='cuda:0')\n",
      "tensor([1, 4, 4, 1, 0], device='cuda:0')\n",
      "tensor([4, 4, 4, 4, 4], device='cuda:0')\n",
      "tensor([0, 4, 0, 4, 0], device='cuda:0')\n",
      "tensor([4, 4, 4, 4, 4], device='cuda:0')\n",
      "tensor([0, 4, 4, 4, 1], device='cuda:0')\n",
      "tensor([1, 4, 1, 0, 1], device='cuda:0')\n"
     ]
    },
    {
     "name": "stderr",
     "output_type": "stream",
     "text": [
      "  2%|█▍                                                                              | 37/2140 [00:10<09:14,  3.79it/s]"
     ]
    },
    {
     "name": "stdout",
     "output_type": "stream",
     "text": [
      "tensor([0, 3, 4, 0, 4], device='cuda:0')\n",
      "tensor([4, 4, 4, 4, 4], device='cuda:0')\n",
      "tensor([0, 0, 1, 0, 1], device='cuda:0')\n",
      "tensor([0, 1, 1, 0, 0], device='cuda:0')\n",
      "tensor([1, 4, 4, 4, 0], device='cuda:0')\n",
      "tensor([4, 4, 4, 4, 4], device='cuda:0')\n",
      "tensor([4, 4, 4, 4, 4], device='cuda:0')\n",
      "tensor([4, 1, 1, 1, 4], device='cuda:0')\n",
      "tensor([1, 4, 1, 1, 4], device='cuda:0')\n",
      "tensor([4, 4, 4, 4, 4], device='cuda:0')\n"
     ]
    },
    {
     "name": "stderr",
     "output_type": "stream",
     "text": [
      "  2%|█▍                                                                              | 38/2140 [00:11<09:15,  3.78it/s]"
     ]
    },
    {
     "name": "stdout",
     "output_type": "stream",
     "text": [
      "tensor([0, 4, 1, 0, 1], device='cuda:0')\n",
      "tensor([4, 0, 4, 0, 4], device='cuda:0')\n",
      "tensor([4, 4, 4, 4, 4], device='cuda:0')\n",
      "tensor([1, 4, 0, 4, 4], device='cuda:0')\n",
      "tensor([0, 4, 4, 4, 4], device='cuda:0')\n",
      "tensor([4, 4, 4, 4, 4], device='cuda:0')\n",
      "tensor([4, 4, 4, 4, 4], device='cuda:0')\n",
      "tensor([0, 1, 0, 0, 1], device='cuda:0')\n",
      "tensor([4, 4, 4, 4, 4], device='cuda:0')\n",
      "tensor([0, 4, 4, 0, 4], device='cuda:0')\n"
     ]
    },
    {
     "name": "stderr",
     "output_type": "stream",
     "text": [
      "  2%|█▍                                                                              | 39/2140 [00:11<09:16,  3.78it/s]"
     ]
    },
    {
     "name": "stdout",
     "output_type": "stream",
     "text": [
      "tensor([4, 4, 1, 1, 4], device='cuda:0')\n",
      "tensor([0, 4, 4, 4, 4], device='cuda:0')\n",
      "tensor([4, 4, 4, 4, 4], device='cuda:0')\n",
      "tensor([4, 4, 4, 4, 4], device='cuda:0')\n",
      "tensor([0, 4, 4, 0, 1], device='cuda:0')\n",
      "tensor([4, 4, 4, 4, 4], device='cuda:0')\n",
      "tensor([4, 4, 1, 4, 4], device='cuda:0')\n",
      "tensor([4, 4, 4, 4, 4], device='cuda:0')\n",
      "tensor([4, 4, 1, 0, 1], device='cuda:0')\n",
      "tensor([0, 4, 1, 1, 0], device='cuda:0')\n"
     ]
    },
    {
     "name": "stderr",
     "output_type": "stream",
     "text": [
      "  2%|█▍                                                                              | 40/2140 [00:11<09:15,  3.78it/s]"
     ]
    },
    {
     "name": "stdout",
     "output_type": "stream",
     "text": [
      "tensor([4, 4, 4, 4, 4], device='cuda:0')\n",
      "tensor([0, 4, 0, 4, 0], device='cuda:0')\n",
      "tensor([4, 4, 4, 4, 4], device='cuda:0')\n",
      "tensor([4, 4, 4, 4, 4], device='cuda:0')\n",
      "tensor([4, 0, 1, 0, 4], device='cuda:0')\n",
      "tensor([0, 4, 4, 4, 4], device='cuda:0')\n",
      "tensor([4, 4, 4, 4, 4], device='cuda:0')\n",
      "tensor([0, 0, 0, 1, 1], device='cuda:0')\n",
      "tensor([4, 4, 4, 4, 4], device='cuda:0')\n",
      "tensor([4, 4, 0, 4, 0], device='cuda:0')\n"
     ]
    },
    {
     "name": "stderr",
     "output_type": "stream",
     "text": [
      "  2%|█▌                                                                              | 41/2140 [00:11<09:13,  3.79it/s]"
     ]
    },
    {
     "name": "stdout",
     "output_type": "stream",
     "text": [
      "tensor([4, 4, 4, 4, 1], device='cuda:0')\n",
      "tensor([1, 0, 1, 1, 4], device='cuda:0')\n",
      "tensor([0, 1, 0, 0, 0], device='cuda:0')\n",
      "tensor([4, 0, 4, 4, 0], device='cuda:0')\n",
      "tensor([4, 4, 0, 4, 4], device='cuda:0')\n",
      "tensor([4, 4, 4, 4, 4], device='cuda:0')\n",
      "tensor([1, 0, 0, 0, 1], device='cuda:0')\n",
      "tensor([4, 1, 4, 4, 4], device='cuda:0')\n",
      "tensor([0, 1, 0, 0, 1], device='cuda:0')\n",
      "tensor([4, 1, 4, 4, 4], device='cuda:0')\n"
     ]
    },
    {
     "name": "stderr",
     "output_type": "stream",
     "text": [
      "  2%|█▌                                                                              | 42/2140 [00:12<09:13,  3.79it/s]"
     ]
    },
    {
     "name": "stdout",
     "output_type": "stream",
     "text": [
      "tensor([4, 4, 4, 4, 4], device='cuda:0')\n",
      "tensor([4, 4, 4, 4, 4], device='cuda:0')\n",
      "tensor([4, 4, 4, 4, 1], device='cuda:0')\n",
      "tensor([4, 4, 4, 4, 4], device='cuda:0')\n",
      "tensor([0, 4, 4, 0, 0], device='cuda:0')\n",
      "tensor([4, 4, 4, 4, 4], device='cuda:0')\n",
      "tensor([4, 4, 4, 4, 4], device='cuda:0')\n",
      "tensor([4, 4, 1, 4, 4], device='cuda:0')\n",
      "tensor([0, 4, 4, 4, 4], device='cuda:0')\n",
      "tensor([0, 0, 0, 0, 0], device='cuda:0')\n"
     ]
    },
    {
     "name": "stderr",
     "output_type": "stream",
     "text": [
      "  2%|█▌                                                                              | 43/2140 [00:12<09:14,  3.78it/s]"
     ]
    },
    {
     "name": "stdout",
     "output_type": "stream",
     "text": [
      "tensor([4, 0, 4, 0, 3], device='cuda:0')\n",
      "tensor([4, 4, 4, 4, 4], device='cuda:0')\n",
      "tensor([4, 4, 4, 0, 4], device='cuda:0')\n",
      "tensor([0, 1, 1, 1, 4], device='cuda:0')\n",
      "tensor([4, 4, 4, 4, 4], device='cuda:0')\n",
      "tensor([4, 4, 4, 4, 4], device='cuda:0')\n",
      "tensor([0, 1, 4, 1, 0], device='cuda:0')\n",
      "tensor([4, 4, 4, 4, 4], device='cuda:0')\n",
      "tensor([4, 4, 4, 4, 4], device='cuda:0')\n",
      "tensor([4, 4, 1, 4, 4], device='cuda:0')\n"
     ]
    },
    {
     "name": "stderr",
     "output_type": "stream",
     "text": [
      "  2%|█▋                                                                              | 44/2140 [00:12<09:12,  3.79it/s]"
     ]
    },
    {
     "name": "stdout",
     "output_type": "stream",
     "text": [
      "tensor([4, 4, 1, 4, 4], device='cuda:0')\n",
      "tensor([0, 3, 3, 4, 0], device='cuda:0')\n",
      "tensor([1, 4, 1, 1, 1], device='cuda:0')\n",
      "tensor([4, 4, 4, 4, 4], device='cuda:0')\n",
      "tensor([4, 4, 1, 4, 4], device='cuda:0')\n",
      "tensor([4, 0, 0, 4, 1], device='cuda:0')\n",
      "tensor([1, 4, 4, 4, 4], device='cuda:0')\n",
      "tensor([4, 4, 4, 0, 4], device='cuda:0')\n",
      "tensor([1, 4, 1, 4, 4], device='cuda:0')\n",
      "tensor([1, 4, 4, 0, 0], device='cuda:0')\n"
     ]
    },
    {
     "name": "stderr",
     "output_type": "stream",
     "text": [
      "  2%|█▋                                                                              | 45/2140 [00:13<09:09,  3.81it/s]"
     ]
    },
    {
     "name": "stdout",
     "output_type": "stream",
     "text": [
      "tensor([0, 4, 4, 0, 4], device='cuda:0')\n",
      "tensor([1, 4, 4, 4, 4], device='cuda:0')\n",
      "tensor([4, 4, 4, 4, 4], device='cuda:0')\n",
      "tensor([4, 4, 4, 4, 4], device='cuda:0')\n",
      "tensor([4, 4, 4, 4, 4], device='cuda:0')\n",
      "tensor([4, 4, 4, 4, 4], device='cuda:0')\n",
      "tensor([4, 4, 4, 4, 4], device='cuda:0')\n",
      "tensor([4, 4, 4, 4, 4], device='cuda:0')\n",
      "tensor([4, 4, 4, 4, 4], device='cuda:0')\n",
      "tensor([0, 4, 4, 4, 0], device='cuda:0')\n"
     ]
    },
    {
     "name": "stderr",
     "output_type": "stream",
     "text": [
      "  2%|█▋                                                                              | 46/2140 [00:13<09:08,  3.82it/s]"
     ]
    },
    {
     "name": "stdout",
     "output_type": "stream",
     "text": [
      "tensor([4, 4, 4, 4, 0], device='cuda:0')\n",
      "tensor([4, 4, 4, 0, 0], device='cuda:0')\n",
      "tensor([4, 4, 4, 4, 0], device='cuda:0')\n",
      "tensor([4, 4, 4, 0, 4], device='cuda:0')\n",
      "tensor([4, 4, 4, 0, 4], device='cuda:0')\n",
      "tensor([1, 1, 4, 0, 4], device='cuda:0')\n",
      "tensor([4, 4, 4, 4, 4], device='cuda:0')\n",
      "tensor([4, 4, 4, 4, 4], device='cuda:0')\n",
      "tensor([4, 4, 4, 4, 4], device='cuda:0')\n",
      "tensor([0, 4, 4, 0, 4], device='cuda:0')\n"
     ]
    },
    {
     "name": "stderr",
     "output_type": "stream",
     "text": [
      "  2%|█▊                                                                              | 47/2140 [00:13<09:11,  3.79it/s]"
     ]
    },
    {
     "name": "stdout",
     "output_type": "stream",
     "text": [
      "tensor([4, 4, 4, 4, 4], device='cuda:0')\n",
      "tensor([4, 0, 1, 1, 4], device='cuda:0')\n",
      "tensor([4, 1, 0, 4, 0], device='cuda:0')\n",
      "tensor([1, 4, 0, 4, 1], device='cuda:0')\n",
      "tensor([4, 4, 4, 4, 4], device='cuda:0')\n",
      "tensor([4, 4, 4, 4, 4], device='cuda:0')\n",
      "tensor([4, 4, 4, 4, 4], device='cuda:0')\n",
      "tensor([4, 4, 4, 4, 4], device='cuda:0')\n",
      "tensor([1, 0, 4, 1, 0], device='cuda:0')\n",
      "tensor([0, 1, 1, 4, 4], device='cuda:0')\n"
     ]
    },
    {
     "name": "stderr",
     "output_type": "stream",
     "text": [
      "  2%|█▊                                                                              | 48/2140 [00:13<09:08,  3.81it/s]"
     ]
    },
    {
     "ename": "KeyboardInterrupt",
     "evalue": "",
     "output_type": "error",
     "traceback": [
      "\u001b[1;31m---------------------------------------------------------------------------\u001b[0m",
      "\u001b[1;31mKeyboardInterrupt\u001b[0m                         Traceback (most recent call last)",
      "\u001b[1;32m<ipython-input-6-49693de9387f>\u001b[0m in \u001b[0;36m<module>\u001b[1;34m\u001b[0m\n\u001b[0;32m      5\u001b[0m \u001b[0mmodel\u001b[0m \u001b[1;33m=\u001b[0m \u001b[0mmodel\u001b[0m\u001b[1;33m.\u001b[0m\u001b[0mcuda\u001b[0m\u001b[1;33m(\u001b[0m\u001b[1;33m)\u001b[0m\u001b[1;33m\u001b[0m\u001b[1;33m\u001b[0m\u001b[0m\n\u001b[0;32m      6\u001b[0m \u001b[0mmodel\u001b[0m\u001b[1;33m.\u001b[0m\u001b[0meval\u001b[0m\u001b[1;33m(\u001b[0m\u001b[1;33m)\u001b[0m\u001b[1;33m\u001b[0m\u001b[1;33m\u001b[0m\u001b[0m\n\u001b[1;32m----> 7\u001b[1;33m \u001b[1;32mfor\u001b[0m \u001b[0mbatch\u001b[0m \u001b[1;32min\u001b[0m \u001b[0mtqdm\u001b[0m\u001b[1;33m(\u001b[0m\u001b[0mtest_data\u001b[0m\u001b[1;33m)\u001b[0m\u001b[1;33m:\u001b[0m\u001b[1;33m\u001b[0m\u001b[1;33m\u001b[0m\u001b[0m\n\u001b[0m\u001b[0;32m      8\u001b[0m \u001b[1;33m\u001b[0m\u001b[0m\n\u001b[0;32m      9\u001b[0m     \u001b[0mX\u001b[0m \u001b[1;33m=\u001b[0m \u001b[0mbatch\u001b[0m\u001b[1;33m[\u001b[0m\u001b[1;36m0\u001b[0m\u001b[1;33m]\u001b[0m\u001b[1;33m\u001b[0m\u001b[1;33m\u001b[0m\u001b[0m\n",
      "\u001b[1;32m~\\Anaconda3\\lib\\site-packages\\tqdm\\std.py\u001b[0m in \u001b[0;36m__iter__\u001b[1;34m(self)\u001b[0m\n\u001b[0;32m   1079\u001b[0m             \"\"\"), fp_write=getattr(self.fp, 'write', sys.stderr.write))\n\u001b[0;32m   1080\u001b[0m \u001b[1;33m\u001b[0m\u001b[0m\n\u001b[1;32m-> 1081\u001b[1;33m         \u001b[1;32mfor\u001b[0m \u001b[0mobj\u001b[0m \u001b[1;32min\u001b[0m \u001b[0miterable\u001b[0m\u001b[1;33m:\u001b[0m\u001b[1;33m\u001b[0m\u001b[1;33m\u001b[0m\u001b[0m\n\u001b[0m\u001b[0;32m   1082\u001b[0m             \u001b[1;32myield\u001b[0m \u001b[0mobj\u001b[0m\u001b[1;33m\u001b[0m\u001b[1;33m\u001b[0m\u001b[0m\n\u001b[0;32m   1083\u001b[0m             \u001b[1;31m# Update and possibly print the progressbar.\u001b[0m\u001b[1;33m\u001b[0m\u001b[1;33m\u001b[0m\u001b[1;33m\u001b[0m\u001b[0m\n",
      "\u001b[1;32m~\\Anaconda3\\lib\\site-packages\\torch\\utils\\data\\dataloader.py\u001b[0m in \u001b[0;36m__next__\u001b[1;34m(self)\u001b[0m\n\u001b[0;32m    343\u001b[0m \u001b[1;33m\u001b[0m\u001b[0m\n\u001b[0;32m    344\u001b[0m     \u001b[1;32mdef\u001b[0m \u001b[0m__next__\u001b[0m\u001b[1;33m(\u001b[0m\u001b[0mself\u001b[0m\u001b[1;33m)\u001b[0m\u001b[1;33m:\u001b[0m\u001b[1;33m\u001b[0m\u001b[1;33m\u001b[0m\u001b[0m\n\u001b[1;32m--> 345\u001b[1;33m         \u001b[0mdata\u001b[0m \u001b[1;33m=\u001b[0m \u001b[0mself\u001b[0m\u001b[1;33m.\u001b[0m\u001b[0m_next_data\u001b[0m\u001b[1;33m(\u001b[0m\u001b[1;33m)\u001b[0m\u001b[1;33m\u001b[0m\u001b[1;33m\u001b[0m\u001b[0m\n\u001b[0m\u001b[0;32m    346\u001b[0m         \u001b[0mself\u001b[0m\u001b[1;33m.\u001b[0m\u001b[0m_num_yielded\u001b[0m \u001b[1;33m+=\u001b[0m \u001b[1;36m1\u001b[0m\u001b[1;33m\u001b[0m\u001b[1;33m\u001b[0m\u001b[0m\n\u001b[0;32m    347\u001b[0m         \u001b[1;32mif\u001b[0m \u001b[0mself\u001b[0m\u001b[1;33m.\u001b[0m\u001b[0m_dataset_kind\u001b[0m \u001b[1;33m==\u001b[0m \u001b[0m_DatasetKind\u001b[0m\u001b[1;33m.\u001b[0m\u001b[0mIterable\u001b[0m \u001b[1;32mand\u001b[0m\u001b[0;31m \u001b[0m\u001b[0;31m\\\u001b[0m\u001b[1;33m\u001b[0m\u001b[1;33m\u001b[0m\u001b[0m\n",
      "\u001b[1;32m~\\Anaconda3\\lib\\site-packages\\torch\\utils\\data\\dataloader.py\u001b[0m in \u001b[0;36m_next_data\u001b[1;34m(self)\u001b[0m\n\u001b[0;32m    383\u001b[0m     \u001b[1;32mdef\u001b[0m \u001b[0m_next_data\u001b[0m\u001b[1;33m(\u001b[0m\u001b[0mself\u001b[0m\u001b[1;33m)\u001b[0m\u001b[1;33m:\u001b[0m\u001b[1;33m\u001b[0m\u001b[1;33m\u001b[0m\u001b[0m\n\u001b[0;32m    384\u001b[0m         \u001b[0mindex\u001b[0m \u001b[1;33m=\u001b[0m \u001b[0mself\u001b[0m\u001b[1;33m.\u001b[0m\u001b[0m_next_index\u001b[0m\u001b[1;33m(\u001b[0m\u001b[1;33m)\u001b[0m  \u001b[1;31m# may raise StopIteration\u001b[0m\u001b[1;33m\u001b[0m\u001b[1;33m\u001b[0m\u001b[0m\n\u001b[1;32m--> 385\u001b[1;33m         \u001b[0mdata\u001b[0m \u001b[1;33m=\u001b[0m \u001b[0mself\u001b[0m\u001b[1;33m.\u001b[0m\u001b[0m_dataset_fetcher\u001b[0m\u001b[1;33m.\u001b[0m\u001b[0mfetch\u001b[0m\u001b[1;33m(\u001b[0m\u001b[0mindex\u001b[0m\u001b[1;33m)\u001b[0m  \u001b[1;31m# may raise StopIteration\u001b[0m\u001b[1;33m\u001b[0m\u001b[1;33m\u001b[0m\u001b[0m\n\u001b[0m\u001b[0;32m    386\u001b[0m         \u001b[1;32mif\u001b[0m \u001b[0mself\u001b[0m\u001b[1;33m.\u001b[0m\u001b[0m_pin_memory\u001b[0m\u001b[1;33m:\u001b[0m\u001b[1;33m\u001b[0m\u001b[1;33m\u001b[0m\u001b[0m\n\u001b[0;32m    387\u001b[0m             \u001b[0mdata\u001b[0m \u001b[1;33m=\u001b[0m \u001b[0m_utils\u001b[0m\u001b[1;33m.\u001b[0m\u001b[0mpin_memory\u001b[0m\u001b[1;33m.\u001b[0m\u001b[0mpin_memory\u001b[0m\u001b[1;33m(\u001b[0m\u001b[0mdata\u001b[0m\u001b[1;33m)\u001b[0m\u001b[1;33m\u001b[0m\u001b[1;33m\u001b[0m\u001b[0m\n",
      "\u001b[1;32m~\\Anaconda3\\lib\\site-packages\\torch\\utils\\data\\_utils\\fetch.py\u001b[0m in \u001b[0;36mfetch\u001b[1;34m(self, possibly_batched_index)\u001b[0m\n\u001b[0;32m     42\u001b[0m     \u001b[1;32mdef\u001b[0m \u001b[0mfetch\u001b[0m\u001b[1;33m(\u001b[0m\u001b[0mself\u001b[0m\u001b[1;33m,\u001b[0m \u001b[0mpossibly_batched_index\u001b[0m\u001b[1;33m)\u001b[0m\u001b[1;33m:\u001b[0m\u001b[1;33m\u001b[0m\u001b[1;33m\u001b[0m\u001b[0m\n\u001b[0;32m     43\u001b[0m         \u001b[1;32mif\u001b[0m \u001b[0mself\u001b[0m\u001b[1;33m.\u001b[0m\u001b[0mauto_collation\u001b[0m\u001b[1;33m:\u001b[0m\u001b[1;33m\u001b[0m\u001b[1;33m\u001b[0m\u001b[0m\n\u001b[1;32m---> 44\u001b[1;33m             \u001b[0mdata\u001b[0m \u001b[1;33m=\u001b[0m \u001b[1;33m[\u001b[0m\u001b[0mself\u001b[0m\u001b[1;33m.\u001b[0m\u001b[0mdataset\u001b[0m\u001b[1;33m[\u001b[0m\u001b[0midx\u001b[0m\u001b[1;33m]\u001b[0m \u001b[1;32mfor\u001b[0m \u001b[0midx\u001b[0m \u001b[1;32min\u001b[0m \u001b[0mpossibly_batched_index\u001b[0m\u001b[1;33m]\u001b[0m\u001b[1;33m\u001b[0m\u001b[1;33m\u001b[0m\u001b[0m\n\u001b[0m\u001b[0;32m     45\u001b[0m         \u001b[1;32melse\u001b[0m\u001b[1;33m:\u001b[0m\u001b[1;33m\u001b[0m\u001b[1;33m\u001b[0m\u001b[0m\n\u001b[0;32m     46\u001b[0m             \u001b[0mdata\u001b[0m \u001b[1;33m=\u001b[0m \u001b[0mself\u001b[0m\u001b[1;33m.\u001b[0m\u001b[0mdataset\u001b[0m\u001b[1;33m[\u001b[0m\u001b[0mpossibly_batched_index\u001b[0m\u001b[1;33m]\u001b[0m\u001b[1;33m\u001b[0m\u001b[1;33m\u001b[0m\u001b[0m\n",
      "\u001b[1;32m~\\Anaconda3\\lib\\site-packages\\torch\\utils\\data\\_utils\\fetch.py\u001b[0m in \u001b[0;36m<listcomp>\u001b[1;34m(.0)\u001b[0m\n\u001b[0;32m     42\u001b[0m     \u001b[1;32mdef\u001b[0m \u001b[0mfetch\u001b[0m\u001b[1;33m(\u001b[0m\u001b[0mself\u001b[0m\u001b[1;33m,\u001b[0m \u001b[0mpossibly_batched_index\u001b[0m\u001b[1;33m)\u001b[0m\u001b[1;33m:\u001b[0m\u001b[1;33m\u001b[0m\u001b[1;33m\u001b[0m\u001b[0m\n\u001b[0;32m     43\u001b[0m         \u001b[1;32mif\u001b[0m \u001b[0mself\u001b[0m\u001b[1;33m.\u001b[0m\u001b[0mauto_collation\u001b[0m\u001b[1;33m:\u001b[0m\u001b[1;33m\u001b[0m\u001b[1;33m\u001b[0m\u001b[0m\n\u001b[1;32m---> 44\u001b[1;33m             \u001b[0mdata\u001b[0m \u001b[1;33m=\u001b[0m \u001b[1;33m[\u001b[0m\u001b[0mself\u001b[0m\u001b[1;33m.\u001b[0m\u001b[0mdataset\u001b[0m\u001b[1;33m[\u001b[0m\u001b[0midx\u001b[0m\u001b[1;33m]\u001b[0m \u001b[1;32mfor\u001b[0m \u001b[0midx\u001b[0m \u001b[1;32min\u001b[0m \u001b[0mpossibly_batched_index\u001b[0m\u001b[1;33m]\u001b[0m\u001b[1;33m\u001b[0m\u001b[1;33m\u001b[0m\u001b[0m\n\u001b[0m\u001b[0;32m     45\u001b[0m         \u001b[1;32melse\u001b[0m\u001b[1;33m:\u001b[0m\u001b[1;33m\u001b[0m\u001b[1;33m\u001b[0m\u001b[0m\n\u001b[0;32m     46\u001b[0m             \u001b[0mdata\u001b[0m \u001b[1;33m=\u001b[0m \u001b[0mself\u001b[0m\u001b[1;33m.\u001b[0m\u001b[0mdataset\u001b[0m\u001b[1;33m[\u001b[0m\u001b[0mpossibly_batched_index\u001b[0m\u001b[1;33m]\u001b[0m\u001b[1;33m\u001b[0m\u001b[1;33m\u001b[0m\u001b[0m\n",
      "\u001b[1;32m~\\Google Drive\\workspace\\kaggle\\Cassava_Leaf_Disease_Classification\\TYonezu\\output\\working\\cassava_dataset\\cassava_dataset.py\u001b[0m in \u001b[0;36m__getitem__\u001b[1;34m(self, index)\u001b[0m\n\u001b[0;32m     50\u001b[0m         \u001b[0mimg_path\u001b[0m \u001b[1;33m=\u001b[0m \u001b[0mself\u001b[0m\u001b[1;33m.\u001b[0m\u001b[0mfile_path\u001b[0m\u001b[1;33m[\u001b[0m\u001b[0mindex\u001b[0m\u001b[1;33m]\u001b[0m\u001b[1;33m\u001b[0m\u001b[1;33m\u001b[0m\u001b[0m\n\u001b[0;32m     51\u001b[0m         \u001b[0mimg\u001b[0m \u001b[1;33m=\u001b[0m \u001b[0mImage\u001b[0m\u001b[1;33m.\u001b[0m\u001b[0mopen\u001b[0m\u001b[1;33m(\u001b[0m\u001b[0mimg_path\u001b[0m\u001b[1;33m)\u001b[0m\u001b[1;33m\u001b[0m\u001b[1;33m\u001b[0m\u001b[0m\n\u001b[1;32m---> 52\u001b[1;33m         \u001b[0mimg\u001b[0m \u001b[1;33m=\u001b[0m \u001b[0mself\u001b[0m\u001b[1;33m.\u001b[0m\u001b[0mtransform\u001b[0m\u001b[1;33m(\u001b[0m\u001b[0mimg\u001b[0m\u001b[1;33m,\u001b[0m \u001b[0mself\u001b[0m\u001b[1;33m.\u001b[0m\u001b[0mphase\u001b[0m\u001b[1;33m)\u001b[0m\u001b[1;33m\u001b[0m\u001b[1;33m\u001b[0m\u001b[0m\n\u001b[0m\u001b[0;32m     53\u001b[0m \u001b[1;33m\u001b[0m\u001b[0m\n\u001b[0;32m     54\u001b[0m         \u001b[0mlabel\u001b[0m \u001b[1;33m=\u001b[0m \u001b[0mself\u001b[0m\u001b[1;33m.\u001b[0m\u001b[0mfile_dict\u001b[0m\u001b[1;33m[\u001b[0m\u001b[0mimg_path\u001b[0m\u001b[1;33m]\u001b[0m\u001b[1;33m\u001b[0m\u001b[1;33m\u001b[0m\u001b[0m\n",
      "\u001b[1;32m~\\Google Drive\\workspace\\kaggle\\Cassava_Leaf_Disease_Classification\\TYonezu\\output\\working\\cassava_dataset\\cassava_dataset.py\u001b[0m in \u001b[0;36m__call__\u001b[1;34m(self, img, phase)\u001b[0m\n\u001b[0;32m     34\u001b[0m \u001b[1;33m\u001b[0m\u001b[0m\n\u001b[0;32m     35\u001b[0m     \u001b[1;32mdef\u001b[0m \u001b[0m__call__\u001b[0m\u001b[1;33m(\u001b[0m\u001b[0mself\u001b[0m\u001b[1;33m,\u001b[0m \u001b[0mimg\u001b[0m\u001b[1;33m,\u001b[0m \u001b[0mphase\u001b[0m\u001b[1;33m=\u001b[0m\u001b[1;34m'train'\u001b[0m\u001b[1;33m)\u001b[0m\u001b[1;33m:\u001b[0m\u001b[1;33m\u001b[0m\u001b[1;33m\u001b[0m\u001b[0m\n\u001b[1;32m---> 36\u001b[1;33m         \u001b[1;32mreturn\u001b[0m \u001b[0mself\u001b[0m\u001b[1;33m.\u001b[0m\u001b[0mdata_transform\u001b[0m\u001b[1;33m[\u001b[0m\u001b[0mphase\u001b[0m\u001b[1;33m]\u001b[0m\u001b[1;33m(\u001b[0m\u001b[0mimg\u001b[0m\u001b[1;33m)\u001b[0m\u001b[1;33m\u001b[0m\u001b[1;33m\u001b[0m\u001b[0m\n\u001b[0m\u001b[0;32m     37\u001b[0m \u001b[1;33m\u001b[0m\u001b[0m\n\u001b[0;32m     38\u001b[0m \u001b[1;33m\u001b[0m\u001b[0m\n",
      "\u001b[1;32m~\\Anaconda3\\lib\\site-packages\\torchvision\\transforms\\transforms.py\u001b[0m in \u001b[0;36m__call__\u001b[1;34m(self, img)\u001b[0m\n\u001b[0;32m     68\u001b[0m     \u001b[1;32mdef\u001b[0m \u001b[0m__call__\u001b[0m\u001b[1;33m(\u001b[0m\u001b[0mself\u001b[0m\u001b[1;33m,\u001b[0m \u001b[0mimg\u001b[0m\u001b[1;33m)\u001b[0m\u001b[1;33m:\u001b[0m\u001b[1;33m\u001b[0m\u001b[1;33m\u001b[0m\u001b[0m\n\u001b[0;32m     69\u001b[0m         \u001b[1;32mfor\u001b[0m \u001b[0mt\u001b[0m \u001b[1;32min\u001b[0m \u001b[0mself\u001b[0m\u001b[1;33m.\u001b[0m\u001b[0mtransforms\u001b[0m\u001b[1;33m:\u001b[0m\u001b[1;33m\u001b[0m\u001b[1;33m\u001b[0m\u001b[0m\n\u001b[1;32m---> 70\u001b[1;33m             \u001b[0mimg\u001b[0m \u001b[1;33m=\u001b[0m \u001b[0mt\u001b[0m\u001b[1;33m(\u001b[0m\u001b[0mimg\u001b[0m\u001b[1;33m)\u001b[0m\u001b[1;33m\u001b[0m\u001b[1;33m\u001b[0m\u001b[0m\n\u001b[0m\u001b[0;32m     71\u001b[0m         \u001b[1;32mreturn\u001b[0m \u001b[0mimg\u001b[0m\u001b[1;33m\u001b[0m\u001b[1;33m\u001b[0m\u001b[0m\n\u001b[0;32m     72\u001b[0m \u001b[1;33m\u001b[0m\u001b[0m\n",
      "\u001b[1;32m~\\Anaconda3\\lib\\site-packages\\torchvision\\transforms\\transforms.py\u001b[0m in \u001b[0;36m__call__\u001b[1;34m(self, img)\u001b[0m\n\u001b[0;32m    205\u001b[0m             \u001b[0mPIL\u001b[0m \u001b[0mImage\u001b[0m\u001b[1;33m:\u001b[0m \u001b[0mRescaled\u001b[0m \u001b[0mimage\u001b[0m\u001b[1;33m.\u001b[0m\u001b[1;33m\u001b[0m\u001b[1;33m\u001b[0m\u001b[0m\n\u001b[0;32m    206\u001b[0m         \"\"\"\n\u001b[1;32m--> 207\u001b[1;33m         \u001b[1;32mreturn\u001b[0m \u001b[0mF\u001b[0m\u001b[1;33m.\u001b[0m\u001b[0mresize\u001b[0m\u001b[1;33m(\u001b[0m\u001b[0mimg\u001b[0m\u001b[1;33m,\u001b[0m \u001b[0mself\u001b[0m\u001b[1;33m.\u001b[0m\u001b[0msize\u001b[0m\u001b[1;33m,\u001b[0m \u001b[0mself\u001b[0m\u001b[1;33m.\u001b[0m\u001b[0minterpolation\u001b[0m\u001b[1;33m)\u001b[0m\u001b[1;33m\u001b[0m\u001b[1;33m\u001b[0m\u001b[0m\n\u001b[0m\u001b[0;32m    208\u001b[0m \u001b[1;33m\u001b[0m\u001b[0m\n\u001b[0;32m    209\u001b[0m     \u001b[1;32mdef\u001b[0m \u001b[0m__repr__\u001b[0m\u001b[1;33m(\u001b[0m\u001b[0mself\u001b[0m\u001b[1;33m)\u001b[0m\u001b[1;33m:\u001b[0m\u001b[1;33m\u001b[0m\u001b[1;33m\u001b[0m\u001b[0m\n",
      "\u001b[1;32m~\\Anaconda3\\lib\\site-packages\\torchvision\\transforms\\functional.py\u001b[0m in \u001b[0;36mresize\u001b[1;34m(img, size, interpolation)\u001b[0m\n\u001b[0;32m    254\u001b[0m             \u001b[1;32mreturn\u001b[0m \u001b[0mimg\u001b[0m\u001b[1;33m.\u001b[0m\u001b[0mresize\u001b[0m\u001b[1;33m(\u001b[0m\u001b[1;33m(\u001b[0m\u001b[0mow\u001b[0m\u001b[1;33m,\u001b[0m \u001b[0moh\u001b[0m\u001b[1;33m)\u001b[0m\u001b[1;33m,\u001b[0m \u001b[0minterpolation\u001b[0m\u001b[1;33m)\u001b[0m\u001b[1;33m\u001b[0m\u001b[1;33m\u001b[0m\u001b[0m\n\u001b[0;32m    255\u001b[0m     \u001b[1;32melse\u001b[0m\u001b[1;33m:\u001b[0m\u001b[1;33m\u001b[0m\u001b[1;33m\u001b[0m\u001b[0m\n\u001b[1;32m--> 256\u001b[1;33m         \u001b[1;32mreturn\u001b[0m \u001b[0mimg\u001b[0m\u001b[1;33m.\u001b[0m\u001b[0mresize\u001b[0m\u001b[1;33m(\u001b[0m\u001b[0msize\u001b[0m\u001b[1;33m[\u001b[0m\u001b[1;33m:\u001b[0m\u001b[1;33m:\u001b[0m\u001b[1;33m-\u001b[0m\u001b[1;36m1\u001b[0m\u001b[1;33m]\u001b[0m\u001b[1;33m,\u001b[0m \u001b[0minterpolation\u001b[0m\u001b[1;33m)\u001b[0m\u001b[1;33m\u001b[0m\u001b[1;33m\u001b[0m\u001b[0m\n\u001b[0m\u001b[0;32m    257\u001b[0m \u001b[1;33m\u001b[0m\u001b[0m\n\u001b[0;32m    258\u001b[0m \u001b[1;33m\u001b[0m\u001b[0m\n",
      "\u001b[1;32m~\\Anaconda3\\lib\\site-packages\\PIL\\Image.py\u001b[0m in \u001b[0;36mresize\u001b[1;34m(self, size, resample, box)\u001b[0m\n\u001b[0;32m   1884\u001b[0m             \u001b[1;32mreturn\u001b[0m \u001b[0mim\u001b[0m\u001b[1;33m.\u001b[0m\u001b[0mconvert\u001b[0m\u001b[1;33m(\u001b[0m\u001b[0mself\u001b[0m\u001b[1;33m.\u001b[0m\u001b[0mmode\u001b[0m\u001b[1;33m)\u001b[0m\u001b[1;33m\u001b[0m\u001b[1;33m\u001b[0m\u001b[0m\n\u001b[0;32m   1885\u001b[0m \u001b[1;33m\u001b[0m\u001b[0m\n\u001b[1;32m-> 1886\u001b[1;33m         \u001b[0mself\u001b[0m\u001b[1;33m.\u001b[0m\u001b[0mload\u001b[0m\u001b[1;33m(\u001b[0m\u001b[1;33m)\u001b[0m\u001b[1;33m\u001b[0m\u001b[1;33m\u001b[0m\u001b[0m\n\u001b[0m\u001b[0;32m   1887\u001b[0m \u001b[1;33m\u001b[0m\u001b[0m\n\u001b[0;32m   1888\u001b[0m         \u001b[1;32mreturn\u001b[0m \u001b[0mself\u001b[0m\u001b[1;33m.\u001b[0m\u001b[0m_new\u001b[0m\u001b[1;33m(\u001b[0m\u001b[0mself\u001b[0m\u001b[1;33m.\u001b[0m\u001b[0mim\u001b[0m\u001b[1;33m.\u001b[0m\u001b[0mresize\u001b[0m\u001b[1;33m(\u001b[0m\u001b[0msize\u001b[0m\u001b[1;33m,\u001b[0m \u001b[0mresample\u001b[0m\u001b[1;33m,\u001b[0m \u001b[0mbox\u001b[0m\u001b[1;33m)\u001b[0m\u001b[1;33m)\u001b[0m\u001b[1;33m\u001b[0m\u001b[1;33m\u001b[0m\u001b[0m\n",
      "\u001b[1;32m~\\Anaconda3\\lib\\site-packages\\PIL\\ImageFile.py\u001b[0m in \u001b[0;36mload\u001b[1;34m(self)\u001b[0m\n\u001b[0;32m    251\u001b[0m \u001b[1;33m\u001b[0m\u001b[0m\n\u001b[0;32m    252\u001b[0m                             \u001b[0mb\u001b[0m \u001b[1;33m=\u001b[0m \u001b[0mb\u001b[0m \u001b[1;33m+\u001b[0m \u001b[0ms\u001b[0m\u001b[1;33m\u001b[0m\u001b[1;33m\u001b[0m\u001b[0m\n\u001b[1;32m--> 253\u001b[1;33m                             \u001b[0mn\u001b[0m\u001b[1;33m,\u001b[0m \u001b[0merr_code\u001b[0m \u001b[1;33m=\u001b[0m \u001b[0mdecoder\u001b[0m\u001b[1;33m.\u001b[0m\u001b[0mdecode\u001b[0m\u001b[1;33m(\u001b[0m\u001b[0mb\u001b[0m\u001b[1;33m)\u001b[0m\u001b[1;33m\u001b[0m\u001b[1;33m\u001b[0m\u001b[0m\n\u001b[0m\u001b[0;32m    254\u001b[0m                             \u001b[1;32mif\u001b[0m \u001b[0mn\u001b[0m \u001b[1;33m<\u001b[0m \u001b[1;36m0\u001b[0m\u001b[1;33m:\u001b[0m\u001b[1;33m\u001b[0m\u001b[1;33m\u001b[0m\u001b[0m\n\u001b[0;32m    255\u001b[0m                                 \u001b[1;32mbreak\u001b[0m\u001b[1;33m\u001b[0m\u001b[1;33m\u001b[0m\u001b[0m\n",
      "\u001b[1;31mKeyboardInterrupt\u001b[0m: "
     ]
    }
   ],
   "source": [
    "pred_class = np.array([])\n",
    "\n",
    "TTA = TestTimeAugmentation(model=model,size=size)\n",
    "\n",
    "model = model.cuda()\n",
    "model.eval()\n",
    "for batch in tqdm(test_data):\n",
    "    \n",
    "    X = batch[0]\n",
    "    y = batch[1]\n",
    "    \n",
    "    pred = TTA.predict(X)\n",
    "    #pred = model(X.cuda())\n",
    "    pred = torch.argmax(pred,axis=1)\n",
    "    pred_class = np.append(pred_class,pred.cpu().numpy())\n",
    "\n",
    "    \n",
    "#submission\n",
    "sub_df = x\n",
    "sub_df[\"label\"] = pred_class.astype(\"int64\")\n",
    "sub_df = sub_df[[\"image_id\",\"label\"]]\n",
    "sub_df.to_csv(\"submission.csv\",index=False)\n",
    "\n",
    "sub_df"
   ]
  },
  {
   "cell_type": "code",
   "execution_count": null,
   "metadata": {},
   "outputs": [],
   "source": [
    "sub_df.columns = [\"image_id\",\"pred\"]\n",
    "\n",
    "x = pd.read_csv(os.path.join(input_dir,\"train.csv\"))\n",
    "x = pd.merge(x,sub_df,on=\"image_id\")\n",
    "x"
   ]
  },
  {
   "cell_type": "code",
   "execution_count": null,
   "metadata": {},
   "outputs": [],
   "source": [
    "(x[\"pred\"] == x[\"label\"]).mean()"
   ]
  },
  {
   "cell_type": "code",
   "execution_count": null,
   "metadata": {},
   "outputs": [],
   "source": []
  }
 ],
 "metadata": {
  "kernelspec": {
   "display_name": "Python 3",
   "language": "python",
   "name": "python3"
  },
  "language_info": {
   "codemirror_mode": {
    "name": "ipython",
    "version": 3
   },
   "file_extension": ".py",
   "mimetype": "text/x-python",
   "name": "python",
   "nbconvert_exporter": "python",
   "pygments_lexer": "ipython3",
   "version": "3.7.4"
  },
  "papermill": {
   "duration": 16.85143,
   "end_time": "2021-01-15T01:39:40.680777",
   "environment_variables": {},
   "exception": null,
   "input_path": "__notebook__.ipynb",
   "output_path": "__notebook__.ipynb",
   "parameters": {},
   "start_time": "2021-01-15T01:39:23.829347",
   "version": "2.1.0"
  }
 },
 "nbformat": 4,
 "nbformat_minor": 4
}
