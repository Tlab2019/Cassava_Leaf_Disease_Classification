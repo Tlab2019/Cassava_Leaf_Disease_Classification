{
 "cells": [
  {
   "cell_type": "markdown",
   "metadata": {},
   "source": [
    "# **Cassava Ensemble prediction**\n",
    "2021/01/21 written by T.Yonezu"
   ]
  },
  {
   "cell_type": "code",
   "execution_count": 1,
   "metadata": {},
   "outputs": [],
   "source": [
    "if False:\n",
    "    !pip install \"../input/efficientnet-pytorch-07/efficientnet_pytorch-0.7.0\""
   ]
  },
  {
   "cell_type": "code",
   "execution_count": 16,
   "metadata": {},
   "outputs": [
    {
     "name": "stdout",
     "output_type": "stream",
     "text": [
      "The autoreload extension is already loaded. To reload it, use:\n",
      "  %reload_ext autoreload\n"
     ]
    }
   ],
   "source": [
    "%load_ext autoreload\n",
    "%autoreload 2\n",
    "\n",
    "import torch\n",
    "from torch.utils.data import DataLoader, Dataset\n",
    "\n",
    "import numpy as np \n",
    "import matplotlib.pyplot as plt\n",
    "import pandas as pd\n",
    "import glob \n",
    "import os\n",
    "from tqdm import tqdm\n",
    "\n",
    "from cassava_dataset import *\n",
    "\n",
    "import warnings\n",
    "warnings.simplefilter('ignore')"
   ]
  },
  {
   "cell_type": "code",
   "execution_count": 17,
   "metadata": {},
   "outputs": [],
   "source": [
    "INPUT_DIR = os.path.join('..',\"..\", 'input')"
   ]
  },
  {
   "cell_type": "code",
   "execution_count": 18,
   "metadata": {},
   "outputs": [],
   "source": [
    "x = np.atleast_2d(glob.glob(os.path.join(INPUT_DIR, 'cassava-leaf-disease-classification', 'train_images',\"*.jpg\")))\n",
    "x = x.T\n",
    "x = pd.DataFrame(columns=[\"image_path\"], data=x)\n",
    "tmp = x[\"image_path\"].str.split(os.path.sep,expand=True)\n",
    "x[\"image_id\"] = tmp[len(tmp.columns)-1]\n",
    "x[\"label\"] = np.nan\n",
    "\n",
    "test_dict = dict( zip(x[\"image_path\"],x[\"label\"]) )"
   ]
  },
  {
   "cell_type": "code",
   "execution_count": 19,
   "metadata": {},
   "outputs": [
    {
     "name": "stdout",
     "output_type": "stream",
     "text": [
      "##### use_models #####\n"
     ]
    },
    {
     "data": {
      "text/html": [
       "<div>\n",
       "<style scoped>\n",
       "    .dataframe tbody tr th:only-of-type {\n",
       "        vertical-align: middle;\n",
       "    }\n",
       "\n",
       "    .dataframe tbody tr th {\n",
       "        vertical-align: top;\n",
       "    }\n",
       "\n",
       "    .dataframe thead th {\n",
       "        text-align: right;\n",
       "    }\n",
       "</style>\n",
       "<table border=\"1\" class=\"dataframe\">\n",
       "  <thead>\n",
       "    <tr style=\"text-align: right;\">\n",
       "      <th></th>\n",
       "      <th>file_name</th>\n",
       "      <th>nn_name</th>\n",
       "      <th>image_width</th>\n",
       "      <th>image_height</th>\n",
       "    </tr>\n",
       "  </thead>\n",
       "  <tbody>\n",
       "    <tr>\n",
       "      <td>0</td>\n",
       "      <td>ResNeXt50_30x4d_cassava(512x512)_EqualizedLabe...</td>\n",
       "      <td>resnext50_32x4d</td>\n",
       "      <td>512</td>\n",
       "      <td>512</td>\n",
       "    </tr>\n",
       "    <tr>\n",
       "      <td>1</td>\n",
       "      <td>ResNet50_cassava(800x600)_EqualizedLabel_finet...</td>\n",
       "      <td>resnet50</td>\n",
       "      <td>800</td>\n",
       "      <td>600</td>\n",
       "    </tr>\n",
       "    <tr>\n",
       "      <td>3</td>\n",
       "      <td>ResNet50_cassava(512x512)_EqualizedLabel_finet...</td>\n",
       "      <td>resnet50</td>\n",
       "      <td>512</td>\n",
       "      <td>512</td>\n",
       "    </tr>\n",
       "    <tr>\n",
       "      <td>2</td>\n",
       "      <td>VGG11_cassava(512x512)_EqualizedLabel_finetune...</td>\n",
       "      <td>vgg11</td>\n",
       "      <td>512</td>\n",
       "      <td>512</td>\n",
       "    </tr>\n",
       "    <tr>\n",
       "      <td>8</td>\n",
       "      <td>ResNet50_cassava_EqualizedLabel_finetuned_10Ep...</td>\n",
       "      <td>resnet50</td>\n",
       "      <td>224</td>\n",
       "      <td>224</td>\n",
       "    </tr>\n",
       "    <tr>\n",
       "      <td>4</td>\n",
       "      <td>ResNet50_cassava(512x512)_EqualizedLabel_finet...</td>\n",
       "      <td>resnet50</td>\n",
       "      <td>512</td>\n",
       "      <td>512</td>\n",
       "    </tr>\n",
       "    <tr>\n",
       "      <td>9</td>\n",
       "      <td>VGG11_cassava_EqualizedLabel_finetuned_50Epoch...</td>\n",
       "      <td>vgg11</td>\n",
       "      <td>224</td>\n",
       "      <td>224</td>\n",
       "    </tr>\n",
       "    <tr>\n",
       "      <td>7</td>\n",
       "      <td>ResNet50_32x4d_cassava_EqualizedLabel_finetune...</td>\n",
       "      <td>resnext50_32x4d</td>\n",
       "      <td>224</td>\n",
       "      <td>224</td>\n",
       "    </tr>\n",
       "    <tr>\n",
       "      <td>5</td>\n",
       "      <td>EfficientNet-b3_cassava_EqualizedLabel_finetun...</td>\n",
       "      <td>efficientnet-b3</td>\n",
       "      <td>224</td>\n",
       "      <td>224</td>\n",
       "    </tr>\n",
       "    <tr>\n",
       "      <td>6</td>\n",
       "      <td>EfficientNet-b7_cassava_EqualizedLabel_finetun...</td>\n",
       "      <td>efficientnet-b7</td>\n",
       "      <td>224</td>\n",
       "      <td>224</td>\n",
       "    </tr>\n",
       "  </tbody>\n",
       "</table>\n",
       "</div>"
      ],
      "text/plain": [
       "                                           file_name          nn_name  \\\n",
       "0  ResNeXt50_30x4d_cassava(512x512)_EqualizedLabe...  resnext50_32x4d   \n",
       "1  ResNet50_cassava(800x600)_EqualizedLabel_finet...         resnet50   \n",
       "3  ResNet50_cassava(512x512)_EqualizedLabel_finet...         resnet50   \n",
       "2  VGG11_cassava(512x512)_EqualizedLabel_finetune...            vgg11   \n",
       "8  ResNet50_cassava_EqualizedLabel_finetuned_10Ep...         resnet50   \n",
       "4  ResNet50_cassava(512x512)_EqualizedLabel_finet...         resnet50   \n",
       "9  VGG11_cassava_EqualizedLabel_finetuned_50Epoch...            vgg11   \n",
       "7  ResNet50_32x4d_cassava_EqualizedLabel_finetune...  resnext50_32x4d   \n",
       "5  EfficientNet-b3_cassava_EqualizedLabel_finetun...  efficientnet-b3   \n",
       "6  EfficientNet-b7_cassava_EqualizedLabel_finetun...  efficientnet-b7   \n",
       "\n",
       "   image_width  image_height  \n",
       "0          512           512  \n",
       "1          800           600  \n",
       "3          512           512  \n",
       "2          512           512  \n",
       "8          224           224  \n",
       "4          512           512  \n",
       "9          224           224  \n",
       "7          224           224  \n",
       "5          224           224  \n",
       "6          224           224  "
      ]
     },
     "metadata": {},
     "output_type": "display_data"
    }
   ],
   "source": [
    "models_info = pd.read_csv(os.path.join(INPUT_DIR,\"cassava-models\",\"models-info.csv\"))\n",
    "models_info = models_info.sort_values(\"public_score\")[::-1]\n",
    "models_info = models_info[[\"file_name\",\"nn_name\",\"image_width\",\"image_height\"]]\n",
    "use_models = models_info\n",
    "\n",
    "print(\"##### use_models #####\")\n",
    "display(use_models)"
   ]
  },
  {
   "cell_type": "code",
   "execution_count": 20,
   "metadata": {},
   "outputs": [],
   "source": [
    "MODEL_DIR = os.path.join(INPUT_DIR,\"cassava-models\")"
   ]
  },
  {
   "cell_type": "code",
   "execution_count": 21,
   "metadata": {},
   "outputs": [
    {
     "name": "stderr",
     "output_type": "stream",
     "text": [
      "  1%|▊                                                                             | 208/21397 [00:07<12:11, 28.98it/s]\n"
     ]
    },
    {
     "ename": "KeyboardInterrupt",
     "evalue": "",
     "output_type": "error",
     "traceback": [
      "\u001b[1;31m---------------------------------------------------------------------------\u001b[0m",
      "\u001b[1;31mKeyboardInterrupt\u001b[0m                         Traceback (most recent call last)",
      "\u001b[1;32m<ipython-input-21-47c08a086a17>\u001b[0m in \u001b[0;36m<module>\u001b[1;34m\u001b[0m\n\u001b[0;32m     43\u001b[0m                                    \u001b[0mtest_dataloader\u001b[0m\u001b[1;33m=\u001b[0m\u001b[0mtest_dataloader\u001b[0m\u001b[1;33m,\u001b[0m\u001b[1;33m\u001b[0m\u001b[1;33m\u001b[0m\u001b[0m\n\u001b[0;32m     44\u001b[0m                                    \u001b[0msub_df\u001b[0m\u001b[1;33m=\u001b[0m\u001b[0mx\u001b[0m\u001b[1;33m,\u001b[0m\u001b[1;33m\u001b[0m\u001b[1;33m\u001b[0m\u001b[0m\n\u001b[1;32m---> 45\u001b[1;33m                                    device=\"cuda\")\n\u001b[0m\u001b[0;32m     46\u001b[0m     \u001b[0moutput\u001b[0m\u001b[1;33m[\u001b[0m\u001b[1;34m\"file_name\"\u001b[0m\u001b[1;33m]\u001b[0m \u001b[1;33m=\u001b[0m \u001b[0mfile_name\u001b[0m\u001b[1;33m\u001b[0m\u001b[1;33m\u001b[0m\u001b[0m\n\u001b[0;32m     47\u001b[0m     \u001b[0moutput\u001b[0m\u001b[1;33m[\u001b[0m\u001b[1;34m\"nn_name\"\u001b[0m\u001b[1;33m]\u001b[0m \u001b[1;33m=\u001b[0m \u001b[0mnn_name\u001b[0m\u001b[1;33m\u001b[0m\u001b[1;33m\u001b[0m\u001b[0m\n",
      "\u001b[1;32m~\\Google Drive\\workspace\\kaggle\\Cassava_Leaf_Disease_Classification\\TYonezu\\output\\working\\cassava_dataset\\cassava_dataset.py\u001b[0m in \u001b[0;36mcassava_predict_proba\u001b[1;34m(model, test_dataloader, sub_df, device)\u001b[0m\n\u001b[0;32m    105\u001b[0m         \u001b[0mpred\u001b[0m \u001b[1;33m=\u001b[0m \u001b[0mmodel\u001b[0m\u001b[1;33m(\u001b[0m\u001b[0mX\u001b[0m\u001b[1;33m)\u001b[0m\u001b[1;33m\u001b[0m\u001b[1;33m\u001b[0m\u001b[0m\n\u001b[0;32m    106\u001b[0m         \u001b[0mpred\u001b[0m \u001b[1;33m=\u001b[0m \u001b[0mtorch\u001b[0m\u001b[1;33m.\u001b[0m\u001b[0mnn\u001b[0m\u001b[1;33m.\u001b[0m\u001b[0mSoftmax\u001b[0m\u001b[1;33m(\u001b[0m\u001b[0mdim\u001b[0m\u001b[1;33m=\u001b[0m\u001b[1;36m1\u001b[0m\u001b[1;33m)\u001b[0m\u001b[1;33m(\u001b[0m\u001b[0mpred\u001b[0m\u001b[1;33m)\u001b[0m\u001b[1;33m\u001b[0m\u001b[1;33m\u001b[0m\u001b[0m\n\u001b[1;32m--> 107\u001b[1;33m         \u001b[0mpred\u001b[0m \u001b[1;33m=\u001b[0m \u001b[0mpred\u001b[0m\u001b[1;33m.\u001b[0m\u001b[0mcpu\u001b[0m\u001b[1;33m(\u001b[0m\u001b[1;33m)\u001b[0m\u001b[1;33m.\u001b[0m\u001b[0mdetach\u001b[0m\u001b[1;33m(\u001b[0m\u001b[1;33m)\u001b[0m\u001b[1;33m.\u001b[0m\u001b[0mnumpy\u001b[0m\u001b[1;33m(\u001b[0m\u001b[1;33m)\u001b[0m\u001b[1;33m\u001b[0m\u001b[1;33m\u001b[0m\u001b[0m\n\u001b[0m\u001b[0;32m    108\u001b[0m \u001b[1;33m\u001b[0m\u001b[0m\n\u001b[0;32m    109\u001b[0m         pred = pd.DataFrame(columns=cols,\n",
      "\u001b[1;31mKeyboardInterrupt\u001b[0m: "
     ]
    }
   ],
   "source": [
    "from torch import nn\n",
    "from efficientnet_pytorch import EfficientNet\n",
    "import torchvision.models as models\n",
    "\n",
    "all_outputs = []\n",
    "for index,file_name,nn_name,img_w,img_h in use_models.itertuples():\n",
    "    \n",
    "    # load model\n",
    "    if nn_name == \"vgg11\":\n",
    "        model = models.vgg11(pretrained=True)\n",
    "        model.classifier[6] = nn.Linear(in_features=4096, out_features=5, bias=True)\n",
    "    \n",
    "    if nn_name == \"efficientnet-b7\":\n",
    "        model = EfficientNet.from_name(\"efficientnet-b7\")\n",
    "        model._fc = nn.Linear(in_features=2560, out_features=5, bias=True)\n",
    "\n",
    "    if nn_name == \"efficientnet-b3\":\n",
    "        model = EfficientNet.from_name(\"efficientnet-b3\")\n",
    "        model._fc = nn.Linear(in_features=1536, out_features=5, bias=True)\n",
    "\n",
    "    if nn_name == \"resnext50_32x4d\":\n",
    "        model = models.resnext50_32x4d(pretrained=True)\n",
    "        model.fc = nn.Linear(in_features=2048, out_features=5, bias=True)\n",
    "\n",
    "    if nn_name == \"resnet50\":\n",
    "        model = models.resnet50(pretrained=True)\n",
    "        model.fc = nn.Linear(in_features=2048, out_features=5, bias=True)\n",
    "    \n",
    "    PATH = os.path.join(MODEL_DIR,file_name)\n",
    "    model.load_state_dict(torch.load(PATH))\n",
    "    \n",
    "    \n",
    "    # make test_dataloader\n",
    "    size = (img_w,img_h)\n",
    "    mean = [0.485, 0.456, 0.406]\n",
    "    std=[0.229, 0.224, 0.225]\n",
    "\n",
    "    transform = ImageTransform(size,mean,std)\n",
    "    test_dataloader = DataLoader(dataset = CassavaDataset(test_dict,transform=transform),\n",
    "                                 batch_size = 1)\n",
    "\n",
    "    output = cassava_predict_proba(model=model,\n",
    "                                   test_dataloader=test_dataloader,\n",
    "                                   sub_df=x,\n",
    "                                   device=\"cuda\")\n",
    "    output[\"file_name\"] = file_name\n",
    "    output[\"nn_name\"] = nn_name\n",
    "    \n",
    "    all_outputs.append(output)\n",
    "    \n",
    "all_outputs = pd.concat(all_outputs)\n",
    "display(all_outputs)"
   ]
  },
  {
   "cell_type": "code",
   "execution_count": null,
   "metadata": {},
   "outputs": [],
   "source": [
    "cols = [\"class0_proba\",\n",
    "        \"class1_proba\",\n",
    "        \"class2_proba\",\n",
    "        \"class3_proba\",\n",
    "        \"class4_proba\"]\n",
    "\n",
    "pred = all_outputs.groupby(\"image_id\")[cols].mean()\n",
    "pred = pred.reset_index()\n",
    "sub_df = x\n",
    "\n",
    "sub_df = pd.merge(sub_df,pred,on=\"image_id\")\n",
    "sub_df[\"pred_label\"] = sub_df[cols].values.argmax(axis=1)\n",
    "sub_df = sub_df[[\"image_id\",\"pred_label\"]]\n",
    "sub_df = sub_df.rename(columns={\"pred_label\":\"label\"})\n",
    "\n",
    "sub_df[\"label\"] = sub_df[\"label\"].astype(\"int64\")\n",
    "sub_df.to_csv(\"submission.csv\",index=False)\n",
    "\n",
    "sub_df"
   ]
  },
  {
   "cell_type": "code",
   "execution_count": null,
   "metadata": {},
   "outputs": [],
   "source": []
  }
 ],
 "metadata": {
  "kernelspec": {
   "display_name": "Python 3",
   "language": "python",
   "name": "python3"
  },
  "language_info": {
   "codemirror_mode": {
    "name": "ipython",
    "version": 3
   },
   "file_extension": ".py",
   "mimetype": "text/x-python",
   "name": "python",
   "nbconvert_exporter": "python",
   "pygments_lexer": "ipython3",
   "version": "3.7.4"
  }
 },
 "nbformat": 4,
 "nbformat_minor": 4
}
