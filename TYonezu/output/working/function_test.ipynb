{
 "cells": [
  {
   "cell_type": "code",
   "execution_count": 14,
   "metadata": {},
   "outputs": [],
   "source": [
    "import numpy as np \n",
    "import matplotlib.pyplot as plt\n",
    "import os\n",
    "import pandas as pd\n",
    "import glob"
   ]
  },
  {
   "cell_type": "code",
   "execution_count": 15,
   "metadata": {},
   "outputs": [],
   "source": [
    "input_dir = os.path.join('..',\"..\", 'input', 'cassava-leaf-disease-classification')"
   ]
  },
  {
   "cell_type": "code",
   "execution_count": 16,
   "metadata": {},
   "outputs": [],
   "source": [
    "x = pd.read_csv(os.path.join(input_dir, 'train.csv'))\n",
    "x[\"image_path\"] = os.path.join(input_dir,\"train_images\")\n",
    "x[\"image_path\"] = x[\"image_path\"].str.cat(x[\"image_id\"], sep=os.path.sep)\n",
    "\n",
    "train_dict = dict( zip(x[\"image_path\"],x[\"label\"]) )"
   ]
  },
  {
   "cell_type": "code",
   "execution_count": 20,
   "metadata": {},
   "outputs": [
    {
     "data": {
      "image/png": "[encoded data removed]",
      "text/plain": [
       "<Figure size 432x288 with 1 Axes>"
      ]
     },
     "metadata": {
      "needs_background": "light"
     },
     "output_type": "display_data"
    }
   ],
   "source": [
    "train_df = x[[\"image_path\",\"label\"]]\n",
    "label_num = train_df.groupby(\"label\")[\"label\"].count()\n",
    "\n",
    "label_num.plot.bar()\n",
    "plt.grid()\n",
    "plt.show()"
   ]
  },
  {
   "cell_type": "code",
   "execution_count": 26,
   "metadata": {},
   "outputs": [
    {
     "data": {
      "image/png": "[encoded data removed]",
      "text/plain": [
       "<Figure size 432x288 with 1 Axes>"
      ]
     },
     "metadata": {
      "needs_background": "light"
     },
     "output_type": "display_data"
    }
   ],
   "source": [
    "NUM = 1000\n",
    "\n",
    "train_df = x[[\"image_path\",\"label\"]]\n",
    "label_num = train_df.groupby(\"label\")[\"label\"].count()\n",
    "\n",
    "out = pd.concat( [df.sample(n=NUM, replace=True) for l,df in train_df.groupby(\"label\")] )\n",
    "\n",
    "label_num = out.groupby(\"label\")[\"label\"].count()\n",
    "\n",
    "label_num.plot.bar()\n",
    "plt.grid()\n",
    "plt.show()"
   ]
  },
  {
   "cell_type": "code",
   "execution_count": 28,
   "metadata": {},
   "outputs": [],
   "source": [
    "def EqualizeLabels(train_df,NUM):\n",
    "    train_df = train_df[[\"image_id\",\"image_path\",\"label\"]]\n",
    "    out = pd.concat( [df.sample(n=NUM, replace=True) for l,df in train_df.groupby(\"label\")] )\n",
    "\n",
    "    return out"
   ]
  },
  {
   "cell_type": "code",
   "execution_count": 31,
   "metadata": {},
   "outputs": [
    {
     "data": {
      "text/html": [
       "<div>\n",
       "<style scoped>\n",
       "    .dataframe tbody tr th:only-of-type {\n",
       "        vertical-align: middle;\n",
       "    }\n",
       "\n",
       "    .dataframe tbody tr th {\n",
       "        vertical-align: top;\n",
       "    }\n",
       "\n",
       "    .dataframe thead th {\n",
       "        text-align: right;\n",
       "    }\n",
       "</style>\n",
       "<table border=\"1\" class=\"dataframe\">\n",
       "  <thead>\n",
       "    <tr style=\"text-align: right;\">\n",
       "      <th></th>\n",
       "      <th>image_id</th>\n",
       "      <th>image_path</th>\n",
       "      <th>label</th>\n",
       "    </tr>\n",
       "  </thead>\n",
       "  <tbody>\n",
       "    <tr>\n",
       "      <td>18840</td>\n",
       "      <td>519050764.jpg</td>\n",
       "      <td>..\\..\\input\\cassava-leaf-disease-classificatio...</td>\n",
       "      <td>0</td>\n",
       "    </tr>\n",
       "    <tr>\n",
       "      <td>12668</td>\n",
       "      <td>3269646431.jpg</td>\n",
       "      <td>..\\..\\input\\cassava-leaf-disease-classificatio...</td>\n",
       "      <td>0</td>\n",
       "    </tr>\n",
       "    <tr>\n",
       "      <td>16382</td>\n",
       "      <td>3950368220.jpg</td>\n",
       "      <td>..\\..\\input\\cassava-leaf-disease-classificatio...</td>\n",
       "      <td>0</td>\n",
       "    </tr>\n",
       "    <tr>\n",
       "      <td>482</td>\n",
       "      <td>1085950509.jpg</td>\n",
       "      <td>..\\..\\input\\cassava-leaf-disease-classificatio...</td>\n",
       "      <td>0</td>\n",
       "    </tr>\n",
       "    <tr>\n",
       "      <td>1831</td>\n",
       "      <td>1322108824.jpg</td>\n",
       "      <td>..\\..\\input\\cassava-leaf-disease-classificatio...</td>\n",
       "      <td>0</td>\n",
       "    </tr>\n",
       "    <tr>\n",
       "      <td>...</td>\n",
       "      <td>...</td>\n",
       "      <td>...</td>\n",
       "      <td>...</td>\n",
       "    </tr>\n",
       "    <tr>\n",
       "      <td>16117</td>\n",
       "      <td>3902577668.jpg</td>\n",
       "      <td>..\\..\\input\\cassava-leaf-disease-classificatio...</td>\n",
       "      <td>4</td>\n",
       "    </tr>\n",
       "    <tr>\n",
       "      <td>6471</td>\n",
       "      <td>2159752225.jpg</td>\n",
       "      <td>..\\..\\input\\cassava-leaf-disease-classificatio...</td>\n",
       "      <td>4</td>\n",
       "    </tr>\n",
       "    <tr>\n",
       "      <td>11292</td>\n",
       "      <td>3018000932.jpg</td>\n",
       "      <td>..\\..\\input\\cassava-leaf-disease-classificatio...</td>\n",
       "      <td>4</td>\n",
       "    </tr>\n",
       "    <tr>\n",
       "      <td>14518</td>\n",
       "      <td>3600939032.jpg</td>\n",
       "      <td>..\\..\\input\\cassava-leaf-disease-classificatio...</td>\n",
       "      <td>4</td>\n",
       "    </tr>\n",
       "    <tr>\n",
       "      <td>15233</td>\n",
       "      <td>3737986834.jpg</td>\n",
       "      <td>..\\..\\input\\cassava-leaf-disease-classificatio...</td>\n",
       "      <td>4</td>\n",
       "    </tr>\n",
       "  </tbody>\n",
       "</table>\n",
       "<p>2500 rows × 3 columns</p>\n",
       "</div>"
      ],
      "text/plain": [
       "             image_id                                         image_path  \\\n",
       "18840   519050764.jpg  ..\\..\\input\\cassava-leaf-disease-classificatio...   \n",
       "12668  3269646431.jpg  ..\\..\\input\\cassava-leaf-disease-classificatio...   \n",
       "16382  3950368220.jpg  ..\\..\\input\\cassava-leaf-disease-classificatio...   \n",
       "482    1085950509.jpg  ..\\..\\input\\cassava-leaf-disease-classificatio...   \n",
       "1831   1322108824.jpg  ..\\..\\input\\cassava-leaf-disease-classificatio...   \n",
       "...               ...                                                ...   \n",
       "16117  3902577668.jpg  ..\\..\\input\\cassava-leaf-disease-classificatio...   \n",
       "6471   2159752225.jpg  ..\\..\\input\\cassava-leaf-disease-classificatio...   \n",
       "11292  3018000932.jpg  ..\\..\\input\\cassava-leaf-disease-classificatio...   \n",
       "14518  3600939032.jpg  ..\\..\\input\\cassava-leaf-disease-classificatio...   \n",
       "15233  3737986834.jpg  ..\\..\\input\\cassava-leaf-disease-classificatio...   \n",
       "\n",
       "       label  \n",
       "18840      0  \n",
       "12668      0  \n",
       "16382      0  \n",
       "482        0  \n",
       "1831       0  \n",
       "...      ...  \n",
       "16117      4  \n",
       "6471       4  \n",
       "11292      4  \n",
       "14518      4  \n",
       "15233      4  \n",
       "\n",
       "[2500 rows x 3 columns]"
      ]
     },
     "execution_count": 31,
     "metadata": {},
     "output_type": "execute_result"
    }
   ],
   "source": [
    "x = pd.read_csv(os.path.join(input_dir, 'train.csv'))\n",
    "x[\"image_path\"] = os.path.join(input_dir,\"train_images\")\n",
    "x[\"image_path\"] = x[\"image_path\"].str.cat(x[\"image_id\"], sep=os.path.sep)\n",
    "\n",
    "\n",
    "train_df = EqualizeLabels(x,NUM=500)\n",
    "train_dict = dict( zip(x[\"image_path\"],x[\"label\"]) )\n",
    "\n",
    "train_df"
   ]
  },
  {
   "cell_type": "code",
   "execution_count": null,
   "metadata": {},
   "outputs": [],
   "source": []
  }
 ],
 "metadata": {
  "kernelspec": {
   "display_name": "Python 3",
   "language": "python",
   "name": "python3"
  },
  "language_info": {
   "codemirror_mode": {
    "name": "ipython",
    "version": 3
   },
   "file_extension": ".py",
   "mimetype": "text/x-python",
   "name": "python",
   "nbconvert_exporter": "python",
   "pygments_lexer": "ipython3",
   "version": "3.7.4"
  }
 },
 "nbformat": 4,
 "nbformat_minor": 4
}
